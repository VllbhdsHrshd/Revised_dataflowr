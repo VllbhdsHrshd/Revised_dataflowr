{
 "cells": [
  {
   "cell_type": "code",
   "execution_count": 1,
   "id": "608c22fb",
   "metadata": {
    "_cell_guid": "b1076dfc-b9ad-4769-8c92-a6c4dae69d19",
    "_uuid": "8f2839f25d086af736a60e9eeb907d3b93b6e0e5",
    "execution": {
     "iopub.execute_input": "2023-11-01T09:42:47.219847Z",
     "iopub.status.busy": "2023-11-01T09:42:47.219455Z",
     "iopub.status.idle": "2023-11-01T09:42:50.538644Z",
     "shell.execute_reply": "2023-11-01T09:42:50.537795Z"
    },
    "papermill": {
     "duration": 3.329023,
     "end_time": "2023-11-01T09:42:50.540998",
     "exception": false,
     "start_time": "2023-11-01T09:42:47.211975",
     "status": "completed"
    },
    "tags": []
   },
   "outputs": [],
   "source": [
    "import numpy as np\n",
    "import torch as tr\n",
    "import matplotlib.pyplot as plt\n",
    "# import torchvision"
   ]
  },
  {
   "cell_type": "code",
   "execution_count": 2,
   "id": "8952e933",
   "metadata": {
    "execution": {
     "iopub.execute_input": "2023-11-01T09:42:50.553592Z",
     "iopub.status.busy": "2023-11-01T09:42:50.553197Z",
     "iopub.status.idle": "2023-11-01T09:42:50.557940Z",
     "shell.execute_reply": "2023-11-01T09:42:50.556984Z"
    },
    "papermill": {
     "duration": 0.012845,
     "end_time": "2023-11-01T09:42:50.559757",
     "exception": false,
     "start_time": "2023-11-01T09:42:50.546912",
     "status": "completed"
    },
    "tags": []
   },
   "outputs": [],
   "source": [
    "w = np.array([0.5])\n",
    "b = np.array([2])\n",
    "xx = np.array([0.5])\n"
   ]
  },
  {
   "cell_type": "code",
   "execution_count": 3,
   "id": "58e26495",
   "metadata": {
    "execution": {
     "iopub.execute_input": "2023-11-01T09:42:50.571957Z",
     "iopub.status.busy": "2023-11-01T09:42:50.571329Z",
     "iopub.status.idle": "2023-11-01T09:42:50.582407Z",
     "shell.execute_reply": "2023-11-01T09:42:50.581527Z"
    },
    "papermill": {
     "duration": 0.019281,
     "end_time": "2023-11-01T09:42:50.584293",
     "exception": false,
     "start_time": "2023-11-01T09:42:50.565012",
     "status": "completed"
    },
    "tags": []
   },
   "outputs": [],
   "source": [
    "xx_t = tr.from_numpy(xx)\n",
    "w_t = tr.from_numpy(w)\n",
    "b_t = tr.from_numpy(b)\n"
   ]
  },
  {
   "cell_type": "code",
   "execution_count": 4,
   "id": "1f785c05",
   "metadata": {
    "execution": {
     "iopub.execute_input": "2023-11-01T09:42:50.596362Z",
     "iopub.status.busy": "2023-11-01T09:42:50.595713Z",
     "iopub.status.idle": "2023-11-01T09:42:50.602494Z",
     "shell.execute_reply": "2023-11-01T09:42:50.601750Z"
    },
    "papermill": {
     "duration": 0.014795,
     "end_time": "2023-11-01T09:42:50.604511",
     "exception": false,
     "start_time": "2023-11-01T09:42:50.589716",
     "status": "completed"
    },
    "tags": []
   },
   "outputs": [
    {
     "data": {
      "text/plain": [
       "(False, torch.float64, dtype('int64'), torch.int64, False)"
      ]
     },
     "execution_count": 4,
     "metadata": {},
     "output_type": "execute_result"
    }
   ],
   "source": [
    "w_t.requires_grad, w_t.dtype, b.dtype, b_t.dtype, b_t.requires_grad\n",
    "## Note -> Only float type values requires and can have gradient"
   ]
  },
  {
   "cell_type": "code",
   "execution_count": 5,
   "id": "840fdd38",
   "metadata": {
    "execution": {
     "iopub.execute_input": "2023-11-01T09:42:50.616668Z",
     "iopub.status.busy": "2023-11-01T09:42:50.616389Z",
     "iopub.status.idle": "2023-11-01T09:42:50.695073Z",
     "shell.execute_reply": "2023-11-01T09:42:50.694195Z"
    },
    "papermill": {
     "duration": 0.087034,
     "end_time": "2023-11-01T09:42:50.697145",
     "exception": false,
     "start_time": "2023-11-01T09:42:50.610111",
     "status": "completed"
    },
    "tags": []
   },
   "outputs": [
    {
     "data": {
      "text/plain": [
       "tensor([0.5000], dtype=torch.float64, requires_grad=True)"
      ]
     },
     "execution_count": 5,
     "metadata": {},
     "output_type": "execute_result"
    }
   ],
   "source": [
    "w_t.requires_grad_(True) ## Note the method followed by an underscore"
   ]
  },
  {
   "cell_type": "code",
   "execution_count": 6,
   "id": "6527ebed",
   "metadata": {
    "execution": {
     "iopub.execute_input": "2023-11-01T09:42:50.709525Z",
     "iopub.status.busy": "2023-11-01T09:42:50.709262Z",
     "iopub.status.idle": "2023-11-01T09:42:50.713081Z",
     "shell.execute_reply": "2023-11-01T09:42:50.712238Z"
    },
    "papermill": {
     "duration": 0.012132,
     "end_time": "2023-11-01T09:42:50.715009",
     "exception": false,
     "start_time": "2023-11-01T09:42:50.702877",
     "status": "completed"
    },
    "tags": []
   },
   "outputs": [],
   "source": [
    "dtype = tr.float64"
   ]
  },
  {
   "cell_type": "code",
   "execution_count": 7,
   "id": "1fcc63a9",
   "metadata": {
    "execution": {
     "iopub.execute_input": "2023-11-01T09:42:50.727569Z",
     "iopub.status.busy": "2023-11-01T09:42:50.727044Z",
     "iopub.status.idle": "2023-11-01T09:42:50.731440Z",
     "shell.execute_reply": "2023-11-01T09:42:50.730559Z"
    },
    "papermill": {
     "duration": 0.012889,
     "end_time": "2023-11-01T09:42:50.733432",
     "exception": false,
     "start_time": "2023-11-01T09:42:50.720543",
     "status": "completed"
    },
    "tags": []
   },
   "outputs": [],
   "source": [
    "b_t = b_t.type(dtype)"
   ]
  },
  {
   "cell_type": "code",
   "execution_count": 8,
   "id": "4db6a049",
   "metadata": {
    "execution": {
     "iopub.execute_input": "2023-11-01T09:42:50.745471Z",
     "iopub.status.busy": "2023-11-01T09:42:50.745203Z",
     "iopub.status.idle": "2023-11-01T09:42:50.751577Z",
     "shell.execute_reply": "2023-11-01T09:42:50.750795Z"
    },
    "papermill": {
     "duration": 0.014463,
     "end_time": "2023-11-01T09:42:50.753417",
     "exception": false,
     "start_time": "2023-11-01T09:42:50.738954",
     "status": "completed"
    },
    "tags": []
   },
   "outputs": [
    {
     "data": {
      "text/plain": [
       "tensor([2.], dtype=torch.float64, requires_grad=True)"
      ]
     },
     "execution_count": 8,
     "metadata": {},
     "output_type": "execute_result"
    }
   ],
   "source": [
    "b_t.requires_grad_(True)  ## See the method followed by an underscore"
   ]
  },
  {
   "cell_type": "code",
   "execution_count": 9,
   "id": "01e4c258",
   "metadata": {
    "execution": {
     "iopub.execute_input": "2023-11-01T09:42:50.766414Z",
     "iopub.status.busy": "2023-11-01T09:42:50.766130Z",
     "iopub.status.idle": "2023-11-01T09:42:50.774772Z",
     "shell.execute_reply": "2023-11-01T09:42:50.773887Z"
    },
    "papermill": {
     "duration": 0.017467,
     "end_time": "2023-11-01T09:42:50.776620",
     "exception": false,
     "start_time": "2023-11-01T09:42:50.759153",
     "status": "completed"
    },
    "tags": []
   },
   "outputs": [
    {
     "data": {
      "text/plain": [
       "True"
      ]
     },
     "execution_count": 9,
     "metadata": {},
     "output_type": "execute_result"
    }
   ],
   "source": [
    "## Now we both have w_t and b_t have requires_grad to be True\n",
    "## So lets check if any other var having/depending on w_t and b_t, have their requires_grad to set as True\n",
    "\n",
    "d_t = w_t + b_t\n",
    "d_t.requires_grad ## So it did......Hmmm[without even explicitly setting it to be True]\n"
   ]
  },
  {
   "cell_type": "code",
   "execution_count": 10,
   "id": "0e6c0baa",
   "metadata": {
    "execution": {
     "iopub.execute_input": "2023-11-01T09:42:50.789293Z",
     "iopub.status.busy": "2023-11-01T09:42:50.789028Z",
     "iopub.status.idle": "2023-11-01T09:42:50.800337Z",
     "shell.execute_reply": "2023-11-01T09:42:50.799507Z"
    },
    "papermill": {
     "duration": 0.019857,
     "end_time": "2023-11-01T09:42:50.802333",
     "exception": false,
     "start_time": "2023-11-01T09:42:50.782476",
     "status": "completed"
    },
    "tags": []
   },
   "outputs": [
    {
     "data": {
      "text/plain": [
       "(True, False)"
      ]
     },
     "execution_count": 10,
     "metadata": {},
     "output_type": "execute_result"
    }
   ],
   "source": [
    "p_t = w_t ** 2 + (0.4) * xx_t\n",
    "p_t.requires_grad, xx_t.requires_grad ## Okkk"
   ]
  },
  {
   "cell_type": "code",
   "execution_count": 11,
   "id": "3f8bcc1b",
   "metadata": {
    "execution": {
     "iopub.execute_input": "2023-11-01T09:42:50.815336Z",
     "iopub.status.busy": "2023-11-01T09:42:50.815065Z",
     "iopub.status.idle": "2023-11-01T09:42:50.861236Z",
     "shell.execute_reply": "2023-11-01T09:42:50.860107Z"
    },
    "papermill": {
     "duration": 0.055223,
     "end_time": "2023-11-01T09:42:50.863517",
     "exception": false,
     "start_time": "2023-11-01T09:42:50.808294",
     "status": "completed"
    },
    "tags": []
   },
   "outputs": [
    {
     "name": "stdout",
     "output_type": "stream",
     "text": [
      "tensor([9.4877], dtype=torch.float64, grad_fn=<ExpBackward0>) True Uhhh\n",
      "True okkk\n"
     ]
    }
   ],
   "source": [
    "def fun(x, ystar):\n",
    "    y = tr.exp(w_t*x+b_t)\n",
    "    print(y, y.requires_grad,\"Uhhh\")\n",
    "    return tr.sum((y-ystar)**2)\n",
    "\n",
    "ystar_t = tr.randn_like(xx_t)\n",
    "l_t = fun(xx_t, ystar_t)\n",
    "print(l_t.requires_grad,\"okkk\")\n"
   ]
  },
  {
   "cell_type": "code",
   "execution_count": 12,
   "id": "f0f27d89",
   "metadata": {
    "execution": {
     "iopub.execute_input": "2023-11-01T09:42:50.876988Z",
     "iopub.status.busy": "2023-11-01T09:42:50.876694Z",
     "iopub.status.idle": "2023-11-01T09:42:50.881534Z",
     "shell.execute_reply": "2023-11-01T09:42:50.880434Z"
    },
    "papermill": {
     "duration": 0.013534,
     "end_time": "2023-11-01T09:42:50.883453",
     "exception": false,
     "start_time": "2023-11-01T09:42:50.869919",
     "status": "completed"
    },
    "tags": []
   },
   "outputs": [
    {
     "name": "stdout",
     "output_type": "stream",
     "text": [
      "Before bakward()  None None\n"
     ]
    }
   ],
   "source": [
    "## Before calling backward function\n",
    "print(\"Before bakward() \",w_t.grad, b_t.grad)\n"
   ]
  },
  {
   "cell_type": "code",
   "execution_count": 13,
   "id": "0a15d73e",
   "metadata": {
    "execution": {
     "iopub.execute_input": "2023-11-01T09:42:50.896490Z",
     "iopub.status.busy": "2023-11-01T09:42:50.896243Z",
     "iopub.status.idle": "2023-11-01T09:42:50.975109Z",
     "shell.execute_reply": "2023-11-01T09:42:50.974023Z"
    },
    "papermill": {
     "duration": 0.087908,
     "end_time": "2023-11-01T09:42:50.977392",
     "exception": false,
     "start_time": "2023-11-01T09:42:50.889484",
     "status": "completed"
    },
    "tags": []
   },
   "outputs": [
    {
     "name": "stdout",
     "output_type": "stream",
     "text": [
      "tensor([104.8685], dtype=torch.float64) tensor([209.7369], dtype=torch.float64)\n"
     ]
    }
   ],
   "source": [
    "## Calling backward\n",
    "l_t.backward()\n",
    "print(w_t.grad, b_t.grad)"
   ]
  },
  {
   "cell_type": "code",
   "execution_count": 14,
   "id": "bdef2a66",
   "metadata": {
    "execution": {
     "iopub.execute_input": "2023-11-01T09:42:50.991195Z",
     "iopub.status.busy": "2023-11-01T09:42:50.990918Z",
     "iopub.status.idle": "2023-11-01T09:42:50.994882Z",
     "shell.execute_reply": "2023-11-01T09:42:50.994072Z"
    },
    "papermill": {
     "duration": 0.013038,
     "end_time": "2023-11-01T09:42:50.996817",
     "exception": false,
     "start_time": "2023-11-01T09:42:50.983779",
     "status": "completed"
    },
    "tags": []
   },
   "outputs": [],
   "source": [
    "## Calling the backward method again\n",
    "# l_t.backward() ## Note the error occuring \n",
    "## Possible Explaination --> after the backward method gets called out the \n",
    "## dynamic computation graph gets deleted(or memory gets freed..), so the error\n",
    "## one way to retain it is to use the attribute retain_graph = True\n"
   ]
  },
  {
   "cell_type": "code",
   "execution_count": 15,
   "id": "734addaa",
   "metadata": {
    "execution": {
     "iopub.execute_input": "2023-11-01T09:42:51.011589Z",
     "iopub.status.busy": "2023-11-01T09:42:51.010584Z",
     "iopub.status.idle": "2023-11-01T09:42:51.017881Z",
     "shell.execute_reply": "2023-11-01T09:42:51.016692Z"
    },
    "papermill": {
     "duration": 0.017193,
     "end_time": "2023-11-01T09:42:51.020592",
     "exception": false,
     "start_time": "2023-11-01T09:42:51.003399",
     "status": "completed"
    },
    "tags": []
   },
   "outputs": [
    {
     "name": "stdout",
     "output_type": "stream",
     "text": [
      "tensor([104.8685], dtype=torch.float64) tensor([209.7369], dtype=torch.float64)\n"
     ]
    }
   ],
   "source": [
    "## lets first printout the value of the grad\n",
    "print(w_t.grad,b_t.grad)"
   ]
  },
  {
   "cell_type": "code",
   "execution_count": 16,
   "id": "1b58d27b",
   "metadata": {
    "execution": {
     "iopub.execute_input": "2023-11-01T09:42:51.038847Z",
     "iopub.status.busy": "2023-11-01T09:42:51.038136Z",
     "iopub.status.idle": "2023-11-01T09:42:51.047202Z",
     "shell.execute_reply": "2023-11-01T09:42:51.046058Z"
    },
    "papermill": {
     "duration": 0.020176,
     "end_time": "2023-11-01T09:42:51.049417",
     "exception": false,
     "start_time": "2023-11-01T09:42:51.029241",
     "status": "completed"
    },
    "tags": []
   },
   "outputs": [
    {
     "name": "stdout",
     "output_type": "stream",
     "text": [
      "tensor([9.4877], dtype=torch.float64, grad_fn=<ExpBackward0>) True Uhhh\n",
      "tensor([314.6054], dtype=torch.float64)\n"
     ]
    }
   ],
   "source": [
    "l_t = fun(xx_t, ystar_t)\n",
    "# print(w_t.grad)\n",
    "l_t.backward(retain_graph=True)\n",
    "l_t.backward()\n",
    "print(w_t.grad)\n",
    "## The more you run this cell, the effective value of the grad gets increased, since the value gets accumulated\n",
    "## Therefore there is the need to manually set it to the zero\n"
   ]
  },
  {
   "cell_type": "code",
   "execution_count": 17,
   "id": "8e09c524",
   "metadata": {
    "execution": {
     "iopub.execute_input": "2023-11-01T09:42:51.069436Z",
     "iopub.status.busy": "2023-11-01T09:42:51.069167Z",
     "iopub.status.idle": "2023-11-01T09:42:51.075202Z",
     "shell.execute_reply": "2023-11-01T09:42:51.074267Z"
    },
    "papermill": {
     "duration": 0.018077,
     "end_time": "2023-11-01T09:42:51.077049",
     "exception": false,
     "start_time": "2023-11-01T09:42:51.058972",
     "status": "completed"
    },
    "tags": []
   },
   "outputs": [
    {
     "name": "stdout",
     "output_type": "stream",
     "text": [
      "tensor([0.], dtype=torch.float64) tensor([0.], dtype=torch.float64)\n"
     ]
    }
   ],
   "source": [
    "## To set the grad value  zero\n",
    "w_t.grad.data.zero_()\n",
    "b_t.grad.data.zero_()\n",
    "### lets print out the grad value again\n",
    "print(w_t.grad, b_t.grad) ## and thats how its set to zero\n"
   ]
  },
  {
   "cell_type": "code",
   "execution_count": 18,
   "id": "47378487",
   "metadata": {
    "execution": {
     "iopub.execute_input": "2023-11-01T09:42:51.090603Z",
     "iopub.status.busy": "2023-11-01T09:42:51.090362Z",
     "iopub.status.idle": "2023-11-01T09:42:51.098006Z",
     "shell.execute_reply": "2023-11-01T09:42:51.096945Z"
    },
    "papermill": {
     "duration": 0.016648,
     "end_time": "2023-11-01T09:42:51.100065",
     "exception": false,
     "start_time": "2023-11-01T09:42:51.083417",
     "status": "completed"
    },
    "tags": []
   },
   "outputs": [
    {
     "name": "stdout",
     "output_type": "stream",
     "text": [
      "tensor([9.4877], dtype=torch.float64, grad_fn=<ExpBackward0>) True Uhhh\n",
      "tensor([209.7369], dtype=torch.float64)\n",
      "tensor([419.4739], dtype=torch.float64)\n"
     ]
    }
   ],
   "source": [
    "## The gradient must be set to zero manually, otherwise they will cumulate across several \n",
    "## backward () calls, This is desirable when calculating the loss \n",
    "## over several mini batches or the gradient of the sum of losses\n",
    "## \n",
    "w_t.grad.data.zero_()\n",
    "b_t.grad.data.zero_()\n",
    "l_t = fun(xx_t, ystar_t)\n",
    "l_t.backward(retain_graph=True)\n",
    "l_t.backward()\n",
    "print(w_t.grad)\n",
    "print(b_t.grad)"
   ]
  },
  {
   "cell_type": "code",
   "execution_count": null,
   "id": "8df19ee7",
   "metadata": {
    "papermill": {
     "duration": 0.006306,
     "end_time": "2023-11-01T09:42:51.113730",
     "exception": false,
     "start_time": "2023-11-01T09:42:51.107424",
     "status": "completed"
    },
    "tags": []
   },
   "outputs": [],
   "source": []
  }
 ],
 "metadata": {
  "kernelspec": {
   "display_name": "Python 3",
   "language": "python",
   "name": "python3"
  },
  "language_info": {
   "codemirror_mode": {
    "name": "ipython",
    "version": 3
   },
   "file_extension": ".py",
   "mimetype": "text/x-python",
   "name": "python",
   "nbconvert_exporter": "python",
   "pygments_lexer": "ipython3",
   "version": "3.10.12"
  },
  "papermill": {
   "default_parameters": {},
   "duration": 8.375735,
   "end_time": "2023-11-01T09:42:52.240508",
   "environment_variables": {},
   "exception": null,
   "input_path": "__notebook__.ipynb",
   "output_path": "__notebook__.ipynb",
   "parameters": {},
   "start_time": "2023-11-01T09:42:43.864773",
   "version": "2.4.0"
  }
 },
 "nbformat": 4,
 "nbformat_minor": 5
}
