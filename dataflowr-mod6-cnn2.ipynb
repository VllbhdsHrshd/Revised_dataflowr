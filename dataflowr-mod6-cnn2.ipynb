{
 "cells": [
  {
   "cell_type": "code",
   "execution_count": 1,
   "id": "54dcce5c",
   "metadata": {
    "execution": {
     "iopub.execute_input": "2023-11-17T19:54:11.239399Z",
     "iopub.status.busy": "2023-11-17T19:54:11.238992Z",
     "iopub.status.idle": "2023-11-17T19:54:15.002260Z",
     "shell.execute_reply": "2023-11-17T19:54:15.001361Z"
    },
    "papermill": {
     "duration": 3.773856,
     "end_time": "2023-11-17T19:54:15.004645",
     "exception": false,
     "start_time": "2023-11-17T19:54:11.230789",
     "status": "completed"
    },
    "tags": []
   },
   "outputs": [],
   "source": [
    "import math, sys, os, numpy as np\n",
    "from numpy.linalg import norm\n",
    "from matplotlib import pyplot as plt\n",
    "%matplotlib inline\n",
    "import torch\n",
    "import torchvision\n",
    "from torchvision import models, transforms, datasets"
   ]
  },
  {
   "cell_type": "code",
   "execution_count": 2,
   "id": "34aeb6e8",
   "metadata": {
    "execution": {
     "iopub.execute_input": "2023-11-17T19:54:15.019519Z",
     "iopub.status.busy": "2023-11-17T19:54:15.019038Z",
     "iopub.status.idle": "2023-11-17T19:54:15.024719Z",
     "shell.execute_reply": "2023-11-17T19:54:15.023867Z"
    },
    "papermill": {
     "duration": 0.015468,
     "end_time": "2023-11-17T19:54:15.026967",
     "exception": false,
     "start_time": "2023-11-17T19:54:15.011499",
     "status": "completed"
    },
    "tags": []
   },
   "outputs": [],
   "source": [
    "import torch.nn as nn\n",
    "import torch.nn.functional as F\n"
   ]
  },
  {
   "cell_type": "code",
   "execution_count": 3,
   "id": "99c5fac5",
   "metadata": {
    "execution": {
     "iopub.execute_input": "2023-11-17T19:54:15.043875Z",
     "iopub.status.busy": "2023-11-17T19:54:15.043548Z",
     "iopub.status.idle": "2023-11-17T19:54:15.051490Z",
     "shell.execute_reply": "2023-11-17T19:54:15.050633Z"
    },
    "papermill": {
     "duration": 0.018215,
     "end_time": "2023-11-17T19:54:15.053767",
     "exception": false,
     "start_time": "2023-11-17T19:54:15.035552",
     "status": "completed"
    },
    "tags": []
   },
   "outputs": [],
   "source": [
    "## Defining Blue print\n",
    "class classifier(nn.Module):\n",
    "    \n",
    "    def __init__(self):\n",
    "        super(classifier, self).__init__()\n",
    "        self.conv1 = nn.Conv2d(in_channels=1, out_channels=8, kernel_size=3, padding=1)\n",
    "        self.fc = nn.Linear(in_features=128, out_features=2)\n",
    "    \n",
    "    def forward(self, x):\n",
    "        x = self.conv1(x)\n",
    "        x = F.max_pool2d(x,7)\n",
    "        x = self.fc(torch.flatten(x, start_dim=1))\n",
    "        return F.log_softmax(x, dim=1)\n",
    "    \n",
    "        "
   ]
  },
  {
   "cell_type": "code",
   "execution_count": 4,
   "id": "615430ea",
   "metadata": {
    "execution": {
     "iopub.execute_input": "2023-11-17T19:54:15.068605Z",
     "iopub.status.busy": "2023-11-17T19:54:15.068280Z",
     "iopub.status.idle": "2023-11-17T19:54:15.073584Z",
     "shell.execute_reply": "2023-11-17T19:54:15.072740Z"
    },
    "papermill": {
     "duration": 0.01463,
     "end_time": "2023-11-17T19:54:15.075861",
     "exception": false,
     "start_time": "2023-11-17T19:54:15.061231",
     "status": "completed"
    },
    "tags": []
   },
   "outputs": [],
   "source": [
    "?torch.max_pool2d"
   ]
  },
  {
   "cell_type": "code",
   "execution_count": 5,
   "id": "5ee15474",
   "metadata": {
    "execution": {
     "iopub.execute_input": "2023-11-17T19:54:15.093290Z",
     "iopub.status.busy": "2023-11-17T19:54:15.092640Z",
     "iopub.status.idle": "2023-11-17T19:54:15.118063Z",
     "shell.execute_reply": "2023-11-17T19:54:15.117084Z"
    },
    "papermill": {
     "duration": 0.037108,
     "end_time": "2023-11-17T19:54:15.121583",
     "exception": false,
     "start_time": "2023-11-17T19:54:15.084475",
     "status": "completed"
    },
    "tags": []
   },
   "outputs": [],
   "source": [
    "conv_class = classifier()"
   ]
  },
  {
   "cell_type": "code",
   "execution_count": 6,
   "id": "a70cdcd6",
   "metadata": {
    "execution": {
     "iopub.execute_input": "2023-11-17T19:54:15.140678Z",
     "iopub.status.busy": "2023-11-17T19:54:15.140304Z",
     "iopub.status.idle": "2023-11-17T19:54:16.190074Z",
     "shell.execute_reply": "2023-11-17T19:54:16.189088Z"
    },
    "papermill": {
     "duration": 1.063,
     "end_time": "2023-11-17T19:54:16.192368",
     "exception": false,
     "start_time": "2023-11-17T19:54:15.129368",
     "status": "completed"
    },
    "tags": []
   },
   "outputs": [
    {
     "name": "stdout",
     "output_type": "stream",
     "text": [
      "Downloading http://yann.lecun.com/exdb/mnist/train-images-idx3-ubyte.gz\n",
      "Downloading http://yann.lecun.com/exdb/mnist/train-images-idx3-ubyte.gz to ./data/MNIST/MNIST/raw/train-images-idx3-ubyte.gz\n"
     ]
    },
    {
     "name": "stderr",
     "output_type": "stream",
     "text": [
      "100%|██████████| 9912422/9912422 [00:00<00:00, 93304019.45it/s]\n"
     ]
    },
    {
     "name": "stdout",
     "output_type": "stream",
     "text": [
      "Extracting ./data/MNIST/MNIST/raw/train-images-idx3-ubyte.gz to ./data/MNIST/MNIST/raw\n",
      "\n",
      "Downloading http://yann.lecun.com/exdb/mnist/train-labels-idx1-ubyte.gz\n",
      "Downloading http://yann.lecun.com/exdb/mnist/train-labels-idx1-ubyte.gz to ./data/MNIST/MNIST/raw/train-labels-idx1-ubyte.gz\n"
     ]
    },
    {
     "name": "stderr",
     "output_type": "stream",
     "text": [
      "100%|██████████| 28881/28881 [00:00<00:00, 46341122.35it/s]\n"
     ]
    },
    {
     "name": "stdout",
     "output_type": "stream",
     "text": [
      "Extracting ./data/MNIST/MNIST/raw/train-labels-idx1-ubyte.gz to ./data/MNIST/MNIST/raw\n",
      "\n",
      "Downloading http://yann.lecun.com/exdb/mnist/t10k-images-idx3-ubyte.gz\n",
      "Downloading http://yann.lecun.com/exdb/mnist/t10k-images-idx3-ubyte.gz to ./data/MNIST/MNIST/raw/t10k-images-idx3-ubyte.gz\n"
     ]
    },
    {
     "name": "stderr",
     "output_type": "stream",
     "text": [
      "100%|██████████| 1648877/1648877 [00:00<00:00, 41129542.23it/s]\n"
     ]
    },
    {
     "name": "stdout",
     "output_type": "stream",
     "text": [
      "Extracting ./data/MNIST/MNIST/raw/t10k-images-idx3-ubyte.gz to ./data/MNIST/MNIST/raw\n",
      "\n",
      "Downloading http://yann.lecun.com/exdb/mnist/t10k-labels-idx1-ubyte.gz\n",
      "Downloading http://yann.lecun.com/exdb/mnist/t10k-labels-idx1-ubyte.gz to ./data/MNIST/MNIST/raw/t10k-labels-idx1-ubyte.gz\n"
     ]
    },
    {
     "name": "stderr",
     "output_type": "stream",
     "text": [
      "100%|██████████| 4542/4542 [00:00<00:00, 11687440.96it/s]\n"
     ]
    },
    {
     "name": "stdout",
     "output_type": "stream",
     "text": [
      "Extracting ./data/MNIST/MNIST/raw/t10k-labels-idx1-ubyte.gz to ./data/MNIST/MNIST/raw\n",
      "\n"
     ]
    },
    {
     "data": {
      "text/plain": [
       "Dataset MNIST\n",
       "    Number of datapoints: 60000\n",
       "    Root location: ./data/MNIST/\n",
       "    Split: Train"
      ]
     },
     "execution_count": 6,
     "metadata": {},
     "output_type": "execute_result"
    }
   ],
   "source": [
    "root_dir = './data/MNIST/'\n",
    "torchvision.datasets.MNIST(root=root_dir, download=True)"
   ]
  },
  {
   "cell_type": "code",
   "execution_count": 7,
   "id": "d3d0b7b8",
   "metadata": {
    "execution": {
     "iopub.execute_input": "2023-11-17T19:54:16.209635Z",
     "iopub.status.busy": "2023-11-17T19:54:16.209328Z",
     "iopub.status.idle": "2023-11-17T19:54:16.279856Z",
     "shell.execute_reply": "2023-11-17T19:54:16.278880Z"
    },
    "papermill": {
     "duration": 0.081817,
     "end_time": "2023-11-17T19:54:16.282273",
     "exception": false,
     "start_time": "2023-11-17T19:54:16.200456",
     "status": "completed"
    },
    "tags": []
   },
   "outputs": [],
   "source": [
    "train_set = torchvision.datasets.MNIST(root=root_dir, train=True, download = True)"
   ]
  },
  {
   "cell_type": "code",
   "execution_count": 8,
   "id": "a2760865",
   "metadata": {
    "execution": {
     "iopub.execute_input": "2023-11-17T19:54:16.301472Z",
     "iopub.status.busy": "2023-11-17T19:54:16.301158Z",
     "iopub.status.idle": "2023-11-17T19:54:16.408148Z",
     "shell.execute_reply": "2023-11-17T19:54:16.407157Z"
    },
    "papermill": {
     "duration": 0.118889,
     "end_time": "2023-11-17T19:54:16.410577",
     "exception": false,
     "start_time": "2023-11-17T19:54:16.291688",
     "status": "completed"
    },
    "tags": []
   },
   "outputs": [],
   "source": [
    "# MNIST_dataset = torch.utils.data.DataLoader(train_set, batch)\n",
    "images = train_set.data.numpy().astype(np.float32)/255\n",
    "labels = train_set.targets.numpy()\n",
    "n = len(images)\n",
    "\n",
    "eights = [images[i] for i in range(n) if labels[i]==8]\n",
    "ones = [images[i] for i in range(n) if labels[i]==1]\n",
    "\n"
   ]
  },
  {
   "cell_type": "code",
   "execution_count": 9,
   "id": "c34ace4d",
   "metadata": {
    "execution": {
     "iopub.execute_input": "2023-11-17T19:54:16.427633Z",
     "iopub.status.busy": "2023-11-17T19:54:16.427313Z",
     "iopub.status.idle": "2023-11-17T19:54:16.537083Z",
     "shell.execute_reply": "2023-11-17T19:54:16.536234Z"
    },
    "papermill": {
     "duration": 0.120448,
     "end_time": "2023-11-17T19:54:16.539031",
     "exception": false,
     "start_time": "2023-11-17T19:54:16.418583",
     "status": "completed"
    },
    "tags": []
   },
   "outputs": [
    {
     "data": {
      "text/plain": [
       "torch.Size([3, 2])"
      ]
     },
     "execution_count": 9,
     "metadata": {},
     "output_type": "execute_result"
    }
   ],
   "source": [
    "batch_3images = train_set.data[0:2].type(torch.FloatTensor).resize_(3,1,28,28)\n",
    "conv_class(batch_3images).shape\n"
   ]
  },
  {
   "cell_type": "code",
   "execution_count": 10,
   "id": "463f6f08",
   "metadata": {
    "execution": {
     "iopub.execute_input": "2023-11-17T19:54:16.556162Z",
     "iopub.status.busy": "2023-11-17T19:54:16.555839Z",
     "iopub.status.idle": "2023-11-17T19:54:16.705948Z",
     "shell.execute_reply": "2023-11-17T19:54:16.704967Z"
    },
    "papermill": {
     "duration": 0.16128,
     "end_time": "2023-11-17T19:54:16.708358",
     "exception": false,
     "start_time": "2023-11-17T19:54:16.547078",
     "status": "completed"
    },
    "tags": []
   },
   "outputs": [],
   "source": [
    "\n",
    "\n",
    "\n",
    "bs = 64\n",
    "\n",
    "l8 = np.array(0)\n",
    "eights_dataset = [[torch.from_numpy(e.astype(np.float32)).unsqueeze(0), torch.from_numpy(l8.astype(np.int64))] for e in eights]\n",
    "l1 = np.array(1)\n",
    "ones_dataset = [[torch.from_numpy(e.astype(np.float32)).unsqueeze(0), torch.from_numpy(l1.astype(np.int64))] for e in ones]\n",
    "train_dataset = eights_dataset[1000:] + ones_dataset[1000:]\n",
    "test_dataset = eights_dataset[:1000] + ones_dataset[:1000]\n",
    "\n",
    "train_loader = torch.utils.data.DataLoader(train_dataset,\n",
    "    batch_size=bs, shuffle=True)\n",
    "test_loader = torch.utils.data.DataLoader(test_dataset,\n",
    "    batch_size=bs, shuffle=True)"
   ]
  },
  {
   "cell_type": "code",
   "execution_count": 11,
   "id": "7369c0c1",
   "metadata": {
    "execution": {
     "iopub.execute_input": "2023-11-17T19:54:16.726142Z",
     "iopub.status.busy": "2023-11-17T19:54:16.725820Z",
     "iopub.status.idle": "2023-11-17T19:54:16.734393Z",
     "shell.execute_reply": "2023-11-17T19:54:16.733571Z"
    },
    "papermill": {
     "duration": 0.019655,
     "end_time": "2023-11-17T19:54:16.736310",
     "exception": false,
     "start_time": "2023-11-17T19:54:16.716655",
     "status": "completed"
    },
    "tags": []
   },
   "outputs": [],
   "source": [
    "def train(model, data_loader, loss_fn, optimizer, n_epochs=1):\n",
    "    model.train(True)\n",
    "    loss_train = np.zeros(n_epochs)\n",
    "    acc_train = np.zeros(n_epochs)\n",
    "    \n",
    "    for epoch_num in range(n_epochs):\n",
    "        running_corrects = 0.0 \n",
    "        running_loss = 0.0  \n",
    "        size = 0\n",
    "        \n",
    "        for data in data_loader:\n",
    "            inputs, labels = data\n",
    "            bs = labels.size(0)\n",
    "            outputs = model(inputs)\n",
    "            loss = loss_fn(outputs, labels)\n",
    "            optimizer.zero_grad()\n",
    "            loss.backward()\n",
    "            optimizer.step()\n",
    "            _, preds = torch.max(outputs, 1)\n",
    "            running_corrects += torch.sum(preds==labels)\n",
    "            running_loss += loss.data\n",
    "            size += bs\n",
    "        \n",
    "        epoch_loss = running_loss.item() / size\n",
    "        epoch_acc = running_corrects.item() / size\n",
    "        loss_train[epoch_num] = epoch_loss\n",
    "        acc_train[epoch_num] = epoch_acc\n",
    "        print('Train :: Loss:{:.4f} Acc:{:.4f}'.format(epoch_loss, epoch_acc))\n",
    "    \n",
    "    return loss_train, acc_train\n",
    "\n",
    "            \n",
    "\n",
    "\n",
    "\n",
    "\n",
    "\n",
    "\n",
    "\n",
    "\n",
    "\n",
    "\n",
    "\n"
   ]
  },
  {
   "cell_type": "code",
   "execution_count": 12,
   "id": "4de9e5e6",
   "metadata": {
    "execution": {
     "iopub.execute_input": "2023-11-17T19:54:16.753442Z",
     "iopub.status.busy": "2023-11-17T19:54:16.753138Z",
     "iopub.status.idle": "2023-11-17T19:54:21.526311Z",
     "shell.execute_reply": "2023-11-17T19:54:21.525189Z"
    },
    "papermill": {
     "duration": 4.784805,
     "end_time": "2023-11-17T19:54:21.529230",
     "exception": false,
     "start_time": "2023-11-17T19:54:16.744425",
     "status": "completed"
    },
    "tags": []
   },
   "outputs": [
    {
     "name": "stdout",
     "output_type": "stream",
     "text": [
      "Train :: Loss:0.0065 Acc:0.8900\n",
      "Train :: Loss:0.0018 Acc:0.9803\n",
      "Train :: Loss:0.0009 Acc:0.9872\n",
      "Train :: Loss:0.0007 Acc:0.9904\n",
      "Train :: Loss:0.0005 Acc:0.9918\n",
      "Train :: Loss:0.0004 Acc:0.9926\n",
      "Train :: Loss:0.0004 Acc:0.9934\n",
      "Train :: Loss:0.0003 Acc:0.9939\n",
      "Train :: Loss:0.0003 Acc:0.9947\n",
      "Train :: Loss:0.0003 Acc:0.9949\n"
     ]
    }
   ],
   "source": [
    "conv_class = classifier()\n",
    "loss_fn = nn.NLLLoss()\n",
    "learning_rate = 1e-3\n",
    "optimizer_cl = torch.optim.Adam(conv_class.parameters(), lr = learning_rate)\n",
    "l_t, a_t = train(conv_class, train_loader, loss_fn, optimizer_cl, n_epochs=10)"
   ]
  },
  {
   "cell_type": "code",
   "execution_count": 13,
   "id": "c22eacd4",
   "metadata": {
    "execution": {
     "iopub.execute_input": "2023-11-17T19:54:21.548207Z",
     "iopub.status.busy": "2023-11-17T19:54:21.547879Z",
     "iopub.status.idle": "2023-11-17T19:54:26.230376Z",
     "shell.execute_reply": "2023-11-17T19:54:26.229087Z"
    },
    "papermill": {
     "duration": 4.694398,
     "end_time": "2023-11-17T19:54:26.232631",
     "exception": false,
     "start_time": "2023-11-17T19:54:21.538233",
     "status": "completed"
    },
    "tags": []
   },
   "outputs": [
    {
     "name": "stdout",
     "output_type": "stream",
     "text": [
      "Train :: Loss:0.0003 Acc:0.9950\n",
      "Train :: Loss:0.0002 Acc:0.9949\n",
      "Train :: Loss:0.0002 Acc:0.9953\n",
      "Train :: Loss:0.0002 Acc:0.9959\n",
      "Train :: Loss:0.0002 Acc:0.9965\n",
      "Train :: Loss:0.0002 Acc:0.9961\n",
      "Train :: Loss:0.0002 Acc:0.9961\n",
      "Train :: Loss:0.0002 Acc:0.9968\n",
      "Train :: Loss:0.0002 Acc:0.9969\n",
      "Train :: Loss:0.0002 Acc:0.9968\n"
     ]
    }
   ],
   "source": [
    "l_t, a_t = train(conv_class, train_loader, loss_fn, optimizer_cl, n_epochs=10)"
   ]
  },
  {
   "cell_type": "code",
   "execution_count": 14,
   "id": "28dd8929",
   "metadata": {
    "execution": {
     "iopub.execute_input": "2023-11-17T19:54:26.253260Z",
     "iopub.status.busy": "2023-11-17T19:54:26.252921Z",
     "iopub.status.idle": "2023-11-17T19:54:26.259352Z",
     "shell.execute_reply": "2023-11-17T19:54:26.258494Z"
    },
    "papermill": {
     "duration": 0.018741,
     "end_time": "2023-11-17T19:54:26.261151",
     "exception": false,
     "start_time": "2023-11-17T19:54:26.242410",
     "status": "completed"
    },
    "tags": []
   },
   "outputs": [],
   "source": [
    "def test(model,data_loader):\n",
    "    model.train(False)\n",
    "\n",
    "    running_corrects = 0.0\n",
    "    running_loss = 0.0\n",
    "    size = 0\n",
    "\n",
    "    for data in data_loader:\n",
    "        inputs, labels = data\n",
    "            \n",
    "        bs = labels.size(0)\n",
    "        outputs = model(inputs)\n",
    "        loss = loss_fn(outputs,labels)\n",
    "            \n",
    "        _,preds = torch.max(outputs,1)\n",
    "        running_corrects += torch.sum(preds == labels)\n",
    "        running_loss += loss.data\n",
    "        size += bs\n",
    "\n",
    "    print('Test - Loss: {:.4f} Acc: {:.4f}'.format(running_loss / size, running_corrects.item() / size))"
   ]
  },
  {
   "cell_type": "code",
   "execution_count": 15,
   "id": "20ec8543",
   "metadata": {
    "execution": {
     "iopub.execute_input": "2023-11-17T19:54:26.281598Z",
     "iopub.status.busy": "2023-11-17T19:54:26.281038Z",
     "iopub.status.idle": "2023-11-17T19:54:26.337304Z",
     "shell.execute_reply": "2023-11-17T19:54:26.336269Z"
    },
    "papermill": {
     "duration": 0.068847,
     "end_time": "2023-11-17T19:54:26.339561",
     "exception": false,
     "start_time": "2023-11-17T19:54:26.270714",
     "status": "completed"
    },
    "tags": []
   },
   "outputs": [
    {
     "name": "stdout",
     "output_type": "stream",
     "text": [
      "Test - Loss: 0.0003 Acc: 0.9940\n"
     ]
    }
   ],
   "source": [
    "test(conv_class, test_loader)"
   ]
  },
  {
   "cell_type": "code",
   "execution_count": 16,
   "id": "cd073557",
   "metadata": {
    "execution": {
     "iopub.execute_input": "2023-11-17T19:54:26.361167Z",
     "iopub.status.busy": "2023-11-17T19:54:26.360513Z",
     "iopub.status.idle": "2023-11-17T19:54:31.020040Z",
     "shell.execute_reply": "2023-11-17T19:54:31.018961Z"
    },
    "papermill": {
     "duration": 4.672524,
     "end_time": "2023-11-17T19:54:31.022375",
     "exception": false,
     "start_time": "2023-11-17T19:54:26.349851",
     "status": "completed"
    },
    "tags": []
   },
   "outputs": [
    {
     "name": "stdout",
     "output_type": "stream",
     "text": [
      "Train :: Loss:0.0002 Acc:0.9966\n",
      "Train :: Loss:0.0002 Acc:0.9975\n",
      "Train :: Loss:0.0002 Acc:0.9970\n",
      "Train :: Loss:0.0001 Acc:0.9972\n",
      "Train :: Loss:0.0001 Acc:0.9975\n",
      "Train :: Loss:0.0001 Acc:0.9980\n",
      "Train :: Loss:0.0001 Acc:0.9977\n",
      "Train :: Loss:0.0001 Acc:0.9976\n",
      "Train :: Loss:0.0001 Acc:0.9977\n",
      "Train :: Loss:0.0001 Acc:0.9984\n"
     ]
    }
   ],
   "source": [
    "# ## changing to Adam optimizer\n",
    "## Ooopps  seems like we've already done that before\n",
    "## But why not, Lets do it again\n",
    "optimizer_cl = torch.optim.Adam(conv_class.parameters(), lr=learning_rate)\n",
    "l_t, a_t = train(conv_class, train_loader, loss_fn, optimizer_cl, n_epochs=10)\n"
   ]
  },
  {
   "cell_type": "code",
   "execution_count": 17,
   "id": "ee1af426",
   "metadata": {
    "execution": {
     "iopub.execute_input": "2023-11-17T19:54:31.044531Z",
     "iopub.status.busy": "2023-11-17T19:54:31.044202Z",
     "iopub.status.idle": "2023-11-17T19:54:31.063084Z",
     "shell.execute_reply": "2023-11-17T19:54:31.062186Z"
    },
    "papermill": {
     "duration": 0.032721,
     "end_time": "2023-11-17T19:54:31.065534",
     "exception": false,
     "start_time": "2023-11-17T19:54:31.032813",
     "status": "completed"
    },
    "tags": []
   },
   "outputs": [
    {
     "name": "stdout",
     "output_type": "stream",
     "text": [
      "weights : tensor([[[[ 0.7803, -0.2295, -0.9880],\n",
      "          [ 0.3726,  0.4454, -0.0870],\n",
      "          [-0.2606,  0.5249,  0.8825]]],\n",
      "\n",
      "\n",
      "        [[[ 0.7108,  0.2464, -0.7742],\n",
      "          [ 0.3747,  0.3153, -0.9276],\n",
      "          [ 0.3337,  0.4773, -0.0121]]],\n",
      "\n",
      "\n",
      "        [[[ 0.5169,  0.6250,  0.6077],\n",
      "          [ 0.0578, -0.2236,  0.1822],\n",
      "          [-0.4724, -0.6939,  0.1464]]],\n",
      "\n",
      "\n",
      "        [[[-0.9712, -0.7714, -0.4128],\n",
      "          [-0.7989,  0.6967,  0.4240],\n",
      "          [-0.9365, -0.1658,  0.1551]]],\n",
      "\n",
      "\n",
      "        [[[-0.5418, -0.6974, -1.1919],\n",
      "          [ 0.8025,  0.0107, -0.4109],\n",
      "          [ 0.0493, -0.7430, -1.3474]]],\n",
      "\n",
      "\n",
      "        [[[-0.2523, -0.5415,  0.1604],\n",
      "          [-0.4445,  0.3566,  0.4299],\n",
      "          [ 0.6021,  0.2318, -0.2878]]],\n",
      "\n",
      "\n",
      "        [[[ 0.6025,  0.6631, -0.1915],\n",
      "          [ 0.5186,  0.3643, -0.8599],\n",
      "          [ 0.6104,  0.2198, -0.7578]]],\n",
      "\n",
      "\n",
      "        [[[-0.3057,  0.2708,  0.5477],\n",
      "          [ 0.1401,  0.1992,  0.5147],\n",
      "          [ 0.5438,  0.5418,  0.3747]]]])\n",
      "bias : tensor([-0.0471, -0.0122, -0.4438,  0.4373,  0.3203, -0.3351, -0.2591,  0.4014])\n",
      "weights : tensor([[-0.0438,  0.2650,  0.2536, -0.0274,  0.0204,  0.3763,  0.5192,  0.2502,\n",
      "         -0.2837,  0.2723,  0.2340,  0.1304, -0.3353,  0.5787, -0.0887, -0.1875,\n",
      "         -0.2673,  0.0209, -0.0919, -0.0375, -0.0145,  0.3841, -0.2383,  0.1641,\n",
      "         -0.1378,  0.2428, -0.1772,  0.1106, -0.1328,  0.1941,  0.1634, -0.1084,\n",
      "          0.0885,  0.0305,  0.9641,  0.2039,  0.2234,  0.4271,  0.8743,  0.2000,\n",
      "          0.1155,  1.0048,  0.8818, -0.0393, -0.1282,  0.2191, -0.0496,  0.0018,\n",
      "         -0.1640, -0.2337, -0.3377, -0.2888, -0.0680, -0.1597, -0.3501, -0.1616,\n",
      "         -0.1841, -0.2235, -0.3847, -0.2517, -0.3818, -0.3949, -0.1853, -0.1933,\n",
      "         -0.2947, -0.4982, -0.4410, -0.1029, -0.3275, -0.3282, -0.3663,  0.3579,\n",
      "         -0.1946, -0.2130,  0.1741, -0.3351, -0.3238, -0.3031, -0.7578, -0.4828,\n",
      "          0.1527,  0.4356,  0.3209,  0.1625,  0.2950,  0.1620,  1.0013,  0.4260,\n",
      "          0.2326,  0.2549,  0.2221, -0.3747, -0.0409,  0.5539,  0.3929,  0.1115,\n",
      "          0.3046, -0.2087, -0.2837, -0.1539,  0.3606,  0.0652, -0.2161,  0.1903,\n",
      "          0.3388,  0.3219, -0.1437,  0.2177, -0.2519, -0.0061,  0.4279,  0.0862,\n",
      "         -0.1379,  0.0568, -0.1334, -0.1277,  0.0561, -0.2649, -0.2366,  0.1129,\n",
      "          0.1603, -0.1077, -0.0810, -0.4281, -0.1114, -0.0748,  0.1066, -0.1034],\n",
      "        [ 0.1424, -0.2349, -0.1753,  0.1708,  0.0582, -0.3853, -0.5399, -0.3520,\n",
      "          0.1621, -0.4010, -0.2397, -0.0906,  0.3502, -0.5635,  0.0406,  0.1454,\n",
      "          0.3370, -0.0343,  0.0763,  0.0789, -0.0505, -0.3931,  0.1857, -0.1842,\n",
      "          0.1267, -0.1098,  0.1750, -0.0630,  0.1317, -0.2314, -0.1656,  0.0111,\n",
      "         -0.1526, -0.0511, -1.0265, -0.1594, -0.2308, -0.4410, -0.7450, -0.2321,\n",
      "         -0.0677, -0.9043, -0.9436,  0.0238,  0.2288, -0.2339, -0.0231,  0.0296,\n",
      "          0.2216,  0.2741,  0.2944,  0.2571,  0.1512,  0.1728,  0.3593,  0.1379,\n",
      "          0.0941,  0.3095,  0.3735,  0.3032,  0.4229,  0.3600,  0.1338,  0.2298,\n",
      "          0.3280,  0.3835,  0.5185,  0.0824,  0.3443,  0.4353,  0.4750, -0.2509,\n",
      "          0.3174,  0.2438, -0.0223,  0.1806,  0.3108,  0.2464,  0.8296,  0.3791,\n",
      "         -0.1946, -0.4380, -0.2645, -0.1601, -0.4051, -0.1641, -1.0077, -0.4693,\n",
      "         -0.1599, -0.3743, -0.1649,  0.3390,  0.0282, -0.4244, -0.4243, -0.1945,\n",
      "         -0.1656,  0.2577,  0.3732,  0.1429, -0.2339, -0.1983,  0.1782, -0.2546,\n",
      "         -0.2357, -0.3591,  0.2522, -0.1397,  0.2401, -0.0192, -0.4496, -0.1466,\n",
      "          0.0690, -0.0502,  0.1108,  0.2788, -0.1407,  0.1640,  0.2358, -0.0813,\n",
      "         -0.0260,  0.1809,  0.2249,  0.4070,  0.1246,  0.2172, -0.1551,  0.0313]])\n",
      "bias : tensor([-0.0908,  0.1922])\n"
     ]
    }
   ],
   "source": [
    "for m in conv_class.children():\n",
    "    print('weights :', m.weight.data)\n",
    "    print('bias :', m.bias.data)"
   ]
  },
  {
   "cell_type": "code",
   "execution_count": 18,
   "id": "6231db38",
   "metadata": {
    "execution": {
     "iopub.execute_input": "2023-11-17T19:54:31.087433Z",
     "iopub.status.busy": "2023-11-17T19:54:31.087141Z",
     "iopub.status.idle": "2023-11-17T19:54:31.091801Z",
     "shell.execute_reply": "2023-11-17T19:54:31.090970Z"
    },
    "papermill": {
     "duration": 0.017864,
     "end_time": "2023-11-17T19:54:31.093803",
     "exception": false,
     "start_time": "2023-11-17T19:54:31.075939",
     "status": "completed"
    },
    "tags": []
   },
   "outputs": [],
   "source": [
    "for m in conv_class.children():\n",
    "    T_w = m.weight.data.numpy()\n",
    "    T_b = m.bias.data.numpy()\n",
    "    break"
   ]
  },
  {
   "cell_type": "code",
   "execution_count": 19,
   "id": "d1fd4a1e",
   "metadata": {
    "execution": {
     "iopub.execute_input": "2023-11-17T19:54:31.115914Z",
     "iopub.status.busy": "2023-11-17T19:54:31.115646Z",
     "iopub.status.idle": "2023-11-17T19:54:31.125319Z",
     "shell.execute_reply": "2023-11-17T19:54:31.124545Z"
    },
    "papermill": {
     "duration": 0.022861,
     "end_time": "2023-11-17T19:54:31.127096",
     "exception": false,
     "start_time": "2023-11-17T19:54:31.104235",
     "status": "completed"
    },
    "tags": []
   },
   "outputs": [],
   "source": [
    "# plot multiple images\n",
    "def plots(ims, interp=False, titles=None):\n",
    "    ims=np.array(ims)\n",
    "    mn,mx=ims.min(),ims.max()\n",
    "    f = plt.figure(figsize=(12,24))\n",
    "    for i in range(len(ims)):\n",
    "        sp=f.add_subplot(1, len(ims), i+1)\n",
    "        if not titles is None: sp.set_title(titles[i], fontsize=18)\n",
    "        plt.imshow(ims[i], interpolation=None if interp else 'none', vmin=mn,vmax=mx)\n",
    "\n",
    "# plot a single image\n",
    "def plot(im, interp=False):\n",
    "    f = plt.figure(figsize=(3,6), frameon=True)\n",
    "    plt.imshow(im, interpolation=None if interp else 'none')\n",
    "\n",
    "plt.gray()\n",
    "plt.close()"
   ]
  },
  {
   "cell_type": "code",
   "execution_count": 20,
   "id": "e7417e71",
   "metadata": {
    "execution": {
     "iopub.execute_input": "2023-11-17T19:54:31.149566Z",
     "iopub.status.busy": "2023-11-17T19:54:31.148707Z",
     "iopub.status.idle": "2023-11-17T19:54:32.118590Z",
     "shell.execute_reply": "2023-11-17T19:54:32.117674Z"
    },
    "papermill": {
     "duration": 0.983316,
     "end_time": "2023-11-17T19:54:32.120763",
     "exception": false,
     "start_time": "2023-11-17T19:54:31.137447",
     "status": "completed"
    },
    "tags": []
   },
   "outputs": [
    {
     "data": {
      "image/png": "[encoded data removed]",
      "text/plain": [
       "<Figure size 1200x2400 with 8 Axes>"
      ]
     },
     "metadata": {},
     "output_type": "display_data"
    }
   ],
   "source": [
    "plots([T_w[i][0] for i in range(8)]) ## Visual Representation of our learned parameters\n",
    "\n"
   ]
  },
  {
   "cell_type": "code",
   "execution_count": 21,
   "id": "043a4730",
   "metadata": {
    "execution": {
     "iopub.execute_input": "2023-11-17T19:54:32.144182Z",
     "iopub.status.busy": "2023-11-17T19:54:32.143460Z",
     "iopub.status.idle": "2023-11-17T19:54:32.149736Z",
     "shell.execute_reply": "2023-11-17T19:54:32.148829Z"
    },
    "papermill": {
     "duration": 0.020171,
     "end_time": "2023-11-17T19:54:32.151813",
     "exception": false,
     "start_time": "2023-11-17T19:54:32.131642",
     "status": "completed"
    },
    "tags": []
   },
   "outputs": [
    {
     "data": {
      "text/plain": [
       "array([-0.04707443, -0.01224539, -0.4437675 ,  0.43727365,  0.32028368,\n",
       "       -0.33513963, -0.25911698,  0.40144417], dtype=float32)"
      ]
     },
     "execution_count": 21,
     "metadata": {},
     "output_type": "execute_result"
    }
   ],
   "source": [
    "## finally our bias params and its value\n",
    "T_b"
   ]
  },
  {
   "cell_type": "code",
   "execution_count": null,
   "id": "5ffc3ada",
   "metadata": {
    "papermill": {
     "duration": 0.010516,
     "end_time": "2023-11-17T19:54:32.173180",
     "exception": false,
     "start_time": "2023-11-17T19:54:32.162664",
     "status": "completed"
    },
    "tags": []
   },
   "outputs": [],
   "source": []
  }
 ],
 "metadata": {
  "kaggle": {
   "accelerator": "gpu",
   "dataSources": [],
   "isGpuEnabled": true,
   "isInternetEnabled": true,
   "language": "python",
   "sourceType": "notebook"
  },
  "kernelspec": {
   "display_name": "Python 3",
   "language": "python",
   "name": "python3"
  },
  "language_info": {
   "codemirror_mode": {
    "name": "ipython",
    "version": 3
   },
   "file_extension": ".py",
   "mimetype": "text/x-python",
   "name": "python",
   "nbconvert_exporter": "python",
   "pygments_lexer": "ipython3",
   "version": "3.10.12"
  },
  "papermill": {
   "default_parameters": {},
   "duration": 26.546139,
   "end_time": "2023-11-17T19:54:34.407871",
   "environment_variables": {},
   "exception": null,
   "input_path": "__notebook__.ipynb",
   "output_path": "__notebook__.ipynb",
   "parameters": {},
   "start_time": "2023-11-17T19:54:07.861732",
   "version": "2.4.0"
  }
 },
 "nbformat": 4,
 "nbformat_minor": 5
}
