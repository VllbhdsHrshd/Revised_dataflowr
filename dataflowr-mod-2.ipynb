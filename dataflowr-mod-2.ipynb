{
 "cells": [
  {
   "cell_type": "code",
   "execution_count": 1,
   "id": "78d6ac2a",
   "metadata": {
    "_cell_guid": "b1076dfc-b9ad-4769-8c92-a6c4dae69d19",
    "_uuid": "8f2839f25d086af736a60e9eeb907d3b93b6e0e5",
    "execution": {
     "iopub.execute_input": "2023-10-30T19:35:55.492754Z",
     "iopub.status.busy": "2023-10-30T19:35:55.492430Z",
     "iopub.status.idle": "2023-10-30T19:35:58.765375Z",
     "shell.execute_reply": "2023-10-30T19:35:58.764570Z"
    },
    "papermill": {
     "duration": 3.289047,
     "end_time": "2023-10-30T19:35:58.767765",
     "exception": false,
     "start_time": "2023-10-30T19:35:55.478718",
     "status": "completed"
    },
    "tags": []
   },
   "outputs": [],
   "source": [
    "import torch as tr\n",
    "import numpy as np\n",
    "import matplotlib.pyplot as plt\n",
    "%matplotlib inline\n"
   ]
  },
  {
   "cell_type": "code",
   "execution_count": 2,
   "id": "85e8791f",
   "metadata": {
    "execution": {
     "iopub.execute_input": "2023-10-30T19:35:58.793463Z",
     "iopub.status.busy": "2023-10-30T19:35:58.793087Z",
     "iopub.status.idle": "2023-10-30T19:35:58.799396Z",
     "shell.execute_reply": "2023-10-30T19:35:58.798577Z"
    },
    "papermill": {
     "duration": 0.020855,
     "end_time": "2023-10-30T19:35:58.801190",
     "exception": false,
     "start_time": "2023-10-30T19:35:58.780335",
     "status": "completed"
    },
    "tags": []
   },
   "outputs": [
    {
     "data": {
      "text/plain": [
       "'2.0.0'"
      ]
     },
     "execution_count": 2,
     "metadata": {},
     "output_type": "execute_result"
    }
   ],
   "source": [
    "tr.__version__"
   ]
  },
  {
   "cell_type": "markdown",
   "id": "ad395aa5",
   "metadata": {
    "papermill": {
     "duration": 0.011935,
     "end_time": "2023-10-30T19:35:58.825109",
     "exception": false,
     "start_time": "2023-10-30T19:35:58.813174",
     "status": "completed"
    },
    "tags": []
   },
   "source": [
    "**Initialization**"
   ]
  },
  {
   "cell_type": "code",
   "execution_count": 3,
   "id": "6a7f94dd",
   "metadata": {
    "execution": {
     "iopub.execute_input": "2023-10-30T19:35:58.850178Z",
     "iopub.status.busy": "2023-10-30T19:35:58.849910Z",
     "iopub.status.idle": "2023-10-30T19:35:58.931535Z",
     "shell.execute_reply": "2023-10-30T19:35:58.930520Z"
    },
    "papermill": {
     "duration": 0.096395,
     "end_time": "2023-10-30T19:35:58.933558",
     "exception": false,
     "start_time": "2023-10-30T19:35:58.837163",
     "status": "completed"
    },
    "tags": []
   },
   "outputs": [
    {
     "name": "stdout",
     "output_type": "stream",
     "text": [
      "tensor([[-4.6456e+36,  4.5057e-41, -4.6456e+36,  4.5057e-41,  0.0000e+00],\n",
      "        [ 0.0000e+00,  0.0000e+00,  0.0000e+00,  0.0000e+00,  0.0000e+00],\n",
      "        [ 0.0000e+00,  0.0000e+00,  0.0000e+00,  0.0000e+00,  0.0000e+00]]) torch.float32\n"
     ]
    }
   ],
   "source": [
    "x = tr.empty(3,5)\n",
    "print(x, x.dtype)"
   ]
  },
  {
   "cell_type": "code",
   "execution_count": 4,
   "id": "275c5e64",
   "metadata": {
    "execution": {
     "iopub.execute_input": "2023-10-30T19:35:58.958940Z",
     "iopub.status.busy": "2023-10-30T19:35:58.958667Z",
     "iopub.status.idle": "2023-10-30T19:35:58.969020Z",
     "shell.execute_reply": "2023-10-30T19:35:58.968047Z"
    },
    "papermill": {
     "duration": 0.025086,
     "end_time": "2023-10-30T19:35:58.970884",
     "exception": false,
     "start_time": "2023-10-30T19:35:58.945798",
     "status": "completed"
    },
    "tags": []
   },
   "outputs": [
    {
     "name": "stdout",
     "output_type": "stream",
     "text": [
      "tensor([[-0.2591, -1.1845, -0.1609,  0.3169,  0.3200],\n",
      "        [ 0.6061,  0.2578, -1.3171, -0.0648,  0.7650],\n",
      "        [ 0.8979, -0.3222,  0.8741, -0.3836, -0.4792]]) torch.float32 torch.Size([3, 5]) 2\n"
     ]
    }
   ],
   "source": [
    "x = tr.randn(3,5)\n",
    "print(x, x.dtype, x.size(), x.ndim) ### Try x.size instead of x.size()"
   ]
  },
  {
   "cell_type": "code",
   "execution_count": 5,
   "id": "0336f7d0",
   "metadata": {
    "execution": {
     "iopub.execute_input": "2023-10-30T19:35:58.996858Z",
     "iopub.status.busy": "2023-10-30T19:35:58.996210Z",
     "iopub.status.idle": "2023-10-30T19:35:59.001932Z",
     "shell.execute_reply": "2023-10-30T19:35:59.001174Z"
    },
    "papermill": {
     "duration": 0.02082,
     "end_time": "2023-10-30T19:35:59.003878",
     "exception": false,
     "start_time": "2023-10-30T19:35:58.983058",
     "status": "completed"
    },
    "tags": []
   },
   "outputs": [
    {
     "data": {
      "text/plain": [
       "(True, 3)"
      ]
     },
     "execution_count": 5,
     "metadata": {},
     "output_type": "execute_result"
    }
   ],
   "source": [
    "x.size()==(3,5), x.size()[0]"
   ]
  },
  {
   "cell_type": "markdown",
   "id": "033957b4",
   "metadata": {
    "papermill": {
     "duration": 0.011978,
     "end_time": "2023-10-30T19:35:59.028095",
     "exception": false,
     "start_time": "2023-10-30T19:35:59.016117",
     "status": "completed"
    },
    "tags": []
   },
   "source": [
    "**Linking Torch's Tensor with Numpy**"
   ]
  },
  {
   "cell_type": "code",
   "execution_count": 6,
   "id": "0b7f79e8",
   "metadata": {
    "execution": {
     "iopub.execute_input": "2023-10-30T19:35:59.054111Z",
     "iopub.status.busy": "2023-10-30T19:35:59.053433Z",
     "iopub.status.idle": "2023-10-30T19:35:59.058854Z",
     "shell.execute_reply": "2023-10-30T19:35:59.057858Z"
    },
    "papermill": {
     "duration": 0.020427,
     "end_time": "2023-10-30T19:35:59.060793",
     "exception": false,
     "start_time": "2023-10-30T19:35:59.040366",
     "status": "completed"
    },
    "tags": []
   },
   "outputs": [
    {
     "name": "stdout",
     "output_type": "stream",
     "text": [
      "[[-0.25914267 -1.1844988  -0.16094549  0.31693587  0.32004854]\n",
      " [ 0.6060782   0.25783896 -1.3171242  -0.06476033  0.7650403 ]\n",
      " [ 0.8979232  -0.3221707   0.8740658  -0.3835973  -0.47920775]] torch.float32 float32\n"
     ]
    }
   ],
   "source": [
    "y = x.numpy()\n",
    "print(y, x.dtype, y.dtype)"
   ]
  },
  {
   "cell_type": "code",
   "execution_count": 7,
   "id": "b3cb4a63",
   "metadata": {
    "execution": {
     "iopub.execute_input": "2023-10-30T19:35:59.086506Z",
     "iopub.status.busy": "2023-10-30T19:35:59.086205Z",
     "iopub.status.idle": "2023-10-30T19:35:59.091785Z",
     "shell.execute_reply": "2023-10-30T19:35:59.090989Z"
    },
    "papermill": {
     "duration": 0.020527,
     "end_time": "2023-10-30T19:35:59.093579",
     "exception": false,
     "start_time": "2023-10-30T19:35:59.073052",
     "status": "completed"
    },
    "tags": []
   },
   "outputs": [
    {
     "name": "stdout",
     "output_type": "stream",
     "text": [
      "float64 tensor([1., 1., 1., 1., 1.], dtype=torch.float64) torch.float64\n"
     ]
    }
   ],
   "source": [
    "a = np.ones(5)\n",
    "b = tr.from_numpy(a)\n",
    "print(a.dtype, b, b.dtype)"
   ]
  },
  {
   "cell_type": "code",
   "execution_count": 8,
   "id": "b6582b8f",
   "metadata": {
    "execution": {
     "iopub.execute_input": "2023-10-30T19:35:59.120840Z",
     "iopub.status.busy": "2023-10-30T19:35:59.120570Z",
     "iopub.status.idle": "2023-10-30T19:35:59.125896Z",
     "shell.execute_reply": "2023-10-30T19:35:59.125068Z"
    },
    "papermill": {
     "duration": 0.020514,
     "end_time": "2023-10-30T19:35:59.127717",
     "exception": false,
     "start_time": "2023-10-30T19:35:59.107203",
     "status": "completed"
    },
    "tags": []
   },
   "outputs": [
    {
     "name": "stdout",
     "output_type": "stream",
     "text": [
      "tensor([1, 1, 1, 1, 1]) torch.Size([5]) torch.int64\n"
     ]
    }
   ],
   "source": [
    "c = b.long()\n",
    "print(c, c.size(), c.dtype)"
   ]
  },
  {
   "cell_type": "code",
   "execution_count": 9,
   "id": "f52fa5e1",
   "metadata": {
    "execution": {
     "iopub.execute_input": "2023-10-30T19:35:59.153511Z",
     "iopub.status.busy": "2023-10-30T19:35:59.153258Z",
     "iopub.status.idle": "2023-10-30T19:35:59.158600Z",
     "shell.execute_reply": "2023-10-30T19:35:59.157687Z"
    },
    "papermill": {
     "duration": 0.020383,
     "end_time": "2023-10-30T19:35:59.160526",
     "exception": false,
     "start_time": "2023-10-30T19:35:59.140143",
     "status": "completed"
    },
    "tags": []
   },
   "outputs": [
    {
     "name": "stdout",
     "output_type": "stream",
     "text": [
      "torch.float32 tensor([[ 0.9189, -1.3836, -1.0831, -0.4382,  1.1416],\n",
      "        [ 0.2086, -1.0757, -0.5857,  0.8876, -0.3710],\n",
      "        [ 0.8232,  0.7161, -0.3150,  0.2464, -0.7146]])\n"
     ]
    }
   ],
   "source": [
    "xr = tr.randn(3,5)\n",
    "print(xr.dtype, xr)"
   ]
  },
  {
   "cell_type": "code",
   "execution_count": 10,
   "id": "64a00538",
   "metadata": {
    "execution": {
     "iopub.execute_input": "2023-10-30T19:35:59.187241Z",
     "iopub.status.busy": "2023-10-30T19:35:59.186730Z",
     "iopub.status.idle": "2023-10-30T19:35:59.194472Z",
     "shell.execute_reply": "2023-10-30T19:35:59.193484Z"
    },
    "papermill": {
     "duration": 0.023198,
     "end_time": "2023-10-30T19:35:59.196469",
     "exception": false,
     "start_time": "2023-10-30T19:35:59.173271",
     "status": "completed"
    },
    "tags": []
   },
   "outputs": [
    {
     "name": "stdout",
     "output_type": "stream",
     "text": [
      "tensor([[ 1.9189, -0.3836, -0.0831,  0.5618,  2.1416],\n",
      "        [ 1.2086, -0.0757,  0.4143,  1.8876,  0.6290],\n",
      "        [ 1.8232,  1.7161,  0.6850,  1.2464,  0.2854]], dtype=torch.float64) torch.float64 torch.Size([3, 5]) torch.Size([5])\n"
     ]
    }
   ],
   "source": [
    "resb = xr + b\n",
    "print(resb, resb.dtype, resb.size(), b.size())"
   ]
  },
  {
   "cell_type": "code",
   "execution_count": 11,
   "id": "4a2e520a",
   "metadata": {
    "execution": {
     "iopub.execute_input": "2023-10-30T19:35:59.267412Z",
     "iopub.status.busy": "2023-10-30T19:35:59.266642Z",
     "iopub.status.idle": "2023-10-30T19:35:59.273474Z",
     "shell.execute_reply": "2023-10-30T19:35:59.272653Z"
    },
    "papermill": {
     "duration": 0.022964,
     "end_time": "2023-10-30T19:35:59.275481",
     "exception": false,
     "start_time": "2023-10-30T19:35:59.252517",
     "status": "completed"
    },
    "tags": []
   },
   "outputs": [
    {
     "data": {
      "text/plain": [
       "(tensor([[ 1.9189, -0.3836, -0.0831,  0.5618,  2.1416],\n",
       "         [ 1.2086, -0.0757,  0.4143,  1.8876,  0.6290],\n",
       "         [ 1.8232,  1.7161,  0.6850,  1.2464,  0.2854]]),\n",
       " torch.Size([3, 5]),\n",
       " torch.float32)"
      ]
     },
     "execution_count": 11,
     "metadata": {},
     "output_type": "execute_result"
    }
   ],
   "source": [
    "resc = xr + c\n",
    "resc, resc.size(), resc.dtype"
   ]
  },
  {
   "cell_type": "code",
   "execution_count": 12,
   "id": "bb8ad5e2",
   "metadata": {
    "execution": {
     "iopub.execute_input": "2023-10-30T19:35:59.302619Z",
     "iopub.status.busy": "2023-10-30T19:35:59.302135Z",
     "iopub.status.idle": "2023-10-30T19:35:59.308197Z",
     "shell.execute_reply": "2023-10-30T19:35:59.307389Z"
    },
    "papermill": {
     "duration": 0.02169,
     "end_time": "2023-10-30T19:35:59.310003",
     "exception": false,
     "start_time": "2023-10-30T19:35:59.288313",
     "status": "completed"
    },
    "tags": []
   },
   "outputs": [
    {
     "data": {
      "text/plain": [
       "tensor([[ True,  True,  True, False,  True],\n",
       "        [ True,  True,  True, False,  True],\n",
       "        [ True, False,  True, False,  True]])"
      ]
     },
     "execution_count": 12,
     "metadata": {},
     "output_type": "execute_result"
    }
   ],
   "source": [
    "resb == resc ## Saw the difference refer to the dtype of a, b and c"
   ]
  },
  {
   "cell_type": "code",
   "execution_count": 13,
   "id": "baa0d258",
   "metadata": {
    "execution": {
     "iopub.execute_input": "2023-10-30T19:35:59.337036Z",
     "iopub.status.busy": "2023-10-30T19:35:59.336791Z",
     "iopub.status.idle": "2023-10-30T19:35:59.340519Z",
     "shell.execute_reply": "2023-10-30T19:35:59.339698Z"
    },
    "papermill": {
     "duration": 0.019478,
     "end_time": "2023-10-30T19:35:59.342336",
     "exception": false,
     "start_time": "2023-10-30T19:35:59.322858",
     "status": "completed"
    },
    "tags": []
   },
   "outputs": [],
   "source": [
    "tr.set_printoptions(precision=10)"
   ]
  },
  {
   "cell_type": "code",
   "execution_count": 14,
   "id": "3a8bebb9",
   "metadata": {
    "execution": {
     "iopub.execute_input": "2023-10-30T19:35:59.369143Z",
     "iopub.status.busy": "2023-10-30T19:35:59.368901Z",
     "iopub.status.idle": "2023-10-30T19:35:59.375629Z",
     "shell.execute_reply": "2023-10-30T19:35:59.374870Z"
    },
    "papermill": {
     "duration": 0.022215,
     "end_time": "2023-10-30T19:35:59.377478",
     "exception": false,
     "start_time": "2023-10-30T19:35:59.355263",
     "status": "completed"
    },
    "tags": []
   },
   "outputs": [
    {
     "data": {
      "text/plain": [
       "(tensor(-0.3836188316, dtype=torch.float64),\n",
       " tensor(-0.3836188316),\n",
       " torch.float32)"
      ]
     },
     "execution_count": 14,
     "metadata": {},
     "output_type": "execute_result"
    }
   ],
   "source": [
    "resb[0,1], resc[0,1], resc[0,1].dtype"
   ]
  },
  {
   "cell_type": "code",
   "execution_count": 15,
   "id": "8a87f5c0",
   "metadata": {
    "execution": {
     "iopub.execute_input": "2023-10-30T19:35:59.404437Z",
     "iopub.status.busy": "2023-10-30T19:35:59.404143Z",
     "iopub.status.idle": "2023-10-30T19:35:59.410670Z",
     "shell.execute_reply": "2023-10-30T19:35:59.409786Z"
    },
    "papermill": {
     "duration": 0.022307,
     "end_time": "2023-10-30T19:35:59.412677",
     "exception": false,
     "start_time": "2023-10-30T19:35:59.390370",
     "status": "completed"
    },
    "tags": []
   },
   "outputs": [
    {
     "data": {
      "text/plain": [
       "tensor(-1.3836188316)"
      ]
     },
     "execution_count": 15,
     "metadata": {},
     "output_type": "execute_result"
    }
   ],
   "source": [
    "xr[0,1]"
   ]
  },
  {
   "cell_type": "code",
   "execution_count": 16,
   "id": "b040407e",
   "metadata": {
    "execution": {
     "iopub.execute_input": "2023-10-30T19:35:59.441308Z",
     "iopub.status.busy": "2023-10-30T19:35:59.440785Z",
     "iopub.status.idle": "2023-10-30T19:35:59.445472Z",
     "shell.execute_reply": "2023-10-30T19:35:59.444455Z"
    },
    "papermill": {
     "duration": 0.0221,
     "end_time": "2023-10-30T19:35:59.447930",
     "exception": false,
     "start_time": "2023-10-30T19:35:59.425830",
     "status": "completed"
    },
    "tags": []
   },
   "outputs": [],
   "source": [
    "tr.set_printoptions(precision=4)"
   ]
  },
  {
   "cell_type": "markdown",
   "id": "c10a24cd",
   "metadata": {
    "papermill": {
     "duration": 0.015259,
     "end_time": "2023-10-30T19:35:59.480805",
     "exception": false,
     "start_time": "2023-10-30T19:35:59.465546",
     "status": "completed"
    },
    "tags": []
   },
   "source": [
    "**Broadcasting!!!**"
   ]
  },
  {
   "cell_type": "code",
   "execution_count": 17,
   "id": "e04385d9",
   "metadata": {
    "execution": {
     "iopub.execute_input": "2023-10-30T19:35:59.510377Z",
     "iopub.status.busy": "2023-10-30T19:35:59.509821Z",
     "iopub.status.idle": "2023-10-30T19:35:59.517115Z",
     "shell.execute_reply": "2023-10-30T19:35:59.516252Z"
    },
    "papermill": {
     "duration": 0.023292,
     "end_time": "2023-10-30T19:35:59.519016",
     "exception": false,
     "start_time": "2023-10-30T19:35:59.495724",
     "status": "completed"
    },
    "tags": []
   },
   "outputs": [
    {
     "name": "stdout",
     "output_type": "stream",
     "text": [
      "tensor([[1.],\n",
      "        [2.],\n",
      "        [3.],\n",
      "        [4.]]) torch.Size([4, 1])\n",
      "tensor([[ 5., -5.,  5., -5.,  5.]]) torch.Size([1, 5])\n"
     ]
    }
   ],
   "source": [
    "A = tr.tensor([[1.],[2.],[3.],[4.]])\n",
    "print(A, A.size())\n",
    "B = tr.tensor([[5., -5., 5., -5., 5.]])\n",
    "print(B, B.size())"
   ]
  },
  {
   "cell_type": "code",
   "execution_count": 18,
   "id": "c1800475",
   "metadata": {
    "execution": {
     "iopub.execute_input": "2023-10-30T19:35:59.546790Z",
     "iopub.status.busy": "2023-10-30T19:35:59.546518Z",
     "iopub.status.idle": "2023-10-30T19:35:59.553033Z",
     "shell.execute_reply": "2023-10-30T19:35:59.552291Z"
    },
    "papermill": {
     "duration": 0.022875,
     "end_time": "2023-10-30T19:35:59.555207",
     "exception": false,
     "start_time": "2023-10-30T19:35:59.532332",
     "status": "completed"
    },
    "tags": []
   },
   "outputs": [
    {
     "data": {
      "text/plain": [
       "(tensor([[ 6., -4.,  6., -4.,  6.],\n",
       "         [ 7., -3.,  7., -3.,  7.],\n",
       "         [ 8., -2.,  8., -2.,  8.],\n",
       "         [ 9., -1.,  9., -1.,  9.]]),\n",
       " torch.Size([4, 5]))"
      ]
     },
     "execution_count": 18,
     "metadata": {},
     "output_type": "execute_result"
    }
   ],
   "source": [
    "C = A + B ## A->[4,1] => [4,5] and B->[1,5] => [4,5]\n",
    "C, C.size()"
   ]
  },
  {
   "cell_type": "markdown",
   "id": "a5b177b9",
   "metadata": {
    "papermill": {
     "duration": 0.016164,
     "end_time": "2023-10-30T19:35:59.584807",
     "exception": false,
     "start_time": "2023-10-30T19:35:59.568643",
     "status": "completed"
    },
    "tags": []
   },
   "source": [
    "***In place Modification***"
   ]
  },
  {
   "cell_type": "code",
   "execution_count": 19,
   "id": "6e3736ea",
   "metadata": {
    "execution": {
     "iopub.execute_input": "2023-10-30T19:35:59.619609Z",
     "iopub.status.busy": "2023-10-30T19:35:59.619201Z",
     "iopub.status.idle": "2023-10-30T19:35:59.628700Z",
     "shell.execute_reply": "2023-10-30T19:35:59.627761Z"
    },
    "papermill": {
     "duration": 0.03125,
     "end_time": "2023-10-30T19:35:59.631686",
     "exception": false,
     "start_time": "2023-10-30T19:35:59.600436",
     "status": "completed"
    },
    "tags": []
   },
   "outputs": [
    {
     "data": {
      "text/plain": [
       "(tensor([[-0.2591, -1.1845, -0.1609,  0.3169,  0.3200],\n",
       "         [ 0.6061,  0.2578, -1.3171, -0.0648,  0.7650],\n",
       "         [ 0.8979, -0.3222,  0.8741, -0.3836, -0.4792]]),\n",
       " tensor([[ 0.9189, -1.3836, -1.0831, -0.4382,  1.1416],\n",
       "         [ 0.2086, -1.0757, -0.5857,  0.8876, -0.3710],\n",
       "         [ 0.8232,  0.7161, -0.3150,  0.2464, -0.7146]]),\n",
       " True)"
      ]
     },
     "execution_count": 19,
     "metadata": {},
     "output_type": "execute_result"
    }
   ],
   "source": [
    "x, xr, x.size()==xr.size()"
   ]
  },
  {
   "cell_type": "code",
   "execution_count": 20,
   "id": "8f9560f0",
   "metadata": {
    "execution": {
     "iopub.execute_input": "2023-10-30T19:35:59.668715Z",
     "iopub.status.busy": "2023-10-30T19:35:59.668312Z",
     "iopub.status.idle": "2023-10-30T19:35:59.674959Z",
     "shell.execute_reply": "2023-10-30T19:35:59.673432Z"
    },
    "papermill": {
     "duration": 0.028307,
     "end_time": "2023-10-30T19:35:59.677123",
     "exception": false,
     "start_time": "2023-10-30T19:35:59.648816",
     "status": "completed"
    },
    "tags": []
   },
   "outputs": [
    {
     "name": "stdout",
     "output_type": "stream",
     "text": [
      "tensor([[ 0.65979, -2.56812, -1.24408, -0.12125,  1.46162],\n",
      "        [ 0.81467, -0.81791, -1.90283,  0.82286,  0.39405],\n",
      "        [ 1.72112,  0.39392,  0.55905, -0.13723, -1.19378]])\n"
     ]
    }
   ],
   "source": [
    "tr.set_printoptions(precision=5)\n",
    "print(x+xr)\n"
   ]
  },
  {
   "cell_type": "code",
   "execution_count": 21,
   "id": "cc56f77d",
   "metadata": {
    "execution": {
     "iopub.execute_input": "2023-10-30T19:35:59.707015Z",
     "iopub.status.busy": "2023-10-30T19:35:59.706721Z",
     "iopub.status.idle": "2023-10-30T19:35:59.714294Z",
     "shell.execute_reply": "2023-10-30T19:35:59.713086Z"
    },
    "papermill": {
     "duration": 0.025472,
     "end_time": "2023-10-30T19:35:59.716836",
     "exception": false,
     "start_time": "2023-10-30T19:35:59.691364",
     "status": "completed"
    },
    "tags": []
   },
   "outputs": [
    {
     "data": {
      "text/plain": [
       "tensor([[ 0.65979, -2.56812, -1.24408, -0.12125,  1.46162],\n",
       "        [ 0.81467, -0.81791, -1.90283,  0.82286,  0.39405],\n",
       "        [ 1.72112,  0.39392,  0.55905, -0.13723, -1.19378]])"
      ]
     },
     "execution_count": 21,
     "metadata": {},
     "output_type": "execute_result"
    }
   ],
   "source": [
    "x.add_(xr) \n",
    "x"
   ]
  },
  {
   "cell_type": "code",
   "execution_count": 22,
   "id": "95879f6c",
   "metadata": {
    "execution": {
     "iopub.execute_input": "2023-10-30T19:35:59.745843Z",
     "iopub.status.busy": "2023-10-30T19:35:59.745592Z",
     "iopub.status.idle": "2023-10-30T19:35:59.755638Z",
     "shell.execute_reply": "2023-10-30T19:35:59.754775Z"
    },
    "papermill": {
     "duration": 0.026534,
     "end_time": "2023-10-30T19:35:59.757520",
     "exception": false,
     "start_time": "2023-10-30T19:35:59.730986",
     "status": "completed"
    },
    "tags": []
   },
   "outputs": [
    {
     "name": "stdout",
     "output_type": "stream",
     "text": [
      "tensor([[ 0.65979,  0.81467,  1.72112],\n",
      "        [-2.56812, -0.81791,  0.39392],\n",
      "        [-1.24408, -1.90283,  0.55905],\n",
      "        [-0.12125,  0.82286, -0.13723],\n",
      "        [ 1.46162,  0.39405, -1.19378]])\n"
     ]
    },
    {
     "data": {
      "text/plain": [
       "tensor([[ 0.65979,  0.81467,  1.72112],\n",
       "        [-2.56812, -0.81791,  0.39392],\n",
       "        [-1.24408, -1.90283,  0.55905],\n",
       "        [-0.12125,  0.82286, -0.13723],\n",
       "        [ 1.46162,  0.39405, -1.19378]])"
      ]
     },
     "execution_count": 22,
     "metadata": {},
     "output_type": "execute_result"
    }
   ],
   "source": [
    "print(x.t())\n",
    "x.t()  ## you can also take transpose by simply using --> x.T"
   ]
  },
  {
   "cell_type": "code",
   "execution_count": 23,
   "id": "c9f33704",
   "metadata": {
    "execution": {
     "iopub.execute_input": "2023-10-30T19:35:59.786249Z",
     "iopub.status.busy": "2023-10-30T19:35:59.785966Z",
     "iopub.status.idle": "2023-10-30T19:35:59.792173Z",
     "shell.execute_reply": "2023-10-30T19:35:59.791356Z"
    },
    "papermill": {
     "duration": 0.022887,
     "end_time": "2023-10-30T19:35:59.794251",
     "exception": false,
     "start_time": "2023-10-30T19:35:59.771364",
     "status": "completed"
    },
    "tags": []
   },
   "outputs": [
    {
     "data": {
      "text/plain": [
       "tensor([[ 0.65979,  0.81467,  1.72112],\n",
       "        [-2.56812, -0.81791,  0.39392],\n",
       "        [-1.24408, -1.90283,  0.55905],\n",
       "        [-0.12125,  0.82286, -0.13723],\n",
       "        [ 1.46162,  0.39405, -1.19378]])"
      ]
     },
     "execution_count": 23,
     "metadata": {},
     "output_type": "execute_result"
    }
   ],
   "source": [
    "x.t_()\n",
    "x ## See it finally affected the original var, SO BE CAREFULL!!!!!"
   ]
  },
  {
   "cell_type": "code",
   "execution_count": 24,
   "id": "5849f593",
   "metadata": {
    "execution": {
     "iopub.execute_input": "2023-10-30T19:35:59.823500Z",
     "iopub.status.busy": "2023-10-30T19:35:59.823221Z",
     "iopub.status.idle": "2023-10-30T19:35:59.828816Z",
     "shell.execute_reply": "2023-10-30T19:35:59.827759Z"
    },
    "papermill": {
     "duration": 0.022475,
     "end_time": "2023-10-30T19:35:59.830671",
     "exception": false,
     "start_time": "2023-10-30T19:35:59.808196",
     "status": "completed"
    },
    "tags": []
   },
   "outputs": [
    {
     "name": "stdout",
     "output_type": "stream",
     "text": [
      "tensor([1., 1., 1., 1., 1.], dtype=torch.float64)\n"
     ]
    }
   ],
   "source": [
    "## Shared Memory\n",
    "a = np.ones(5)\n",
    "b = tr.from_numpy(a)\n",
    "print(b)\n"
   ]
  },
  {
   "cell_type": "code",
   "execution_count": 25,
   "id": "7f3422b0",
   "metadata": {
    "execution": {
     "iopub.execute_input": "2023-10-30T19:35:59.868174Z",
     "iopub.status.busy": "2023-10-30T19:35:59.867307Z",
     "iopub.status.idle": "2023-10-30T19:35:59.872837Z",
     "shell.execute_reply": "2023-10-30T19:35:59.872006Z"
    },
    "papermill": {
     "duration": 0.027366,
     "end_time": "2023-10-30T19:35:59.874755",
     "exception": false,
     "start_time": "2023-10-30T19:35:59.847389",
     "status": "completed"
    },
    "tags": []
   },
   "outputs": [
    {
     "name": "stdout",
     "output_type": "stream",
     "text": [
      "tensor([1., 1., 3., 1., 1.], dtype=torch.float64)\n"
     ]
    }
   ],
   "source": [
    "a[2]=3\n",
    "print(b) ## Be careful they appeared to be linked"
   ]
  },
  {
   "cell_type": "code",
   "execution_count": 26,
   "id": "26aabb26",
   "metadata": {
    "execution": {
     "iopub.execute_input": "2023-10-30T19:35:59.904737Z",
     "iopub.status.busy": "2023-10-30T19:35:59.903954Z",
     "iopub.status.idle": "2023-10-30T19:35:59.909740Z",
     "shell.execute_reply": "2023-10-30T19:35:59.908959Z"
    },
    "papermill": {
     "duration": 0.022497,
     "end_time": "2023-10-30T19:35:59.911578",
     "exception": false,
     "start_time": "2023-10-30T19:35:59.889081",
     "status": "completed"
    },
    "tags": []
   },
   "outputs": [
    {
     "data": {
      "text/plain": [
       "array([1., 1., 1., 1., 1.])"
      ]
     },
     "execution_count": 26,
     "metadata": {},
     "output_type": "execute_result"
    }
   ],
   "source": [
    "b[2] = 1\n",
    "a  ## same goes for here "
   ]
  },
  {
   "cell_type": "markdown",
   "id": "14b350fb",
   "metadata": {
    "papermill": {
     "duration": 0.014021,
     "end_time": "2023-10-30T19:35:59.939887",
     "exception": false,
     "start_time": "2023-10-30T19:35:59.925866",
     "status": "completed"
    },
    "tags": []
   },
   "source": [
    "***CUDA***"
   ]
  },
  {
   "cell_type": "code",
   "execution_count": 27,
   "id": "95bb6fb5",
   "metadata": {
    "execution": {
     "iopub.execute_input": "2023-10-30T19:35:59.969440Z",
     "iopub.status.busy": "2023-10-30T19:35:59.969180Z",
     "iopub.status.idle": "2023-10-30T19:36:00.038307Z",
     "shell.execute_reply": "2023-10-30T19:36:00.036965Z"
    },
    "papermill": {
     "duration": 0.087075,
     "end_time": "2023-10-30T19:36:00.041355",
     "exception": false,
     "start_time": "2023-10-30T19:35:59.954280",
     "status": "completed"
    },
    "tags": []
   },
   "outputs": [
    {
     "data": {
      "text/plain": [
       "True"
      ]
     },
     "execution_count": 27,
     "metadata": {},
     "output_type": "execute_result"
    }
   ],
   "source": [
    "tr.cuda.is_available()"
   ]
  },
  {
   "cell_type": "code",
   "execution_count": 28,
   "id": "fc48e172",
   "metadata": {
    "execution": {
     "iopub.execute_input": "2023-10-30T19:36:00.077263Z",
     "iopub.status.busy": "2023-10-30T19:36:00.076669Z",
     "iopub.status.idle": "2023-10-30T19:36:00.083438Z",
     "shell.execute_reply": "2023-10-30T19:36:00.082525Z"
    },
    "papermill": {
     "duration": 0.025392,
     "end_time": "2023-10-30T19:36:00.085503",
     "exception": false,
     "start_time": "2023-10-30T19:36:00.060111",
     "status": "completed"
    },
    "tags": []
   },
   "outputs": [
    {
     "data": {
      "text/plain": [
       "'cuda'"
      ]
     },
     "execution_count": 28,
     "metadata": {},
     "output_type": "execute_result"
    }
   ],
   "source": [
    "device = 'cuda' if tr.cuda.is_available() else 'cpu'\n",
    "device"
   ]
  },
  {
   "cell_type": "code",
   "execution_count": 29,
   "id": "d49721d3",
   "metadata": {
    "execution": {
     "iopub.execute_input": "2023-10-30T19:36:00.118044Z",
     "iopub.status.busy": "2023-10-30T19:36:00.117766Z",
     "iopub.status.idle": "2023-10-30T19:36:03.071018Z",
     "shell.execute_reply": "2023-10-30T19:36:03.070101Z"
    },
    "papermill": {
     "duration": 2.971095,
     "end_time": "2023-10-30T19:36:03.073134",
     "exception": false,
     "start_time": "2023-10-30T19:36:00.102039",
     "status": "completed"
    },
    "tags": []
   },
   "outputs": [
    {
     "name": "stdout",
     "output_type": "stream",
     "text": [
      "tensor([[ 1.65979,  1.81467,  2.72112],\n",
      "        [-1.56812,  0.18209,  1.39392],\n",
      "        [-0.24408, -0.90283,  1.55905],\n",
      "        [ 0.87875,  1.82286,  0.86277],\n",
      "        [ 2.46162,  1.39405, -0.19378]], device='cuda:0') torch.cuda.FloatTensor\n",
      "tensor([[ 1.65979,  1.81467,  2.72112],\n",
      "        [-1.56812,  0.18209,  1.39392],\n",
      "        [-0.24408, -0.90283,  1.55905],\n",
      "        [ 0.87875,  1.82286,  0.86277],\n",
      "        [ 2.46162,  1.39405, -0.19378]], dtype=torch.float64)\n"
     ]
    }
   ],
   "source": [
    "if tr.cuda.is_available():\n",
    "    y = tr.ones_like(x, device = device)\n",
    "    x = x.to(device)\n",
    "    z = x + y\n",
    "    print(z, z.type())\n",
    "    print(z.to(\"cpu\", tr.double)) ## Note the difference between torch.float64 vs torch.cuda.FloatTensor\n",
    "    "
   ]
  },
  {
   "cell_type": "code",
   "execution_count": 30,
   "id": "e1573096",
   "metadata": {
    "execution": {
     "iopub.execute_input": "2023-10-30T19:36:03.104538Z",
     "iopub.status.busy": "2023-10-30T19:36:03.104181Z",
     "iopub.status.idle": "2023-10-30T19:36:03.111089Z",
     "shell.execute_reply": "2023-10-30T19:36:03.110269Z"
    },
    "papermill": {
     "duration": 0.02461,
     "end_time": "2023-10-30T19:36:03.112993",
     "exception": false,
     "start_time": "2023-10-30T19:36:03.088383",
     "status": "completed"
    },
    "tags": []
   },
   "outputs": [
    {
     "data": {
      "text/plain": [
       "tensor([-1.46459])"
      ]
     },
     "execution_count": 30,
     "metadata": {},
     "output_type": "execute_result"
    }
   ],
   "source": [
    "x = tr.randn(1)\n",
    "x"
   ]
  },
  {
   "cell_type": "code",
   "execution_count": 31,
   "id": "ff63df73",
   "metadata": {
    "execution": {
     "iopub.execute_input": "2023-10-30T19:36:03.143543Z",
     "iopub.status.busy": "2023-10-30T19:36:03.143286Z",
     "iopub.status.idle": "2023-10-30T19:36:03.147529Z",
     "shell.execute_reply": "2023-10-30T19:36:03.146688Z"
    },
    "papermill": {
     "duration": 0.021642,
     "end_time": "2023-10-30T19:36:03.149492",
     "exception": false,
     "start_time": "2023-10-30T19:36:03.127850",
     "status": "completed"
    },
    "tags": []
   },
   "outputs": [],
   "source": [
    "x=x.to(device)"
   ]
  },
  {
   "cell_type": "code",
   "execution_count": 32,
   "id": "348cbc95",
   "metadata": {
    "execution": {
     "iopub.execute_input": "2023-10-30T19:36:03.179861Z",
     "iopub.status.busy": "2023-10-30T19:36:03.179621Z",
     "iopub.status.idle": "2023-10-30T19:36:03.184910Z",
     "shell.execute_reply": "2023-10-30T19:36:03.184065Z"
    },
    "papermill": {
     "duration": 0.022741,
     "end_time": "2023-10-30T19:36:03.186815",
     "exception": false,
     "start_time": "2023-10-30T19:36:03.164074",
     "status": "completed"
    },
    "tags": []
   },
   "outputs": [
    {
     "data": {
      "text/plain": [
       "device(type='cuda', index=0)"
      ]
     },
     "execution_count": 32,
     "metadata": {},
     "output_type": "execute_result"
    }
   ],
   "source": [
    "x.device"
   ]
  },
  {
   "cell_type": "code",
   "execution_count": 33,
   "id": "5faf43f8",
   "metadata": {
    "execution": {
     "iopub.execute_input": "2023-10-30T19:36:03.217324Z",
     "iopub.status.busy": "2023-10-30T19:36:03.217042Z",
     "iopub.status.idle": "2023-10-30T19:36:03.222956Z",
     "shell.execute_reply": "2023-10-30T19:36:03.222270Z"
    },
    "papermill": {
     "duration": 0.023303,
     "end_time": "2023-10-30T19:36:03.224836",
     "exception": false,
     "start_time": "2023-10-30T19:36:03.201533",
     "status": "completed"
    },
    "tags": []
   },
   "outputs": [
    {
     "data": {
      "text/plain": [
       "tensor([-1.46459], device='cuda:0')"
      ]
     },
     "execution_count": 33,
     "metadata": {},
     "output_type": "execute_result"
    }
   ],
   "source": [
    "x.data"
   ]
  },
  {
   "cell_type": "code",
   "execution_count": 34,
   "id": "364aa040",
   "metadata": {
    "execution": {
     "iopub.execute_input": "2023-10-30T19:36:03.255797Z",
     "iopub.status.busy": "2023-10-30T19:36:03.255536Z",
     "iopub.status.idle": "2023-10-30T19:36:03.261364Z",
     "shell.execute_reply": "2023-10-30T19:36:03.260488Z"
    },
    "papermill": {
     "duration": 0.023365,
     "end_time": "2023-10-30T19:36:03.263161",
     "exception": false,
     "start_time": "2023-10-30T19:36:03.239796",
     "status": "completed"
    },
    "tags": []
   },
   "outputs": [
    {
     "name": "stdout",
     "output_type": "stream",
     "text": [
      "tensor([-1.46459], device='cuda:0') -1.4645897150039673 [-1.4645897]\n"
     ]
    }
   ],
   "source": [
    "x = x.data\n",
    "print(x, x.item(), x.cpu().numpy())"
   ]
  },
  {
   "cell_type": "markdown",
   "id": "bfb7d893",
   "metadata": {
    "papermill": {
     "duration": 0.014974,
     "end_time": "2023-10-30T19:36:03.293669",
     "exception": false,
     "start_time": "2023-10-30T19:36:03.278695",
     "status": "completed"
    },
    "tags": []
   },
   "source": [
    "***CIFAR10 Permute and Narrow***"
   ]
  },
  {
   "cell_type": "code",
   "execution_count": 35,
   "id": "d3361e05",
   "metadata": {
    "execution": {
     "iopub.execute_input": "2023-10-30T19:36:03.325719Z",
     "iopub.status.busy": "2023-10-30T19:36:03.325452Z",
     "iopub.status.idle": "2023-10-30T19:36:05.614850Z",
     "shell.execute_reply": "2023-10-30T19:36:05.613604Z"
    },
    "papermill": {
     "duration": 2.307679,
     "end_time": "2023-10-30T19:36:05.617178",
     "exception": false,
     "start_time": "2023-10-30T19:36:03.309499",
     "status": "completed"
    },
    "tags": []
   },
   "outputs": [
    {
     "name": "stdout",
     "output_type": "stream",
     "text": [
      "__notebook__.ipynb  \u001b[0m\u001b[01;34mdata\u001b[0m/\r\n"
     ]
    }
   ],
   "source": [
    "import torchvision\n",
    "!mkdir data\n",
    "%ls\n",
    "\n",
    "# data_dir = ''"
   ]
  },
  {
   "cell_type": "code",
   "execution_count": 36,
   "id": "199655a5",
   "metadata": {
    "execution": {
     "iopub.execute_input": "2023-10-30T19:36:05.651183Z",
     "iopub.status.busy": "2023-10-30T19:36:05.650828Z",
     "iopub.status.idle": "2023-10-30T19:36:11.940402Z",
     "shell.execute_reply": "2023-10-30T19:36:11.939477Z"
    },
    "papermill": {
     "duration": 6.308808,
     "end_time": "2023-10-30T19:36:11.942556",
     "exception": false,
     "start_time": "2023-10-30T19:36:05.633748",
     "status": "completed"
    },
    "tags": []
   },
   "outputs": [
    {
     "name": "stdout",
     "output_type": "stream",
     "text": [
      "Downloading https://www.cs.toronto.edu/~kriz/cifar-10-python.tar.gz to /kaggle/working/data/cifar-10-python.tar.gz\n"
     ]
    },
    {
     "name": "stderr",
     "output_type": "stream",
     "text": [
      "100%|██████████| 170498071/170498071 [00:03<00:00, 49684462.53it/s]\n"
     ]
    },
    {
     "name": "stdout",
     "output_type": "stream",
     "text": [
      "Extracting /kaggle/working/data/cifar-10-python.tar.gz to /kaggle/working/data\n"
     ]
    },
    {
     "data": {
      "text/plain": [
       "(50000, 32, 32, 3)"
      ]
     },
     "execution_count": 36,
     "metadata": {},
     "output_type": "execute_result"
    }
   ],
   "source": [
    "data_dir = '/kaggle/working/data'\n",
    "cifar = torchvision.datasets.CIFAR10(data_dir, train=True, download=True)\n",
    "cifar.data.shape"
   ]
  },
  {
   "cell_type": "code",
   "execution_count": 37,
   "id": "268eb6b7",
   "metadata": {
    "execution": {
     "iopub.execute_input": "2023-10-30T19:36:11.980194Z",
     "iopub.status.busy": "2023-10-30T19:36:11.979883Z",
     "iopub.status.idle": "2023-10-30T19:36:12.480654Z",
     "shell.execute_reply": "2023-10-30T19:36:12.479527Z"
    },
    "papermill": {
     "duration": 0.522027,
     "end_time": "2023-10-30T19:36:12.482976",
     "exception": false,
     "start_time": "2023-10-30T19:36:11.960949",
     "status": "completed"
    },
    "tags": []
   },
   "outputs": [
    {
     "name": "stdout",
     "output_type": "stream",
     "text": [
      "torch.FloatTensor torch.Size([50000, 3, 32, 32]) 0.0 1.0\n"
     ]
    }
   ],
   "source": [
    "x = tr.from_numpy(cifar.data).permute(0,3,1,2).float()\n",
    "x = x / 255\n",
    "print(x.type(), x.size(), x.min().item(), x.max().item())"
   ]
  },
  {
   "cell_type": "code",
   "execution_count": 38,
   "id": "025e21e8",
   "metadata": {
    "execution": {
     "iopub.execute_input": "2023-10-30T19:36:12.522226Z",
     "iopub.status.busy": "2023-10-30T19:36:12.521908Z",
     "iopub.status.idle": "2023-10-30T19:36:12.761409Z",
     "shell.execute_reply": "2023-10-30T19:36:12.760276Z"
    },
    "papermill": {
     "duration": 0.262063,
     "end_time": "2023-10-30T19:36:12.763693",
     "exception": false,
     "start_time": "2023-10-30T19:36:12.501630",
     "status": "completed"
    },
    "tags": []
   },
   "outputs": [
    {
     "name": "stdout",
     "output_type": "stream",
     "text": [
      "torch.Size([50000, 3, 32, 32])\n"
     ]
    }
   ],
   "source": [
    "x_r = tr.from_numpy(cifar.data).permute(0,3,2,1).float()\n",
    "x_r /= 255\n",
    "print(x_r.size())"
   ]
  },
  {
   "cell_type": "code",
   "execution_count": 39,
   "id": "116192b8",
   "metadata": {
    "execution": {
     "iopub.execute_input": "2023-10-30T19:36:12.802960Z",
     "iopub.status.busy": "2023-10-30T19:36:12.802653Z",
     "iopub.status.idle": "2023-10-30T19:36:12.991074Z",
     "shell.execute_reply": "2023-10-30T19:36:12.990218Z"
    },
    "papermill": {
     "duration": 0.209659,
     "end_time": "2023-10-30T19:36:12.993050",
     "exception": false,
     "start_time": "2023-10-30T19:36:12.783391",
     "status": "completed"
    },
    "tags": []
   },
   "outputs": [
    {
     "data": {
      "text/plain": [
       "tensor([[[[ True, False, False,  ..., False, False, False],\n",
       "          [False,  True, False,  ..., False, False, False],\n",
       "          [False, False,  True,  ..., False, False, False],\n",
       "          ...,\n",
       "          [False, False, False,  ...,  True, False, False],\n",
       "          [False, False, False,  ..., False,  True, False],\n",
       "          [False, False, False,  ..., False, False,  True]],\n",
       "\n",
       "         [[ True, False, False,  ..., False, False, False],\n",
       "          [False,  True, False,  ..., False, False, False],\n",
       "          [False, False,  True,  ..., False, False, False],\n",
       "          ...,\n",
       "          [False, False, False,  ...,  True, False, False],\n",
       "          [False, False, False,  ..., False,  True, False],\n",
       "          [False, False, False,  ..., False, False,  True]],\n",
       "\n",
       "         [[ True, False, False,  ..., False, False, False],\n",
       "          [False,  True,  True,  ..., False, False, False],\n",
       "          [False,  True,  True,  ..., False, False, False],\n",
       "          ...,\n",
       "          [False, False, False,  ...,  True, False, False],\n",
       "          [False, False, False,  ..., False,  True, False],\n",
       "          [False, False, False,  ..., False, False,  True]]],\n",
       "\n",
       "\n",
       "        [[[ True, False, False,  ..., False, False, False],\n",
       "          [False,  True, False,  ..., False, False, False],\n",
       "          [False, False,  True,  ..., False, False, False],\n",
       "          ...,\n",
       "          [False, False, False,  ...,  True, False, False],\n",
       "          [False, False, False,  ..., False,  True, False],\n",
       "          [False, False, False,  ..., False, False,  True]],\n",
       "\n",
       "         [[ True, False, False,  ..., False, False, False],\n",
       "          [False,  True, False,  ..., False, False, False],\n",
       "          [False, False,  True,  ..., False, False, False],\n",
       "          ...,\n",
       "          [False, False, False,  ...,  True, False, False],\n",
       "          [False, False, False,  ..., False,  True, False],\n",
       "          [False, False, False,  ..., False, False,  True]],\n",
       "\n",
       "         [[ True, False, False,  ..., False, False, False],\n",
       "          [False,  True, False,  ..., False, False, False],\n",
       "          [False, False,  True,  ..., False, False, False],\n",
       "          ...,\n",
       "          [False, False, False,  ...,  True, False, False],\n",
       "          [False, False, False,  ..., False,  True, False],\n",
       "          [False, False, False,  ..., False, False,  True]]],\n",
       "\n",
       "\n",
       "        [[[ True, False, False,  ..., False, False, False],\n",
       "          [False,  True, False,  ..., False, False, False],\n",
       "          [False, False,  True,  ..., False, False, False],\n",
       "          ...,\n",
       "          [False, False, False,  ...,  True, False, False],\n",
       "          [False, False, False,  ..., False,  True, False],\n",
       "          [False, False, False,  ..., False, False,  True]],\n",
       "\n",
       "         [[ True, False, False,  ..., False, False, False],\n",
       "          [False,  True, False,  ..., False, False, False],\n",
       "          [False, False,  True,  ..., False, False, False],\n",
       "          ...,\n",
       "          [False, False, False,  ...,  True, False, False],\n",
       "          [False, False, False,  ..., False,  True, False],\n",
       "          [False, False, False,  ..., False, False,  True]],\n",
       "\n",
       "         [[ True, False, False,  ..., False, False, False],\n",
       "          [False,  True, False,  ..., False, False, False],\n",
       "          [False, False,  True,  ..., False, False, False],\n",
       "          ...,\n",
       "          [False, False, False,  ...,  True, False, False],\n",
       "          [False, False, False,  ..., False,  True, False],\n",
       "          [False, False, False,  ..., False, False,  True]]],\n",
       "\n",
       "\n",
       "        ...,\n",
       "\n",
       "\n",
       "        [[[ True, False, False,  ..., False, False, False],\n",
       "          [False,  True, False,  ..., False, False, False],\n",
       "          [False, False,  True,  ..., False, False, False],\n",
       "          ...,\n",
       "          [False, False, False,  ...,  True, False, False],\n",
       "          [False, False, False,  ..., False,  True, False],\n",
       "          [False, False, False,  ..., False, False,  True]],\n",
       "\n",
       "         [[ True, False, False,  ..., False, False, False],\n",
       "          [False,  True, False,  ..., False, False, False],\n",
       "          [False, False,  True,  ..., False, False, False],\n",
       "          ...,\n",
       "          [False, False, False,  ...,  True, False, False],\n",
       "          [False, False, False,  ..., False,  True, False],\n",
       "          [False, False, False,  ..., False, False,  True]],\n",
       "\n",
       "         [[ True, False, False,  ..., False, False, False],\n",
       "          [False,  True, False,  ..., False, False, False],\n",
       "          [False, False,  True,  ..., False, False, False],\n",
       "          ...,\n",
       "          [False, False, False,  ...,  True, False, False],\n",
       "          [False, False, False,  ..., False,  True, False],\n",
       "          [False, False, False,  ..., False, False,  True]]],\n",
       "\n",
       "\n",
       "        [[[ True, False, False,  ..., False, False, False],\n",
       "          [False,  True, False,  ..., False, False, False],\n",
       "          [False, False,  True,  ..., False, False, False],\n",
       "          ...,\n",
       "          [False, False, False,  ...,  True, False, False],\n",
       "          [False, False, False,  ..., False,  True, False],\n",
       "          [False, False, False,  ..., False, False,  True]],\n",
       "\n",
       "         [[ True, False, False,  ..., False, False, False],\n",
       "          [False,  True, False,  ..., False, False, False],\n",
       "          [False, False,  True,  ..., False, False, False],\n",
       "          ...,\n",
       "          [False, False, False,  ...,  True, False, False],\n",
       "          [False, False, False,  ..., False,  True, False],\n",
       "          [False, False, False,  ..., False, False,  True]],\n",
       "\n",
       "         [[ True, False, False,  ..., False, False, False],\n",
       "          [False,  True, False,  ..., False, False, False],\n",
       "          [False, False,  True,  ..., False, False, False],\n",
       "          ...,\n",
       "          [False, False, False,  ...,  True, False, False],\n",
       "          [False, False, False,  ..., False,  True, False],\n",
       "          [False, False, False,  ..., False, False,  True]]],\n",
       "\n",
       "\n",
       "        [[[ True, False, False,  ..., False, False, False],\n",
       "          [False,  True, False,  ..., False, False, False],\n",
       "          [False, False,  True,  ..., False, False, False],\n",
       "          ...,\n",
       "          [False, False, False,  ...,  True, False, False],\n",
       "          [False, False, False,  ..., False,  True, False],\n",
       "          [False, False, False,  ..., False, False,  True]],\n",
       "\n",
       "         [[ True, False, False,  ..., False, False, False],\n",
       "          [False,  True, False,  ..., False, False, False],\n",
       "          [False, False,  True,  ..., False, False, False],\n",
       "          ...,\n",
       "          [False, False, False,  ...,  True, False, False],\n",
       "          [False, False, False,  ..., False,  True, False],\n",
       "          [False, False, False,  ..., False, False,  True]],\n",
       "\n",
       "         [[ True, False, False,  ..., False, False, False],\n",
       "          [False,  True, False,  ..., False, False, False],\n",
       "          [False, False,  True,  ..., False, False, False],\n",
       "          ...,\n",
       "          [False, False, False,  ...,  True, False, False],\n",
       "          [False, False, False,  ..., False,  True, False],\n",
       "          [False, False, False,  ..., False, False,  True]]]])"
      ]
     },
     "execution_count": 39,
     "metadata": {},
     "output_type": "execute_result"
    }
   ],
   "source": [
    "x==x_r ## Litmus test, \n",
    "## Ideally we should have get all True , but here we're!!!!\n",
    "## one reason is that, even the dimension seems to be same\n",
    "## but height and width got interchanged or mismatch\n",
    "## hence the error\n"
   ]
  },
  {
   "cell_type": "code",
   "execution_count": 40,
   "id": "bbc00899",
   "metadata": {
    "execution": {
     "iopub.execute_input": "2023-10-30T19:36:13.031744Z",
     "iopub.status.busy": "2023-10-30T19:36:13.031450Z",
     "iopub.status.idle": "2023-10-30T19:36:13.447025Z",
     "shell.execute_reply": "2023-10-30T19:36:13.445976Z"
    },
    "papermill": {
     "duration": 0.43732,
     "end_time": "2023-10-30T19:36:13.449248",
     "exception": false,
     "start_time": "2023-10-30T19:36:13.011928",
     "status": "completed"
    },
    "tags": []
   },
   "outputs": [
    {
     "data": {
      "text/plain": [
       "tensor([[[[True, True, True,  ..., True, True, True],\n",
       "          [True, True, True,  ..., True, True, True],\n",
       "          [True, True, True,  ..., True, True, True],\n",
       "          ...,\n",
       "          [True, True, True,  ..., True, True, True],\n",
       "          [True, True, True,  ..., True, True, True],\n",
       "          [True, True, True,  ..., True, True, True]],\n",
       "\n",
       "         [[True, True, True,  ..., True, True, True],\n",
       "          [True, True, True,  ..., True, True, True],\n",
       "          [True, True, True,  ..., True, True, True],\n",
       "          ...,\n",
       "          [True, True, True,  ..., True, True, True],\n",
       "          [True, True, True,  ..., True, True, True],\n",
       "          [True, True, True,  ..., True, True, True]],\n",
       "\n",
       "         [[True, True, True,  ..., True, True, True],\n",
       "          [True, True, True,  ..., True, True, True],\n",
       "          [True, True, True,  ..., True, True, True],\n",
       "          ...,\n",
       "          [True, True, True,  ..., True, True, True],\n",
       "          [True, True, True,  ..., True, True, True],\n",
       "          [True, True, True,  ..., True, True, True]]],\n",
       "\n",
       "\n",
       "        [[[True, True, True,  ..., True, True, True],\n",
       "          [True, True, True,  ..., True, True, True],\n",
       "          [True, True, True,  ..., True, True, True],\n",
       "          ...,\n",
       "          [True, True, True,  ..., True, True, True],\n",
       "          [True, True, True,  ..., True, True, True],\n",
       "          [True, True, True,  ..., True, True, True]],\n",
       "\n",
       "         [[True, True, True,  ..., True, True, True],\n",
       "          [True, True, True,  ..., True, True, True],\n",
       "          [True, True, True,  ..., True, True, True],\n",
       "          ...,\n",
       "          [True, True, True,  ..., True, True, True],\n",
       "          [True, True, True,  ..., True, True, True],\n",
       "          [True, True, True,  ..., True, True, True]],\n",
       "\n",
       "         [[True, True, True,  ..., True, True, True],\n",
       "          [True, True, True,  ..., True, True, True],\n",
       "          [True, True, True,  ..., True, True, True],\n",
       "          ...,\n",
       "          [True, True, True,  ..., True, True, True],\n",
       "          [True, True, True,  ..., True, True, True],\n",
       "          [True, True, True,  ..., True, True, True]]],\n",
       "\n",
       "\n",
       "        [[[True, True, True,  ..., True, True, True],\n",
       "          [True, True, True,  ..., True, True, True],\n",
       "          [True, True, True,  ..., True, True, True],\n",
       "          ...,\n",
       "          [True, True, True,  ..., True, True, True],\n",
       "          [True, True, True,  ..., True, True, True],\n",
       "          [True, True, True,  ..., True, True, True]],\n",
       "\n",
       "         [[True, True, True,  ..., True, True, True],\n",
       "          [True, True, True,  ..., True, True, True],\n",
       "          [True, True, True,  ..., True, True, True],\n",
       "          ...,\n",
       "          [True, True, True,  ..., True, True, True],\n",
       "          [True, True, True,  ..., True, True, True],\n",
       "          [True, True, True,  ..., True, True, True]],\n",
       "\n",
       "         [[True, True, True,  ..., True, True, True],\n",
       "          [True, True, True,  ..., True, True, True],\n",
       "          [True, True, True,  ..., True, True, True],\n",
       "          ...,\n",
       "          [True, True, True,  ..., True, True, True],\n",
       "          [True, True, True,  ..., True, True, True],\n",
       "          [True, True, True,  ..., True, True, True]]],\n",
       "\n",
       "\n",
       "        ...,\n",
       "\n",
       "\n",
       "        [[[True, True, True,  ..., True, True, True],\n",
       "          [True, True, True,  ..., True, True, True],\n",
       "          [True, True, True,  ..., True, True, True],\n",
       "          ...,\n",
       "          [True, True, True,  ..., True, True, True],\n",
       "          [True, True, True,  ..., True, True, True],\n",
       "          [True, True, True,  ..., True, True, True]],\n",
       "\n",
       "         [[True, True, True,  ..., True, True, True],\n",
       "          [True, True, True,  ..., True, True, True],\n",
       "          [True, True, True,  ..., True, True, True],\n",
       "          ...,\n",
       "          [True, True, True,  ..., True, True, True],\n",
       "          [True, True, True,  ..., True, True, True],\n",
       "          [True, True, True,  ..., True, True, True]],\n",
       "\n",
       "         [[True, True, True,  ..., True, True, True],\n",
       "          [True, True, True,  ..., True, True, True],\n",
       "          [True, True, True,  ..., True, True, True],\n",
       "          ...,\n",
       "          [True, True, True,  ..., True, True, True],\n",
       "          [True, True, True,  ..., True, True, True],\n",
       "          [True, True, True,  ..., True, True, True]]],\n",
       "\n",
       "\n",
       "        [[[True, True, True,  ..., True, True, True],\n",
       "          [True, True, True,  ..., True, True, True],\n",
       "          [True, True, True,  ..., True, True, True],\n",
       "          ...,\n",
       "          [True, True, True,  ..., True, True, True],\n",
       "          [True, True, True,  ..., True, True, True],\n",
       "          [True, True, True,  ..., True, True, True]],\n",
       "\n",
       "         [[True, True, True,  ..., True, True, True],\n",
       "          [True, True, True,  ..., True, True, True],\n",
       "          [True, True, True,  ..., True, True, True],\n",
       "          ...,\n",
       "          [True, True, True,  ..., True, True, True],\n",
       "          [True, True, True,  ..., True, True, True],\n",
       "          [True, True, True,  ..., True, True, True]],\n",
       "\n",
       "         [[True, True, True,  ..., True, True, True],\n",
       "          [True, True, True,  ..., True, True, True],\n",
       "          [True, True, True,  ..., True, True, True],\n",
       "          ...,\n",
       "          [True, True, True,  ..., True, True, True],\n",
       "          [True, True, True,  ..., True, True, True],\n",
       "          [True, True, True,  ..., True, True, True]]],\n",
       "\n",
       "\n",
       "        [[[True, True, True,  ..., True, True, True],\n",
       "          [True, True, True,  ..., True, True, True],\n",
       "          [True, True, True,  ..., True, True, True],\n",
       "          ...,\n",
       "          [True, True, True,  ..., True, True, True],\n",
       "          [True, True, True,  ..., True, True, True],\n",
       "          [True, True, True,  ..., True, True, True]],\n",
       "\n",
       "         [[True, True, True,  ..., True, True, True],\n",
       "          [True, True, True,  ..., True, True, True],\n",
       "          [True, True, True,  ..., True, True, True],\n",
       "          ...,\n",
       "          [True, True, True,  ..., True, True, True],\n",
       "          [True, True, True,  ..., True, True, True],\n",
       "          [True, True, True,  ..., True, True, True]],\n",
       "\n",
       "         [[True, True, True,  ..., True, True, True],\n",
       "          [True, True, True,  ..., True, True, True],\n",
       "          [True, True, True,  ..., True, True, True],\n",
       "          ...,\n",
       "          [True, True, True,  ..., True, True, True],\n",
       "          [True, True, True,  ..., True, True, True],\n",
       "          [True, True, True,  ..., True, True, True]]]])"
      ]
     },
     "execution_count": 40,
     "metadata": {},
     "output_type": "execute_result"
    }
   ],
   "source": [
    "x_r1 = tr.from_numpy(cifar.data).permute(0,3,1,2).float()\n",
    "x_r1 /= 255\n",
    "x == x_r1 ## See the difference  in this cell and the preceeding one!!!\n"
   ]
  },
  {
   "cell_type": "code",
   "execution_count": 41,
   "id": "8470840f",
   "metadata": {
    "execution": {
     "iopub.execute_input": "2023-10-30T19:36:13.489137Z",
     "iopub.status.busy": "2023-10-30T19:36:13.488831Z",
     "iopub.status.idle": "2023-10-30T19:36:13.494756Z",
     "shell.execute_reply": "2023-10-30T19:36:13.493991Z"
    },
    "papermill": {
     "duration": 0.027803,
     "end_time": "2023-10-30T19:36:13.496641",
     "exception": false,
     "start_time": "2023-10-30T19:36:13.468838",
     "status": "completed"
    },
    "tags": []
   },
   "outputs": [
    {
     "data": {
      "text/plain": [
       "torch.Size([48, 3, 32, 32])"
      ]
     },
     "execution_count": 41,
     "metadata": {},
     "output_type": "execute_result"
    }
   ],
   "source": [
    "Y = tr.narrow(x, 0,0,48)\n",
    "Y.shape"
   ]
  },
  {
   "cell_type": "code",
   "execution_count": 42,
   "id": "0a322c9b",
   "metadata": {
    "execution": {
     "iopub.execute_input": "2023-10-30T19:36:13.537310Z",
     "iopub.status.busy": "2023-10-30T19:36:13.536593Z",
     "iopub.status.idle": "2023-10-30T19:36:13.541298Z",
     "shell.execute_reply": "2023-10-30T19:36:13.540482Z"
    },
    "papermill": {
     "duration": 0.02671,
     "end_time": "2023-10-30T19:36:13.543161",
     "exception": false,
     "start_time": "2023-10-30T19:36:13.516451",
     "status": "completed"
    },
    "tags": []
   },
   "outputs": [],
   "source": [
    "def show(img):\n",
    "    npimg = img.numpy()\n",
    "    plt.figure(figsize=(20,10))\n",
    "    plt.imshow(np.transpose(npimg, (1,2,0)), interpolation='nearest')\n",
    "\n",
    "    "
   ]
  },
  {
   "cell_type": "code",
   "execution_count": 43,
   "id": "9aafb1fb",
   "metadata": {
    "execution": {
     "iopub.execute_input": "2023-10-30T19:36:13.582037Z",
     "iopub.status.busy": "2023-10-30T19:36:13.581769Z",
     "iopub.status.idle": "2023-10-30T19:36:23.454953Z",
     "shell.execute_reply": "2023-10-30T19:36:23.453991Z"
    },
    "papermill": {
     "duration": 9.895155,
     "end_time": "2023-10-30T19:36:23.457220",
     "exception": false,
     "start_time": "2023-10-30T19:36:13.562065",
     "status": "completed"
    },
    "tags": []
   },
   "outputs": [
    {
     "data": {
      "image/png": "[encoded data removed]",
      "text/plain": [
       "<Figure size 2000x1000 with 1 Axes>"
      ]
     },
     "metadata": {},
     "output_type": "display_data"
    }
   ],
   "source": [
    "show(torchvision.utils.make_grid(x_r1, nrow = 12))\n"
   ]
  },
  {
   "cell_type": "code",
   "execution_count": null,
   "id": "f3e4d77f",
   "metadata": {
    "papermill": {
     "duration": 0.018805,
     "end_time": "2023-10-30T19:36:23.495488",
     "exception": false,
     "start_time": "2023-10-30T19:36:23.476683",
     "status": "completed"
    },
    "tags": []
   },
   "outputs": [],
   "source": []
  }
 ],
 "metadata": {
  "kernelspec": {
   "display_name": "Python 3",
   "language": "python",
   "name": "python3"
  },
  "language_info": {
   "codemirror_mode": {
    "name": "ipython",
    "version": 3
   },
   "file_extension": ".py",
   "mimetype": "text/x-python",
   "name": "python",
   "nbconvert_exporter": "python",
   "pygments_lexer": "ipython3",
   "version": "3.10.12"
  },
  "papermill": {
   "default_parameters": {},
   "duration": 32.803653,
   "end_time": "2023-10-30T19:36:24.936517",
   "environment_variables": {},
   "exception": null,
   "input_path": "__notebook__.ipynb",
   "output_path": "__notebook__.ipynb",
   "parameters": {},
   "start_time": "2023-10-30T19:35:52.132864",
   "version": "2.4.0"
  }
 },
 "nbformat": 4,
 "nbformat_minor": 5
}
