{
 "cells": [
  {
   "cell_type": "code",
   "execution_count": 1,
   "id": "e3663140",
   "metadata": {
    "_cell_guid": "b1076dfc-b9ad-4769-8c92-a6c4dae69d19",
    "_uuid": "8f2839f25d086af736a60e9eeb907d3b93b6e0e5",
    "execution": {
     "iopub.execute_input": "2023-11-13T18:00:04.349980Z",
     "iopub.status.busy": "2023-11-13T18:00:04.349273Z",
     "iopub.status.idle": "2023-11-13T18:00:08.237536Z",
     "shell.execute_reply": "2023-11-13T18:00:08.236561Z"
    },
    "papermill": {
     "duration": 3.899605,
     "end_time": "2023-11-13T18:00:08.240241",
     "exception": false,
     "start_time": "2023-11-13T18:00:04.340636",
     "status": "completed"
    },
    "tags": []
   },
   "outputs": [],
   "source": [
    "import torch\n",
    "import torchvision \n",
    "import torch.nn as nn\n",
    "import torchvision.transforms as t"
   ]
  },
  {
   "cell_type": "code",
   "execution_count": 2,
   "id": "5af87389",
   "metadata": {
    "execution": {
     "iopub.execute_input": "2023-11-13T18:00:08.256306Z",
     "iopub.status.busy": "2023-11-13T18:00:08.255556Z",
     "iopub.status.idle": "2023-11-13T18:00:08.307041Z",
     "shell.execute_reply": "2023-11-13T18:00:08.306062Z"
    },
    "papermill": {
     "duration": 0.061605,
     "end_time": "2023-11-13T18:00:08.309433",
     "exception": false,
     "start_time": "2023-11-13T18:00:08.247828",
     "status": "completed"
    },
    "tags": []
   },
   "outputs": [],
   "source": [
    "## Defining the model blueprint\n",
    "net = nn.Sequential(nn.Linear(3*32*32,1000), nn.ReLU(), nn.Linear(1000,10))\n",
    "criterion = nn.CrossEntropyLoss()\n",
    "optimizer = torch.optim.SGD(net.parameters(), lr = 0.01, momentum = 0.9)\n"
   ]
  },
  {
   "cell_type": "code",
   "execution_count": 3,
   "id": "908b5746",
   "metadata": {
    "execution": {
     "iopub.execute_input": "2023-11-13T18:00:08.324983Z",
     "iopub.status.busy": "2023-11-13T18:00:08.324242Z",
     "iopub.status.idle": "2023-11-13T18:00:17.973030Z",
     "shell.execute_reply": "2023-11-13T18:00:17.971932Z"
    },
    "papermill": {
     "duration": 9.659089,
     "end_time": "2023-11-13T18:00:17.975470",
     "exception": false,
     "start_time": "2023-11-13T18:00:08.316381",
     "status": "completed"
    },
    "tags": []
   },
   "outputs": [
    {
     "name": "stdout",
     "output_type": "stream",
     "text": [
      "Downloading https://www.cs.toronto.edu/~kriz/cifar-10-python.tar.gz to ./cifar-10-python.tar.gz\n"
     ]
    },
    {
     "name": "stderr",
     "output_type": "stream",
     "text": [
      "100%|██████████| 170498071/170498071 [00:04<00:00, 35048141.70it/s]\n"
     ]
    },
    {
     "name": "stdout",
     "output_type": "stream",
     "text": [
      "Extracting ./cifar-10-python.tar.gz to .\n",
      "Files already downloaded and verified\n"
     ]
    }
   ],
   "source": [
    "## Loading the Data\n",
    "to_tensor = t.ToTensor()\n",
    "normalize = t.Normalize((0.5,0.5,0.5),(0.5,0.5,0.5))\n",
    "flatten = t.Lambda(lambda x:x.view(-1))\n",
    "\n",
    "## Defining and aligning the transformation\n",
    "\n",
    "transform_list = t.Compose([to_tensor, normalize, flatten])\n",
    "\n",
    "## Downloading the data\n",
    "\n",
    "train_set = torchvision.datasets.CIFAR10(root='.', train=True, transform = transform_list, download = True)\n",
    "test_set = torchvision.datasets.CIFAR10(root='.', train = False, transform = transform_list, download = True)\n",
    "# train_dir = ''\n",
    "# test_dir  = ''\n",
    "\n",
    "\n",
    "## Creating DataLoader\n",
    "train_loader = torch.utils.data.DataLoader(train_set, batch_size = 64)\n",
    "test_loader = torch.utils.data.DataLoader(test_set, batch_size = 64)\n",
    "\n",
    "\n",
    "\n"
   ]
  },
  {
   "cell_type": "code",
   "execution_count": 4,
   "id": "98a1a54f",
   "metadata": {
    "execution": {
     "iopub.execute_input": "2023-11-13T18:00:17.999744Z",
     "iopub.status.busy": "2023-11-13T18:00:17.998861Z",
     "iopub.status.idle": "2023-11-13T18:01:19.572491Z",
     "shell.execute_reply": "2023-11-13T18:01:19.571326Z"
    },
    "papermill": {
     "duration": 61.588249,
     "end_time": "2023-11-13T18:01:19.574976",
     "exception": false,
     "start_time": "2023-11-13T18:00:17.986727",
     "status": "completed"
    },
    "tags": []
   },
   "outputs": [
    {
     "name": "stdout",
     "output_type": "stream",
     "text": [
      "Epoch 0\n",
      "Train Loss 0.0380, Train Accuracy 18.91%\n",
      "Train Loss 0.0298, Train Accuracy 32.67%\n",
      "Train Loss 0.0283, Train Accuracy 36.36%\n",
      "Train Loss 0.0275, Train Accuracy 38.18%\n",
      "Train Loss 0.0268, Train Accuracy 39.77%\n",
      "Train Loss 0.0264, Train Accuracy 40.59%\n",
      "Train Loss 0.0261, Train Accuracy 41.27%\n",
      "Train Loss 0.0259, Train Accuracy 41.86%\n",
      "Epoch 1\n",
      "Train Loss 0.0252, Train Accuracy 54.22%\n",
      "Train Loss 0.0231, Train Accuracy 49.96%\n",
      "Train Loss 0.0230, Train Accuracy 49.52%\n",
      "Train Loss 0.0229, Train Accuracy 49.66%\n",
      "Train Loss 0.0226, Train Accuracy 49.91%\n",
      "Train Loss 0.0225, Train Accuracy 49.95%\n",
      "Train Loss 0.0225, Train Accuracy 49.96%\n",
      "Train Loss 0.0224, Train Accuracy 50.13%\n",
      "Epoch 2\n",
      "Train Loss 0.0230, Train Accuracy 60.00%\n",
      "Train Loss 0.0214, Train Accuracy 54.36%\n",
      "Train Loss 0.0213, Train Accuracy 53.50%\n",
      "Train Loss 0.0212, Train Accuracy 53.66%\n",
      "Train Loss 0.0210, Train Accuracy 53.89%\n",
      "Train Loss 0.0209, Train Accuracy 53.91%\n",
      "Train Loss 0.0208, Train Accuracy 53.91%\n",
      "Train Loss 0.0208, Train Accuracy 53.94%\n",
      "End of the training..\n",
      "End of the Testing Test Accuracy: 50.45%\n"
     ]
    }
   ],
   "source": [
    "## Training time\n",
    "net.train()\n",
    "\n",
    "## train loop \n",
    "for epoch in range(3):\n",
    "    train_correct , train_loss= 0,0\n",
    "    print(f'Epoch {epoch}')\n",
    "    \n",
    "    ## Loop per epoch\n",
    "    for i, (batch, targets) in enumerate(train_loader):\n",
    "        \n",
    "        output = net(batch)\n",
    "        loss =criterion(output, targets)\n",
    "        \n",
    "        optimizer.zero_grad()\n",
    "        loss.backward()\n",
    "        optimizer.step()\n",
    "        \n",
    "        pred = output.max(1, keepdim=True)[1]\n",
    "        train_correct += pred.eq(targets.view_as(pred)).sum().item()\n",
    "        train_loss += loss\n",
    "        \n",
    "        \n",
    "        if i % 100==10:\n",
    "            print('Train Loss {:.4f}, Train Accuracy {:.2f}%'.format(\n",
    "            train_loss / (i*64), 100 * train_correct/(i*64)))\n",
    "\n",
    "\n",
    "\n",
    "print(\"End of the training..\")\n",
    "\n",
    "## Testing Time\n",
    "test_correct = 0\n",
    "net.eval()\n",
    "\n",
    "## loop over whole test dataset\n",
    "for i , (batch, targets) in enumerate(test_loader):\n",
    "    \n",
    "    output = net(batch)\n",
    "    pred = output.max(1, keepdim=True)[1]\n",
    "    test_correct += pred.eq(targets.view_as(pred)).sum().item()\n",
    "    \n",
    "print('End of the Testing Test Accuracy: {:.2f}%'.format(\n",
    "100*test_correct/(len(test_loader) * 64)))\n",
    "        \n",
    "        \n",
    "    "
   ]
  },
  {
   "cell_type": "code",
   "execution_count": 5,
   "id": "7d4cd691",
   "metadata": {
    "execution": {
     "iopub.execute_input": "2023-11-13T18:01:19.604320Z",
     "iopub.status.busy": "2023-11-13T18:01:19.603597Z",
     "iopub.status.idle": "2023-11-13T18:01:19.611121Z",
     "shell.execute_reply": "2023-11-13T18:01:19.610206Z"
    },
    "papermill": {
     "duration": 0.024268,
     "end_time": "2023-11-13T18:01:19.613285",
     "exception": false,
     "start_time": "2023-11-13T18:01:19.589017",
     "status": "completed"
    },
    "tags": []
   },
   "outputs": [
    {
     "data": {
      "text/plain": [
       "device(type='cuda', index=0)"
      ]
     },
     "execution_count": 5,
     "metadata": {},
     "output_type": "execute_result"
    }
   ],
   "source": [
    "## Training time on GPU...\n",
    "## Device Agnostic\n",
    "device = torch.device(\"cuda:0\" if torch.cuda.is_available() else \"cpu\")\n",
    "device"
   ]
  },
  {
   "cell_type": "code",
   "execution_count": 6,
   "id": "57351118",
   "metadata": {
    "execution": {
     "iopub.execute_input": "2023-11-13T18:01:19.641326Z",
     "iopub.status.busy": "2023-11-13T18:01:19.640973Z",
     "iopub.status.idle": "2023-11-13T18:01:19.649344Z",
     "shell.execute_reply": "2023-11-13T18:01:19.648411Z"
    },
    "papermill": {
     "duration": 0.024995,
     "end_time": "2023-11-13T18:01:19.651402",
     "exception": false,
     "start_time": "2023-11-13T18:01:19.626407",
     "status": "completed"
    },
    "tags": []
   },
   "outputs": [],
   "source": [
    "## creating Training Routine\n",
    "def train(model, device, train_loader, criterion, optimizer, epoch):\n",
    "    model.train()\n",
    "    print('Epoch {}'.format(epoch))\n",
    "    train_correct , train_loss, train_l = 0, 0, 0\n",
    "    \n",
    "    ## loop per epoch\n",
    "    \n",
    "    for i, (batch, targets) in enumerate(train_loader):\n",
    "        bs = batch.shape[0]\n",
    "        batch = batch.to(device)\n",
    "        targets = targets.to(device)\n",
    "        \n",
    "        output = model(batch)\n",
    "        loss = criterion(output, targets)\n",
    "        \n",
    "        optimizer.zero_grad()\n",
    "        loss.backward()\n",
    "        optimizer.step()\n",
    "        \n",
    "        pred = output.max(1, keepdim=True)[1]\n",
    "        train_correct += pred.eq(targets.view_as(pred)).sum().item()\n",
    "        train_loss += loss.item()\n",
    "        train_l += bs\n",
    "        \n",
    "        if i%100==10:\n",
    "            print('Train Loss {:.4f}, Train Accuracy {:.2f}%'.format(\n",
    "            train_loss/train_l, 100*train_correct/train_l))\n",
    "    "
   ]
  },
  {
   "cell_type": "code",
   "execution_count": 7,
   "id": "0e903bde",
   "metadata": {
    "execution": {
     "iopub.execute_input": "2023-11-13T18:01:19.679880Z",
     "iopub.status.busy": "2023-11-13T18:01:19.679520Z",
     "iopub.status.idle": "2023-11-13T18:01:19.713210Z",
     "shell.execute_reply": "2023-11-13T18:01:19.712409Z"
    },
    "papermill": {
     "duration": 0.050173,
     "end_time": "2023-11-13T18:01:19.715507",
     "exception": false,
     "start_time": "2023-11-13T18:01:19.665334",
     "status": "completed"
    },
    "tags": []
   },
   "outputs": [],
   "source": [
    "device = 'cpu'\n",
    "net = nn.Sequential(nn.Linear(3*32*32, 1000), nn.ReLU(), nn.Linear(1000, 10))\n",
    "criterion = nn.CrossEntropyLoss()\n",
    "optimizer = torch.optim.SGD(net.parameters(), lr = 0.01, momentum=0.9)\n",
    "net = net.to(device)"
   ]
  },
  {
   "cell_type": "code",
   "execution_count": 8,
   "id": "8a34f95c",
   "metadata": {
    "execution": {
     "iopub.execute_input": "2023-11-13T18:01:19.743858Z",
     "iopub.status.busy": "2023-11-13T18:01:19.743468Z",
     "iopub.status.idle": "2023-11-13T18:01:38.760554Z",
     "shell.execute_reply": "2023-11-13T18:01:38.759590Z"
    },
    "papermill": {
     "duration": 19.034107,
     "end_time": "2023-11-13T18:01:38.763080",
     "exception": false,
     "start_time": "2023-11-13T18:01:19.728973",
     "status": "completed"
    },
    "tags": []
   },
   "outputs": [
    {
     "name": "stdout",
     "output_type": "stream",
     "text": [
      "Epoch 1\n",
      "Train Loss 0.0347, Train Accuracy 17.76%\n",
      "Train Loss 0.0295, Train Accuracy 32.98%\n",
      "Train Loss 0.0282, Train Accuracy 36.58%\n",
      "Train Loss 0.0274, Train Accuracy 38.26%\n",
      "Train Loss 0.0267, Train Accuracy 39.91%\n",
      "Train Loss 0.0263, Train Accuracy 40.66%\n",
      "Train Loss 0.0261, Train Accuracy 41.34%\n",
      "Train Loss 0.0258, Train Accuracy 41.91%\n",
      "CPU times: user 36.7 s, sys: 78.8 ms, total: 36.8 s\n",
      "Wall time: 19 s\n"
     ]
    }
   ],
   "source": [
    "%%time\n",
    "train(net, device, train_loader, criterion, optimizer,1)"
   ]
  },
  {
   "cell_type": "code",
   "execution_count": 9,
   "id": "8c1c6c7b",
   "metadata": {
    "execution": {
     "iopub.execute_input": "2023-11-13T18:01:38.792975Z",
     "iopub.status.busy": "2023-11-13T18:01:38.792632Z",
     "iopub.status.idle": "2023-11-13T18:01:38.799502Z",
     "shell.execute_reply": "2023-11-13T18:01:38.798582Z"
    },
    "papermill": {
     "duration": 0.024013,
     "end_time": "2023-11-13T18:01:38.801890",
     "exception": false,
     "start_time": "2023-11-13T18:01:38.777877",
     "status": "completed"
    },
    "tags": []
   },
   "outputs": [],
   "source": [
    "## Lets also write the test Routine\n",
    "\n",
    "def test(model, device, test_loader):\n",
    "    model.eval()\n",
    "    test_correct, test_l = 0, 0\n",
    "    \n",
    "    ## Loop per epoch\n",
    "    for i, (batch, targets) in enumerate(test_loader):\n",
    "        bs = batch.shape[0]\n",
    "        batch = batch.to(device)\n",
    "        targets = targets.to(device)\n",
    "        output = model(batch)\n",
    "        pred = output.max(1, keepdim=True)[1]\n",
    "        test_correct += pred.eq(targets.view_as(pred)).sum().item()\n",
    "        test_l += bs\n",
    "    \n",
    "    print('End of the Testing. Test Accuracy {:.2f}%'.format(\n",
    "    100 * test_correct / test_l))\n",
    "    "
   ]
  },
  {
   "cell_type": "code",
   "execution_count": 10,
   "id": "47aae5b8",
   "metadata": {
    "execution": {
     "iopub.execute_input": "2023-11-13T18:01:38.842300Z",
     "iopub.status.busy": "2023-11-13T18:01:38.841987Z",
     "iopub.status.idle": "2023-11-13T18:02:28.747972Z",
     "shell.execute_reply": "2023-11-13T18:02:28.747093Z"
    },
    "papermill": {
     "duration": 49.928319,
     "end_time": "2023-11-13T18:02:28.749979",
     "exception": false,
     "start_time": "2023-11-13T18:01:38.821660",
     "status": "completed"
    },
    "tags": []
   },
   "outputs": [
    {
     "name": "stdout",
     "output_type": "stream",
     "text": [
      "Epoch 0\n",
      "Train Loss 0.0347, Train Accuracy 19.03%\n",
      "Train Loss 0.0295, Train Accuracy 33.09%\n",
      "Train Loss 0.0282, Train Accuracy 36.57%\n",
      "Train Loss 0.0274, Train Accuracy 38.36%\n",
      "Train Loss 0.0267, Train Accuracy 39.89%\n",
      "Train Loss 0.0264, Train Accuracy 40.67%\n",
      "Train Loss 0.0261, Train Accuracy 41.40%\n",
      "Train Loss 0.0258, Train Accuracy 41.98%\n",
      "End of the Testing. Test Accuracy 48.05%\n",
      "Epoch 1\n",
      "Train Loss 0.0230, Train Accuracy 47.73%\n",
      "Train Loss 0.0230, Train Accuracy 49.09%\n",
      "Train Loss 0.0230, Train Accuracy 48.93%\n",
      "Train Loss 0.0228, Train Accuracy 49.33%\n",
      "Train Loss 0.0226, Train Accuracy 49.54%\n",
      "Train Loss 0.0225, Train Accuracy 49.69%\n",
      "Train Loss 0.0225, Train Accuracy 49.80%\n",
      "Train Loss 0.0224, Train Accuracy 49.97%\n",
      "End of the Testing. Test Accuracy 50.33%\n",
      "Epoch 2\n",
      "Train Loss 0.0210, Train Accuracy 54.12%\n",
      "Train Loss 0.0212, Train Accuracy 53.31%\n",
      "Train Loss 0.0212, Train Accuracy 53.10%\n",
      "Train Loss 0.0211, Train Accuracy 53.34%\n",
      "Train Loss 0.0209, Train Accuracy 53.64%\n",
      "Train Loss 0.0209, Train Accuracy 53.75%\n",
      "Train Loss 0.0208, Train Accuracy 53.72%\n",
      "Train Loss 0.0208, Train Accuracy 53.86%\n",
      "End of the Testing. Test Accuracy 51.07%\n"
     ]
    }
   ],
   "source": [
    "## Time to utilise the GPU \n",
    "device = torch.device(\"cuda:0\" if torch.cuda.is_available() else \"cpu\")\n",
    "net = nn.Sequential(nn.Linear(3*32*32, 1000), nn.ReLU(), nn.Linear(1000,10))\n",
    "criterion = nn.CrossEntropyLoss()\n",
    "optimizer = torch.optim.SGD(net.parameters(), lr = 0.01, momentum=0.9)\n",
    "net = net.to(device)\n",
    "\n",
    "for i in range(3):\n",
    "    train(net, device, train_loader, criterion, optimizer, i)\n",
    "    test(net, device, test_loader)\n",
    "\n"
   ]
  },
  {
   "cell_type": "code",
   "execution_count": 11,
   "id": "410f3169",
   "metadata": {
    "execution": {
     "iopub.execute_input": "2023-11-13T18:02:28.783763Z",
     "iopub.status.busy": "2023-11-13T18:02:28.783086Z",
     "iopub.status.idle": "2023-11-13T18:03:13.482746Z",
     "shell.execute_reply": "2023-11-13T18:03:13.481720Z"
    },
    "papermill": {
     "duration": 44.719167,
     "end_time": "2023-11-13T18:03:13.484920",
     "exception": false,
     "start_time": "2023-11-13T18:02:28.765753",
     "status": "completed"
    },
    "tags": []
   },
   "outputs": [
    {
     "name": "stdout",
     "output_type": "stream",
     "text": [
      "Epoch 0\n",
      "Train Loss 0.0335, Train Accuracy 22.73%\n",
      "Train Loss 0.0301, Train Accuracy 32.62%\n",
      "Train Loss 0.0296, Train Accuracy 34.26%\n",
      "Train Loss 0.0292, Train Accuracy 34.80%\n",
      "Train Loss 0.0289, Train Accuracy 35.83%\n",
      "Train Loss 0.0287, Train Accuracy 36.04%\n",
      "Train Loss 0.0286, Train Accuracy 36.31%\n",
      "Train Loss 0.0285, Train Accuracy 36.39%\n",
      "End of the Testing. Test Accuracy 38.80%\n",
      "Epoch 1\n",
      "Train Loss 0.0268, Train Accuracy 39.06%\n",
      "Train Loss 0.0272, Train Accuracy 39.43%\n",
      "Train Loss 0.0275, Train Accuracy 38.96%\n",
      "Train Loss 0.0275, Train Accuracy 38.80%\n",
      "Train Loss 0.0274, Train Accuracy 39.21%\n",
      "Train Loss 0.0274, Train Accuracy 39.10%\n",
      "Train Loss 0.0274, Train Accuracy 39.21%\n",
      "Train Loss 0.0274, Train Accuracy 39.07%\n",
      "End of the Testing. Test Accuracy 39.12%\n",
      "Epoch 2\n",
      "Train Loss 0.0264, Train Accuracy 41.19%\n",
      "Train Loss 0.0269, Train Accuracy 40.82%\n",
      "Train Loss 0.0272, Train Accuracy 39.91%\n",
      "Train Loss 0.0272, Train Accuracy 39.82%\n",
      "Train Loss 0.0271, Train Accuracy 40.24%\n",
      "Train Loss 0.0271, Train Accuracy 40.07%\n",
      "Train Loss 0.0271, Train Accuracy 40.15%\n",
      "Train Loss 0.0272, Train Accuracy 39.99%\n",
      "End of the Testing. Test Accuracy 39.16%\n"
     ]
    }
   ],
   "source": [
    "## Lets do that again but this time with no RELU() !!!!\n",
    "device = torch.device(\"cuda:0\" if torch.cuda.is_available() else \"cpu\")\n",
    "net = nn.Sequential(nn.Linear(3*32*32, 1000), nn.Linear(1000,10))\n",
    "criterion = nn.CrossEntropyLoss()\n",
    "optimizer = torch.optim.SGD(net.parameters(), lr = 0.01, momentum=0.9)\n",
    "net = net.to(device)\n",
    "\n",
    "for i in range(3):\n",
    "    train(net, device, train_loader, criterion, optimizer, i)\n",
    "    test(net, device, test_loader)"
   ]
  },
  {
   "cell_type": "code",
   "execution_count": 12,
   "id": "2de71b87",
   "metadata": {
    "execution": {
     "iopub.execute_input": "2023-11-13T18:03:13.522376Z",
     "iopub.status.busy": "2023-11-13T18:03:13.521493Z",
     "iopub.status.idle": "2023-11-13T18:03:28.420100Z",
     "shell.execute_reply": "2023-11-13T18:03:28.419147Z"
    },
    "papermill": {
     "duration": 14.919608,
     "end_time": "2023-11-13T18:03:28.422307",
     "exception": false,
     "start_time": "2023-11-13T18:03:13.502699",
     "status": "completed"
    },
    "tags": []
   },
   "outputs": [
    {
     "name": "stdout",
     "output_type": "stream",
     "text": [
      "Epoch 0\n",
      "Train Loss 0.0346, Train Accuracy 18.18%\n",
      "Train Loss 0.0294, Train Accuracy 33.02%\n",
      "Train Loss 0.0281, Train Accuracy 36.52%\n",
      "Train Loss 0.0274, Train Accuracy 38.25%\n",
      "Train Loss 0.0267, Train Accuracy 39.85%\n",
      "Train Loss 0.0263, Train Accuracy 40.62%\n",
      "Train Loss 0.0260, Train Accuracy 41.37%\n",
      "Train Loss 0.0258, Train Accuracy 42.02%\n",
      "End of the Testing. Test Accuracy 47.76%\n"
     ]
    }
   ],
   "source": [
    "## Seems like Accuracy decreased !!!\n",
    "## Lets do it again with relu but with one epoch\n",
    "device = torch.device(\"cuda:0\" if torch.cuda.is_available() else \"cpu\")\n",
    "net = nn.Sequential(nn.Linear(3*32*32, 1000), nn.ReLU(), nn.Linear(1000,10))\n",
    "criterion = nn.CrossEntropyLoss()\n",
    "optimizer = torch.optim.SGD(net.parameters(), lr = 0.01, momentum=0.9)\n",
    "net = net.to(device)\n",
    "\n",
    "for i in range(1):\n",
    "    train(net, device, train_loader, criterion, optimizer, i)\n",
    "    test(net, device, test_loader)"
   ]
  },
  {
   "cell_type": "code",
   "execution_count": 13,
   "id": "3844a467",
   "metadata": {
    "execution": {
     "iopub.execute_input": "2023-11-13T18:03:28.459621Z",
     "iopub.status.busy": "2023-11-13T18:03:28.459297Z",
     "iopub.status.idle": "2023-11-13T18:04:43.805956Z",
     "shell.execute_reply": "2023-11-13T18:04:43.804921Z"
    },
    "papermill": {
     "duration": 75.367853,
     "end_time": "2023-11-13T18:04:43.808228",
     "exception": false,
     "start_time": "2023-11-13T18:03:28.440375",
     "status": "completed"
    },
    "tags": []
   },
   "outputs": [
    {
     "name": "stdout",
     "output_type": "stream",
     "text": [
      "Epoch 0\n",
      "Train Loss 0.0360, Train Accuracy 10.51%\n",
      "Train Loss 0.0337, Train Accuracy 22.40%\n",
      "Train Loss 0.0316, Train Accuracy 27.21%\n",
      "Train Loss 0.0302, Train Accuracy 30.40%\n",
      "Train Loss 0.0291, Train Accuracy 33.22%\n",
      "Train Loss 0.0284, Train Accuracy 34.79%\n",
      "Train Loss 0.0279, Train Accuracy 36.08%\n",
      "Train Loss 0.0274, Train Accuracy 37.20%\n",
      "End of the Testing. Test Accuracy 47.23%\n",
      "Epoch 1\n",
      "Train Loss 0.0234, Train Accuracy 45.03%\n",
      "Train Loss 0.0234, Train Accuracy 46.86%\n",
      "Train Loss 0.0233, Train Accuracy 47.30%\n",
      "Train Loss 0.0232, Train Accuracy 47.90%\n",
      "Train Loss 0.0229, Train Accuracy 48.43%\n",
      "Train Loss 0.0227, Train Accuracy 48.73%\n",
      "Train Loss 0.0226, Train Accuracy 48.96%\n",
      "Train Loss 0.0225, Train Accuracy 49.23%\n",
      "End of the Testing. Test Accuracy 51.09%\n",
      "Epoch 2\n",
      "Train Loss 0.0208, Train Accuracy 54.69%\n",
      "Train Loss 0.0209, Train Accuracy 53.00%\n",
      "Train Loss 0.0209, Train Accuracy 52.88%\n",
      "Train Loss 0.0208, Train Accuracy 53.29%\n",
      "Train Loss 0.0206, Train Accuracy 53.66%\n",
      "Train Loss 0.0205, Train Accuracy 53.83%\n",
      "Train Loss 0.0204, Train Accuracy 53.98%\n",
      "Train Loss 0.0203, Train Accuracy 54.15%\n",
      "End of the Testing. Test Accuracy 52.46%\n",
      "Epoch 3\n",
      "Train Loss 0.0188, Train Accuracy 59.52%\n",
      "Train Loss 0.0191, Train Accuracy 56.64%\n",
      "Train Loss 0.0191, Train Accuracy 56.68%\n",
      "Train Loss 0.0190, Train Accuracy 57.20%\n",
      "Train Loss 0.0188, Train Accuracy 57.52%\n",
      "Train Loss 0.0187, Train Accuracy 57.76%\n",
      "Train Loss 0.0186, Train Accuracy 58.01%\n",
      "Train Loss 0.0186, Train Accuracy 58.16%\n",
      "End of the Testing. Test Accuracy 53.19%\n",
      "Epoch 4\n",
      "Train Loss 0.0172, Train Accuracy 62.64%\n",
      "Train Loss 0.0174, Train Accuracy 60.47%\n",
      "Train Loss 0.0174, Train Accuracy 60.55%\n",
      "Train Loss 0.0173, Train Accuracy 61.16%\n",
      "Train Loss 0.0171, Train Accuracy 61.42%\n",
      "Train Loss 0.0170, Train Accuracy 61.76%\n",
      "Train Loss 0.0169, Train Accuracy 62.04%\n",
      "Train Loss 0.0169, Train Accuracy 62.16%\n",
      "End of the Testing. Test Accuracy 53.27%\n"
     ]
    }
   ],
   "source": [
    "## Lets do something different and add more layers to see it effects!!\n",
    "## And run it through 5 epochs\n",
    "device = torch.device(\"cuda:0\" if torch.cuda.is_available() else \"cpu\")\n",
    "net = nn.Sequential(nn.Linear(3*32*32, 1000), nn.ReLU(),\n",
    "                    nn.Linear(1000,1000),\n",
    "                    nn.ReLU(),\n",
    "                    nn.Linear(1000,1000),\n",
    "                    nn.ReLU()\n",
    "                    ,nn.Linear(1000,10))\n",
    "criterion = nn.CrossEntropyLoss()\n",
    "optimizer = torch.optim.SGD(net.parameters(), lr = 0.01, momentum=0.9)\n",
    "net = net.to(device)\n",
    "\n",
    "for i in range(5):\n",
    "    train(net, device, train_loader, criterion, optimizer, i)\n",
    "    test(net, device, test_loader)"
   ]
  },
  {
   "cell_type": "code",
   "execution_count": 14,
   "id": "438325ff",
   "metadata": {
    "execution": {
     "iopub.execute_input": "2023-11-13T18:04:43.852258Z",
     "iopub.status.busy": "2023-11-13T18:04:43.851976Z",
     "iopub.status.idle": "2023-11-13T18:06:50.422149Z",
     "shell.execute_reply": "2023-11-13T18:06:50.421245Z"
    },
    "papermill": {
     "duration": 126.594855,
     "end_time": "2023-11-13T18:06:50.424875",
     "exception": false,
     "start_time": "2023-11-13T18:04:43.830020",
     "status": "completed"
    },
    "tags": []
   },
   "outputs": [
    {
     "name": "stdout",
     "output_type": "stream",
     "text": [
      "Epoch 0\n",
      "Train Loss 0.0155, Train Accuracy 65.91%\n",
      "Train Loss 0.0157, Train Accuracy 64.44%\n",
      "Train Loss 0.0158, Train Accuracy 64.51%\n",
      "Train Loss 0.0156, Train Accuracy 64.94%\n",
      "Train Loss 0.0154, Train Accuracy 65.24%\n",
      "Train Loss 0.0153, Train Accuracy 65.63%\n",
      "Train Loss 0.0152, Train Accuracy 66.01%\n",
      "Train Loss 0.0151, Train Accuracy 66.15%\n",
      "Epoch 1\n",
      "Train Loss 0.0138, Train Accuracy 68.89%\n",
      "Train Loss 0.0139, Train Accuracy 68.40%\n",
      "Train Loss 0.0140, Train Accuracy 68.63%\n",
      "Train Loss 0.0138, Train Accuracy 69.08%\n",
      "Train Loss 0.0137, Train Accuracy 69.36%\n",
      "Train Loss 0.0136, Train Accuracy 69.57%\n",
      "Train Loss 0.0135, Train Accuracy 70.02%\n",
      "Train Loss 0.0134, Train Accuracy 70.18%\n",
      "Epoch 2\n",
      "Train Loss 0.0119, Train Accuracy 72.44%\n",
      "Train Loss 0.0122, Train Accuracy 72.71%\n",
      "Train Loss 0.0123, Train Accuracy 72.85%\n",
      "Train Loss 0.0121, Train Accuracy 73.29%\n",
      "Train Loss 0.0120, Train Accuracy 73.60%\n",
      "Train Loss 0.0119, Train Accuracy 73.93%\n",
      "Train Loss 0.0118, Train Accuracy 74.23%\n",
      "Train Loss 0.0117, Train Accuracy 74.30%\n",
      "Epoch 3\n",
      "Train Loss 0.0108, Train Accuracy 76.14%\n",
      "Train Loss 0.0111, Train Accuracy 75.35%\n",
      "Train Loss 0.0111, Train Accuracy 75.59%\n",
      "Train Loss 0.0108, Train Accuracy 76.13%\n",
      "Train Loss 0.0107, Train Accuracy 76.32%\n",
      "Train Loss 0.0106, Train Accuracy 76.62%\n",
      "Train Loss 0.0105, Train Accuracy 76.72%\n",
      "Train Loss 0.0105, Train Accuracy 76.74%\n",
      "Epoch 4\n",
      "Train Loss 0.0094, Train Accuracy 79.55%\n",
      "Train Loss 0.0100, Train Accuracy 77.90%\n",
      "Train Loss 0.0100, Train Accuracy 77.73%\n",
      "Train Loss 0.0098, Train Accuracy 78.37%\n",
      "Train Loss 0.0098, Train Accuracy 78.47%\n",
      "Train Loss 0.0096, Train Accuracy 78.77%\n",
      "Train Loss 0.0095, Train Accuracy 78.95%\n",
      "Train Loss 0.0095, Train Accuracy 78.93%\n",
      "Epoch 5\n",
      "Train Loss 0.0083, Train Accuracy 81.39%\n",
      "Train Loss 0.0089, Train Accuracy 80.45%\n",
      "Train Loss 0.0088, Train Accuracy 80.57%\n",
      "Train Loss 0.0088, Train Accuracy 80.67%\n",
      "Train Loss 0.0088, Train Accuracy 80.66%\n",
      "Train Loss 0.0086, Train Accuracy 80.94%\n",
      "Train Loss 0.0085, Train Accuracy 81.12%\n",
      "Train Loss 0.0085, Train Accuracy 81.16%\n",
      "Epoch 6\n",
      "Train Loss 0.0070, Train Accuracy 85.23%\n",
      "Train Loss 0.0079, Train Accuracy 81.86%\n",
      "Train Loss 0.0080, Train Accuracy 81.86%\n",
      "Train Loss 0.0080, Train Accuracy 82.12%\n",
      "Train Loss 0.0081, Train Accuracy 81.97%\n",
      "Train Loss 0.0079, Train Accuracy 82.19%\n",
      "Train Loss 0.0078, Train Accuracy 82.49%\n",
      "Train Loss 0.0078, Train Accuracy 82.54%\n",
      "Epoch 7\n",
      "Train Loss 0.0058, Train Accuracy 87.64%\n",
      "Train Loss 0.0074, Train Accuracy 83.23%\n",
      "Train Loss 0.0073, Train Accuracy 83.43%\n",
      "Train Loss 0.0072, Train Accuracy 83.63%\n",
      "Train Loss 0.0072, Train Accuracy 83.58%\n",
      "Train Loss 0.0071, Train Accuracy 83.78%\n",
      "Train Loss 0.0070, Train Accuracy 83.91%\n",
      "Train Loss 0.0070, Train Accuracy 83.93%\n",
      "Epoch 8\n",
      "Train Loss 0.0058, Train Accuracy 87.93%\n",
      "Train Loss 0.0068, Train Accuracy 84.57%\n",
      "Train Loss 0.0067, Train Accuracy 84.97%\n",
      "Train Loss 0.0066, Train Accuracy 85.27%\n",
      "Train Loss 0.0066, Train Accuracy 85.32%\n",
      "Train Loss 0.0064, Train Accuracy 85.64%\n",
      "Train Loss 0.0064, Train Accuracy 85.65%\n",
      "Train Loss 0.0063, Train Accuracy 85.81%\n",
      "Epoch 9\n",
      "Train Loss 0.0048, Train Accuracy 89.49%\n",
      "Train Loss 0.0059, Train Accuracy 86.78%\n",
      "Train Loss 0.0056, Train Accuracy 87.42%\n",
      "Train Loss 0.0055, Train Accuracy 87.86%\n",
      "Train Loss 0.0055, Train Accuracy 87.73%\n",
      "Train Loss 0.0055, Train Accuracy 87.88%\n",
      "Train Loss 0.0054, Train Accuracy 87.92%\n",
      "Train Loss 0.0054, Train Accuracy 88.02%\n"
     ]
    }
   ],
   "source": [
    "for i in range(10):\n",
    "    train(net, device, train_loader, criterion, optimizer, i)"
   ]
  },
  {
   "cell_type": "code",
   "execution_count": 15,
   "id": "90ad46ca",
   "metadata": {
    "execution": {
     "iopub.execute_input": "2023-11-13T18:06:50.486600Z",
     "iopub.status.busy": "2023-11-13T18:06:50.486269Z",
     "iopub.status.idle": "2023-11-13T18:08:55.801541Z",
     "shell.execute_reply": "2023-11-13T18:08:55.800785Z"
    },
    "papermill": {
     "duration": 125.346105,
     "end_time": "2023-11-13T18:08:55.803813",
     "exception": false,
     "start_time": "2023-11-13T18:06:50.457708",
     "status": "completed"
    },
    "tags": []
   },
   "outputs": [
    {
     "name": "stdout",
     "output_type": "stream",
     "text": [
      "Epoch 0\n",
      "Train Loss 0.0041, Train Accuracy 91.05%\n",
      "Train Loss 0.0047, Train Accuracy 89.26%\n",
      "Train Loss 0.0046, Train Accuracy 89.43%\n",
      "Train Loss 0.0047, Train Accuracy 89.28%\n",
      "Train Loss 0.0048, Train Accuracy 89.18%\n",
      "Train Loss 0.0047, Train Accuracy 89.22%\n",
      "Train Loss 0.0047, Train Accuracy 89.23%\n",
      "Train Loss 0.0048, Train Accuracy 89.16%\n",
      "Epoch 1\n",
      "Train Loss 0.0049, Train Accuracy 89.77%\n",
      "Train Loss 0.0044, Train Accuracy 90.09%\n",
      "Train Loss 0.0045, Train Accuracy 90.11%\n",
      "Train Loss 0.0045, Train Accuracy 90.03%\n",
      "Train Loss 0.0046, Train Accuracy 89.83%\n",
      "Train Loss 0.0045, Train Accuracy 89.99%\n",
      "Train Loss 0.0045, Train Accuracy 90.03%\n",
      "Train Loss 0.0045, Train Accuracy 90.05%\n",
      "Epoch 2\n",
      "Train Loss 0.0043, Train Accuracy 91.76%\n",
      "Train Loss 0.0043, Train Accuracy 90.23%\n",
      "Train Loss 0.0040, Train Accuracy 90.90%\n",
      "Train Loss 0.0039, Train Accuracy 91.31%\n",
      "Train Loss 0.0038, Train Accuracy 91.46%\n",
      "Train Loss 0.0038, Train Accuracy 91.46%\n",
      "Train Loss 0.0038, Train Accuracy 91.40%\n",
      "Train Loss 0.0039, Train Accuracy 91.38%\n",
      "Epoch 3\n",
      "Train Loss 0.0033, Train Accuracy 92.76%\n",
      "Train Loss 0.0038, Train Accuracy 91.64%\n",
      "Train Loss 0.0036, Train Accuracy 92.15%\n",
      "Train Loss 0.0034, Train Accuracy 92.44%\n",
      "Train Loss 0.0035, Train Accuracy 92.20%\n",
      "Train Loss 0.0035, Train Accuracy 92.23%\n",
      "Train Loss 0.0035, Train Accuracy 92.24%\n",
      "Train Loss 0.0035, Train Accuracy 92.37%\n",
      "Epoch 4\n",
      "Train Loss 0.0028, Train Accuracy 93.04%\n",
      "Train Loss 0.0034, Train Accuracy 92.24%\n",
      "Train Loss 0.0033, Train Accuracy 92.47%\n",
      "Train Loss 0.0032, Train Accuracy 92.59%\n",
      "Train Loss 0.0033, Train Accuracy 92.58%\n",
      "Train Loss 0.0032, Train Accuracy 92.70%\n",
      "Train Loss 0.0032, Train Accuracy 92.78%\n",
      "Train Loss 0.0032, Train Accuracy 92.84%\n",
      "Epoch 5\n",
      "Train Loss 0.0024, Train Accuracy 93.89%\n",
      "Train Loss 0.0030, Train Accuracy 93.64%\n",
      "Train Loss 0.0030, Train Accuracy 93.41%\n",
      "Train Loss 0.0029, Train Accuracy 93.57%\n",
      "Train Loss 0.0029, Train Accuracy 93.58%\n",
      "Train Loss 0.0028, Train Accuracy 93.69%\n",
      "Train Loss 0.0028, Train Accuracy 93.74%\n",
      "Train Loss 0.0028, Train Accuracy 93.77%\n",
      "Epoch 6\n",
      "Train Loss 0.0042, Train Accuracy 93.47%\n",
      "Train Loss 0.0031, Train Accuracy 93.57%\n",
      "Train Loss 0.0029, Train Accuracy 93.69%\n",
      "Train Loss 0.0028, Train Accuracy 93.96%\n",
      "Train Loss 0.0029, Train Accuracy 93.74%\n",
      "Train Loss 0.0028, Train Accuracy 93.96%\n",
      "Train Loss 0.0028, Train Accuracy 94.02%\n",
      "Train Loss 0.0027, Train Accuracy 94.04%\n",
      "Epoch 7\n",
      "Train Loss 0.0027, Train Accuracy 93.04%\n",
      "Train Loss 0.0027, Train Accuracy 93.98%\n",
      "Train Loss 0.0027, Train Accuracy 94.10%\n",
      "Train Loss 0.0026, Train Accuracy 94.46%\n",
      "Train Loss 0.0025, Train Accuracy 94.62%\n",
      "Train Loss 0.0024, Train Accuracy 94.73%\n",
      "Train Loss 0.0024, Train Accuracy 94.70%\n",
      "Train Loss 0.0024, Train Accuracy 94.63%\n",
      "Epoch 8\n",
      "Train Loss 0.0021, Train Accuracy 95.88%\n",
      "Train Loss 0.0022, Train Accuracy 95.23%\n",
      "Train Loss 0.0022, Train Accuracy 95.16%\n",
      "Train Loss 0.0022, Train Accuracy 95.27%\n",
      "Train Loss 0.0022, Train Accuracy 95.31%\n",
      "Train Loss 0.0021, Train Accuracy 95.38%\n",
      "Train Loss 0.0021, Train Accuracy 95.37%\n",
      "Train Loss 0.0021, Train Accuracy 95.38%\n",
      "Epoch 9\n",
      "Train Loss 0.0017, Train Accuracy 95.74%\n",
      "Train Loss 0.0020, Train Accuracy 95.64%\n",
      "Train Loss 0.0020, Train Accuracy 95.82%\n",
      "Train Loss 0.0020, Train Accuracy 95.67%\n",
      "Train Loss 0.0020, Train Accuracy 95.70%\n",
      "Train Loss 0.0020, Train Accuracy 95.74%\n",
      "Train Loss 0.0020, Train Accuracy 95.74%\n",
      "Train Loss 0.0020, Train Accuracy 95.73%\n"
     ]
    }
   ],
   "source": [
    "for i in range(10):\n",
    "    train(net, device, train_loader, criterion, optimizer, i)"
   ]
  },
  {
   "cell_type": "code",
   "execution_count": 16,
   "id": "433894cc",
   "metadata": {
    "execution": {
     "iopub.execute_input": "2023-11-13T18:08:55.872992Z",
     "iopub.status.busy": "2023-11-13T18:08:55.872660Z",
     "iopub.status.idle": "2023-11-13T18:09:59.316179Z",
     "shell.execute_reply": "2023-11-13T18:09:59.315246Z"
    },
    "papermill": {
     "duration": 63.480711,
     "end_time": "2023-11-13T18:09:59.318595",
     "exception": false,
     "start_time": "2023-11-13T18:08:55.837884",
     "status": "completed"
    },
    "tags": []
   },
   "outputs": [
    {
     "name": "stdout",
     "output_type": "stream",
     "text": [
      "Epoch 0\n",
      "Train Loss 0.0017, Train Accuracy 96.31%\n",
      "Train Loss 0.0022, Train Accuracy 95.41%\n",
      "Train Loss 0.0023, Train Accuracy 95.07%\n",
      "Train Loss 0.0023, Train Accuracy 95.17%\n",
      "Train Loss 0.0022, Train Accuracy 95.36%\n",
      "Train Loss 0.0020, Train Accuracy 95.70%\n",
      "Train Loss 0.0019, Train Accuracy 96.07%\n",
      "Train Loss 0.0017, Train Accuracy 96.47%\n",
      "Epoch 1\n",
      "Train Loss 0.0005, Train Accuracy 99.43%\n",
      "Train Loss 0.0007, Train Accuracy 98.79%\n",
      "Train Loss 0.0007, Train Accuracy 98.82%\n",
      "Train Loss 0.0007, Train Accuracy 98.85%\n",
      "Train Loss 0.0007, Train Accuracy 98.79%\n",
      "Train Loss 0.0007, Train Accuracy 98.84%\n",
      "Train Loss 0.0007, Train Accuracy 98.91%\n",
      "Train Loss 0.0006, Train Accuracy 98.98%\n",
      "Epoch 2\n",
      "Train Loss 0.0003, Train Accuracy 99.72%\n",
      "Train Loss 0.0005, Train Accuracy 99.32%\n",
      "Train Loss 0.0005, Train Accuracy 99.36%\n",
      "Train Loss 0.0005, Train Accuracy 99.35%\n",
      "Train Loss 0.0005, Train Accuracy 99.33%\n",
      "Train Loss 0.0005, Train Accuracy 99.36%\n",
      "Train Loss 0.0004, Train Accuracy 99.39%\n",
      "Train Loss 0.0004, Train Accuracy 99.43%\n",
      "Epoch 3\n",
      "Train Loss 0.0003, Train Accuracy 99.86%\n",
      "Train Loss 0.0004, Train Accuracy 99.61%\n",
      "Train Loss 0.0004, Train Accuracy 99.59%\n",
      "Train Loss 0.0004, Train Accuracy 99.56%\n",
      "Train Loss 0.0004, Train Accuracy 99.57%\n",
      "Train Loss 0.0003, Train Accuracy 99.60%\n",
      "Train Loss 0.0003, Train Accuracy 99.63%\n",
      "Train Loss 0.0003, Train Accuracy 99.65%\n",
      "Epoch 4\n",
      "Train Loss 0.0002, Train Accuracy 99.86%\n",
      "Train Loss 0.0003, Train Accuracy 99.70%\n",
      "Train Loss 0.0003, Train Accuracy 99.70%\n",
      "Train Loss 0.0003, Train Accuracy 99.68%\n",
      "Train Loss 0.0003, Train Accuracy 99.70%\n",
      "Train Loss 0.0003, Train Accuracy 99.71%\n",
      "Train Loss 0.0003, Train Accuracy 99.73%\n",
      "Train Loss 0.0003, Train Accuracy 99.75%\n"
     ]
    }
   ],
   "source": [
    "optimizer = torch.optim.SGD(net.parameters(), lr = 0.001, momentum = 0.9)\n",
    "for i in range(5):\n",
    "    train(net, device, train_loader, criterion, optimizer, i)"
   ]
  },
  {
   "cell_type": "code",
   "execution_count": 17,
   "id": "01186afd",
   "metadata": {
    "execution": {
     "iopub.execute_input": "2023-11-13T18:09:59.412134Z",
     "iopub.status.busy": "2023-11-13T18:09:59.411290Z",
     "iopub.status.idle": "2023-11-13T18:10:01.686743Z",
     "shell.execute_reply": "2023-11-13T18:10:01.685788Z"
    },
    "papermill": {
     "duration": 2.327995,
     "end_time": "2023-11-13T18:10:01.688971",
     "exception": false,
     "start_time": "2023-11-13T18:09:59.360976",
     "status": "completed"
    },
    "tags": []
   },
   "outputs": [
    {
     "name": "stdout",
     "output_type": "stream",
     "text": [
      "End of the Testing. Test Accuracy 58.19%\n"
     ]
    }
   ],
   "source": [
    "test(net, device, test_loader)"
   ]
  },
  {
   "cell_type": "code",
   "execution_count": 18,
   "id": "6ab7b5ca",
   "metadata": {
    "execution": {
     "iopub.execute_input": "2023-11-13T18:10:01.763796Z",
     "iopub.status.busy": "2023-11-13T18:10:01.763461Z",
     "iopub.status.idle": "2023-11-13T18:10:01.781668Z",
     "shell.execute_reply": "2023-11-13T18:10:01.780622Z"
    },
    "papermill": {
     "duration": 0.057771,
     "end_time": "2023-11-13T18:10:01.783624",
     "exception": false,
     "start_time": "2023-11-13T18:10:01.725853",
     "status": "completed"
    },
    "tags": []
   },
   "outputs": [
    {
     "name": "stdout",
     "output_type": "stream",
     "text": [
      "Parameter containing:\n",
      "tensor([[-0.2548, -0.1505],\n",
      "        [ 0.2258, -0.6179]], requires_grad=True)\n"
     ]
    }
   ],
   "source": [
    "# print(net.weight)\n",
    "net = nn.Linear(2,2)\n",
    "w = net.weight\n",
    "print(w)"
   ]
  },
  {
   "cell_type": "code",
   "execution_count": 19,
   "id": "90de661f",
   "metadata": {
    "execution": {
     "iopub.execute_input": "2023-11-13T18:10:01.858702Z",
     "iopub.status.busy": "2023-11-13T18:10:01.858227Z",
     "iopub.status.idle": "2023-11-13T18:10:01.869887Z",
     "shell.execute_reply": "2023-11-13T18:10:01.868792Z"
    },
    "papermill": {
     "duration": 0.051176,
     "end_time": "2023-11-13T18:10:01.871851",
     "exception": false,
     "start_time": "2023-11-13T18:10:01.820675",
     "status": "completed"
    },
    "tags": []
   },
   "outputs": [
    {
     "name": "stdout",
     "output_type": "stream",
     "text": [
      "Parameter containing:\n",
      "tensor([[-0.2569, -0.1598],\n",
      "        [ 0.2237, -0.6272]], requires_grad=True)\n"
     ]
    }
   ],
   "source": [
    "x = torch.rand(1,2)\n",
    "y = net(x).sum()\n",
    "\n",
    "y.backward()\n",
    "net.weight.data -= 0.01 * net.weight.grad \n",
    "print(w)"
   ]
  },
  {
   "cell_type": "code",
   "execution_count": 20,
   "id": "888b6276",
   "metadata": {
    "execution": {
     "iopub.execute_input": "2023-11-13T18:10:01.946218Z",
     "iopub.status.busy": "2023-11-13T18:10:01.945921Z",
     "iopub.status.idle": "2023-11-13T18:10:01.952185Z",
     "shell.execute_reply": "2023-11-13T18:10:01.951274Z"
    },
    "papermill": {
     "duration": 0.045636,
     "end_time": "2023-11-13T18:10:01.954070",
     "exception": false,
     "start_time": "2023-11-13T18:10:01.908434",
     "status": "completed"
    },
    "tags": []
   },
   "outputs": [
    {
     "name": "stdout",
     "output_type": "stream",
     "text": [
      "tensor([[-0.5970,  0.3632],\n",
      "        [ 0.3057, -0.6260]], grad_fn=<CloneBackward0>)\n"
     ]
    }
   ],
   "source": [
    "net = nn.Linear(2,2)\n",
    "w = net.weight.clone()\n",
    "print(w)"
   ]
  },
  {
   "cell_type": "code",
   "execution_count": 21,
   "id": "66a8e039",
   "metadata": {
    "execution": {
     "iopub.execute_input": "2023-11-13T18:10:02.030787Z",
     "iopub.status.busy": "2023-11-13T18:10:02.029942Z",
     "iopub.status.idle": "2023-11-13T18:10:02.037107Z",
     "shell.execute_reply": "2023-11-13T18:10:02.036155Z"
    },
    "papermill": {
     "duration": 0.047853,
     "end_time": "2023-11-13T18:10:02.039102",
     "exception": false,
     "start_time": "2023-11-13T18:10:01.991249",
     "status": "completed"
    },
    "tags": []
   },
   "outputs": [
    {
     "name": "stdout",
     "output_type": "stream",
     "text": [
      "tensor([[-0.5970,  0.3632],\n",
      "        [ 0.3057, -0.6260]], grad_fn=<CloneBackward0>)\n"
     ]
    }
   ],
   "source": [
    "x = torch.rand(1,2)\n",
    "y = net(x).sum()\n",
    "y.backward()\n",
    "net.weight.data -= 0.01 * net.weight.grad\n",
    "print(w)"
   ]
  },
  {
   "cell_type": "code",
   "execution_count": 22,
   "id": "d17e35ca",
   "metadata": {
    "execution": {
     "iopub.execute_input": "2023-11-13T18:10:02.117873Z",
     "iopub.status.busy": "2023-11-13T18:10:02.117510Z",
     "iopub.status.idle": "2023-11-13T18:10:02.126333Z",
     "shell.execute_reply": "2023-11-13T18:10:02.125221Z"
    },
    "papermill": {
     "duration": 0.049245,
     "end_time": "2023-11-13T18:10:02.128194",
     "exception": false,
     "start_time": "2023-11-13T18:10:02.078949",
     "status": "completed"
    },
    "tags": []
   },
   "outputs": [
    {
     "name": "stdout",
     "output_type": "stream",
     "text": [
      "tensor([[-0.5326, -0.2379],\n",
      "        [ 0.1200,  0.8089]])\n",
      "tensor([[-0.5326, -0.2379],\n",
      "        [ 0.1200,  0.8089]])\n"
     ]
    }
   ],
   "source": [
    "## Sharing weights\n",
    "\n",
    "net = nn.Sequential(nn.Linear(2,2), nn.Linear(2,2))\n",
    "net[0].weight = net[1].weight\n",
    "\n",
    "x = torch.rand(1,2)\n",
    "y = net(x).sum()\n",
    "y.backward()\n",
    "print(net[0].weight.grad)\n",
    "print(net[1].weight.grad)\n"
   ]
  },
  {
   "cell_type": "code",
   "execution_count": null,
   "id": "601062ae",
   "metadata": {
    "papermill": {
     "duration": 0.037149,
     "end_time": "2023-11-13T18:10:02.202980",
     "exception": false,
     "start_time": "2023-11-13T18:10:02.165831",
     "status": "completed"
    },
    "tags": []
   },
   "outputs": [],
   "source": []
  }
 ],
 "metadata": {
  "kaggle": {
   "accelerator": "gpu",
   "dataSources": [
    {
     "datasetId": 42895,
     "sourceId": 76089,
     "sourceType": "datasetVersion"
    }
   ],
   "dockerImageVersionId": 30580,
   "isGpuEnabled": true,
   "isInternetEnabled": true,
   "language": "python",
   "sourceType": "notebook"
  },
  "kernelspec": {
   "display_name": "Python 3",
   "language": "python",
   "name": "python3"
  },
  "language_info": {
   "codemirror_mode": {
    "name": "ipython",
    "version": 3
   },
   "file_extension": ".py",
   "mimetype": "text/x-python",
   "name": "python",
   "nbconvert_exporter": "python",
   "pygments_lexer": "ipython3",
   "version": "3.10.12"
  },
  "papermill": {
   "default_parameters": {},
   "duration": 602.76696,
   "end_time": "2023-11-13T18:10:03.664149",
   "environment_variables": {},
   "exception": null,
   "input_path": "__notebook__.ipynb",
   "output_path": "__notebook__.ipynb",
   "parameters": {},
   "start_time": "2023-11-13T18:00:00.897189",
   "version": "2.4.0"
  }
 },
 "nbformat": 4,
 "nbformat_minor": 5
}
