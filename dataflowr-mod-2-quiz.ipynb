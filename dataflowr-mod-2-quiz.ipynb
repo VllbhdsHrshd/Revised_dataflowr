{
 "cells": [
  {
   "cell_type": "code",
   "execution_count": 1,
   "id": "e4d56a83",
   "metadata": {
    "_cell_guid": "b1076dfc-b9ad-4769-8c92-a6c4dae69d19",
    "_uuid": "8f2839f25d086af736a60e9eeb907d3b93b6e0e5",
    "execution": {
     "iopub.execute_input": "2023-11-07T18:52:25.462106Z",
     "iopub.status.busy": "2023-11-07T18:52:25.461817Z",
     "iopub.status.idle": "2023-11-07T18:52:28.594987Z",
     "shell.execute_reply": "2023-11-07T18:52:28.594147Z"
    },
    "papermill": {
     "duration": 3.144354,
     "end_time": "2023-11-07T18:52:28.597396",
     "exception": false,
     "start_time": "2023-11-07T18:52:25.453042",
     "status": "completed"
    },
    "tags": []
   },
   "outputs": [],
   "source": [
    "import matplotlib.pyplot as plt\n",
    "import torch as tr\n",
    "import numpy as np\n",
    "%matplotlib inline"
   ]
  },
  {
   "cell_type": "code",
   "execution_count": 2,
   "id": "5bedc3f2",
   "metadata": {
    "execution": {
     "iopub.execute_input": "2023-11-07T18:52:28.613561Z",
     "iopub.status.busy": "2023-11-07T18:52:28.613150Z",
     "iopub.status.idle": "2023-11-07T18:52:28.620011Z",
     "shell.execute_reply": "2023-11-07T18:52:28.619124Z"
    },
    "papermill": {
     "duration": 0.017168,
     "end_time": "2023-11-07T18:52:28.622047",
     "exception": false,
     "start_time": "2023-11-07T18:52:28.604879",
     "status": "completed"
    },
    "tags": []
   },
   "outputs": [
    {
     "data": {
      "text/plain": [
       "'2.0.0'"
      ]
     },
     "execution_count": 2,
     "metadata": {},
     "output_type": "execute_result"
    }
   ],
   "source": [
    "tr.__version__"
   ]
  },
  {
   "cell_type": "code",
   "execution_count": 3,
   "id": "52fa66f5",
   "metadata": {
    "execution": {
     "iopub.execute_input": "2023-11-07T18:52:28.638534Z",
     "iopub.status.busy": "2023-11-07T18:52:28.638248Z",
     "iopub.status.idle": "2023-11-07T18:52:28.644210Z",
     "shell.execute_reply": "2023-11-07T18:52:28.643421Z"
    },
    "papermill": {
     "duration": 0.01643,
     "end_time": "2023-11-07T18:52:28.646188",
     "exception": false,
     "start_time": "2023-11-07T18:52:28.629758",
     "status": "completed"
    },
    "tags": []
   },
   "outputs": [
    {
     "data": {
      "text/plain": [
       "(array([1., 1., 1., 1., 1.]), 1, 5)"
      ]
     },
     "execution_count": 3,
     "metadata": {},
     "output_type": "execute_result"
    }
   ],
   "source": [
    "x = np.ones(5)\n",
    "x, x.ndim, x.size"
   ]
  },
  {
   "cell_type": "code",
   "execution_count": 4,
   "id": "561507dd",
   "metadata": {
    "execution": {
     "iopub.execute_input": "2023-11-07T18:52:28.662752Z",
     "iopub.status.busy": "2023-11-07T18:52:28.662034Z",
     "iopub.status.idle": "2023-11-07T18:52:28.739403Z",
     "shell.execute_reply": "2023-11-07T18:52:28.738438Z"
    },
    "papermill": {
     "duration": 0.087708,
     "end_time": "2023-11-07T18:52:28.741458",
     "exception": false,
     "start_time": "2023-11-07T18:52:28.653750",
     "status": "completed"
    },
    "tags": []
   },
   "outputs": [
    {
     "data": {
      "text/plain": [
       "(tensor([1., 1., 1., 1., 1.], dtype=torch.float64), torch.Size([5]), 1)"
      ]
     },
     "execution_count": 4,
     "metadata": {},
     "output_type": "execute_result"
    }
   ],
   "source": [
    "y = tr.from_numpy(x)\n",
    "y, y.size(), y.ndim"
   ]
  },
  {
   "cell_type": "code",
   "execution_count": 5,
   "id": "83635e53",
   "metadata": {
    "execution": {
     "iopub.execute_input": "2023-11-07T18:52:28.758245Z",
     "iopub.status.busy": "2023-11-07T18:52:28.757845Z",
     "iopub.status.idle": "2023-11-07T18:52:28.763991Z",
     "shell.execute_reply": "2023-11-07T18:52:28.763093Z"
    },
    "papermill": {
     "duration": 0.016605,
     "end_time": "2023-11-07T18:52:28.765882",
     "exception": false,
     "start_time": "2023-11-07T18:52:28.749277",
     "status": "completed"
    },
    "tags": []
   },
   "outputs": [
    {
     "data": {
      "text/plain": [
       "(dtype('float64'), torch.float64)"
      ]
     },
     "execution_count": 5,
     "metadata": {},
     "output_type": "execute_result"
    }
   ],
   "source": [
    "x.dtype, y.dtype"
   ]
  },
  {
   "cell_type": "code",
   "execution_count": 6,
   "id": "858906f9",
   "metadata": {
    "execution": {
     "iopub.execute_input": "2023-11-07T18:52:28.782521Z",
     "iopub.status.busy": "2023-11-07T18:52:28.782010Z",
     "iopub.status.idle": "2023-11-07T18:52:28.788186Z",
     "shell.execute_reply": "2023-11-07T18:52:28.787319Z"
    },
    "papermill": {
     "duration": 0.016561,
     "end_time": "2023-11-07T18:52:28.790052",
     "exception": false,
     "start_time": "2023-11-07T18:52:28.773491",
     "status": "completed"
    },
    "tags": []
   },
   "outputs": [
    {
     "data": {
      "text/plain": [
       "torch.uint8"
      ]
     },
     "execution_count": 6,
     "metadata": {},
     "output_type": "execute_result"
    }
   ],
   "source": [
    "y = y.to(tr.uint8)\n",
    "y.dtype"
   ]
  },
  {
   "cell_type": "code",
   "execution_count": 7,
   "id": "c8d02e03",
   "metadata": {
    "execution": {
     "iopub.execute_input": "2023-11-07T18:52:28.806998Z",
     "iopub.status.busy": "2023-11-07T18:52:28.806461Z",
     "iopub.status.idle": "2023-11-07T18:52:28.813393Z",
     "shell.execute_reply": "2023-11-07T18:52:28.812679Z"
    },
    "papermill": {
     "duration": 0.0174,
     "end_time": "2023-11-07T18:52:28.815362",
     "exception": false,
     "start_time": "2023-11-07T18:52:28.797962",
     "status": "completed"
    },
    "tags": []
   },
   "outputs": [
    {
     "data": {
      "text/plain": [
       "(array([1., 1., 0., 1., 1.]), tensor([1, 1, 1, 5, 1], dtype=torch.uint8))"
      ]
     },
     "execution_count": 7,
     "metadata": {},
     "output_type": "execute_result"
    }
   ],
   "source": [
    "x[2] = 0\n",
    "y[3] = 5\n",
    "x,y"
   ]
  },
  {
   "cell_type": "code",
   "execution_count": 8,
   "id": "e1b7c795",
   "metadata": {
    "execution": {
     "iopub.execute_input": "2023-11-07T18:52:28.832374Z",
     "iopub.status.busy": "2023-11-07T18:52:28.831845Z",
     "iopub.status.idle": "2023-11-07T18:52:28.892467Z",
     "shell.execute_reply": "2023-11-07T18:52:28.891480Z"
    },
    "papermill": {
     "duration": 0.071464,
     "end_time": "2023-11-07T18:52:28.894541",
     "exception": false,
     "start_time": "2023-11-07T18:52:28.823077",
     "status": "completed"
    },
    "tags": []
   },
   "outputs": [
    {
     "data": {
      "text/plain": [
       "True"
      ]
     },
     "execution_count": 8,
     "metadata": {},
     "output_type": "execute_result"
    }
   ],
   "source": [
    "tr.cuda.is_available()"
   ]
  },
  {
   "cell_type": "code",
   "execution_count": 9,
   "id": "ad5c8a73",
   "metadata": {
    "execution": {
     "iopub.execute_input": "2023-11-07T18:52:28.911893Z",
     "iopub.status.busy": "2023-11-07T18:52:28.911555Z",
     "iopub.status.idle": "2023-11-07T18:52:28.915711Z",
     "shell.execute_reply": "2023-11-07T18:52:28.914880Z"
    },
    "papermill": {
     "duration": 0.015058,
     "end_time": "2023-11-07T18:52:28.917710",
     "exception": false,
     "start_time": "2023-11-07T18:52:28.902652",
     "status": "completed"
    },
    "tags": []
   },
   "outputs": [],
   "source": [
    "device = tr.device('cuda')"
   ]
  },
  {
   "cell_type": "code",
   "execution_count": 10,
   "id": "ccd2dc82",
   "metadata": {
    "execution": {
     "iopub.execute_input": "2023-11-07T18:52:28.935308Z",
     "iopub.status.busy": "2023-11-07T18:52:28.935000Z",
     "iopub.status.idle": "2023-11-07T18:52:28.940509Z",
     "shell.execute_reply": "2023-11-07T18:52:28.939661Z"
    },
    "papermill": {
     "duration": 0.016626,
     "end_time": "2023-11-07T18:52:28.942465",
     "exception": false,
     "start_time": "2023-11-07T18:52:28.925839",
     "status": "completed"
    },
    "tags": []
   },
   "outputs": [
    {
     "data": {
      "text/plain": [
       "device(type='cuda')"
      ]
     },
     "execution_count": 10,
     "metadata": {},
     "output_type": "execute_result"
    }
   ],
   "source": [
    "device"
   ]
  },
  {
   "cell_type": "code",
   "execution_count": 11,
   "id": "9487f827",
   "metadata": {
    "execution": {
     "iopub.execute_input": "2023-11-07T18:52:28.959705Z",
     "iopub.status.busy": "2023-11-07T18:52:28.959405Z",
     "iopub.status.idle": "2023-11-07T18:52:31.917802Z",
     "shell.execute_reply": "2023-11-07T18:52:31.916594Z"
    },
    "papermill": {
     "duration": 2.969318,
     "end_time": "2023-11-07T18:52:31.919814",
     "exception": false,
     "start_time": "2023-11-07T18:52:28.950496",
     "status": "completed"
    },
    "tags": []
   },
   "outputs": [
    {
     "data": {
      "text/plain": [
       "(array([1., 4., 1., 0., 1.]),\n",
       " tensor([1., 4., 1., 0., 1.], dtype=torch.float64),\n",
       " False,\n",
       " False)"
      ]
     },
     "execution_count": 11,
     "metadata": {},
     "output_type": "execute_result"
    }
   ],
   "source": [
    "a = np.ones(5)\n",
    "b = tr.from_numpy(a)\n",
    "b.to(device)\n",
    "# assert id(a)==id(b)\n",
    "a[3]=0\n",
    "b[1]= 4\n",
    "a,b, a is b, b is a"
   ]
  },
  {
   "cell_type": "code",
   "execution_count": 12,
   "id": "7e0d6ac1",
   "metadata": {
    "execution": {
     "iopub.execute_input": "2023-11-07T18:52:31.939250Z",
     "iopub.status.busy": "2023-11-07T18:52:31.938922Z",
     "iopub.status.idle": "2023-11-07T18:52:31.944739Z",
     "shell.execute_reply": "2023-11-07T18:52:31.943778Z"
    },
    "papermill": {
     "duration": 0.016987,
     "end_time": "2023-11-07T18:52:31.946723",
     "exception": false,
     "start_time": "2023-11-07T18:52:31.929736",
     "status": "completed"
    },
    "tags": []
   },
   "outputs": [
    {
     "data": {
      "text/plain": [
       "device(type='cpu')"
      ]
     },
     "execution_count": 12,
     "metadata": {},
     "output_type": "execute_result"
    }
   ],
   "source": [
    "b.device"
   ]
  },
  {
   "cell_type": "code",
   "execution_count": 13,
   "id": "180727fd",
   "metadata": {
    "execution": {
     "iopub.execute_input": "2023-11-07T18:52:31.966632Z",
     "iopub.status.busy": "2023-11-07T18:52:31.966328Z",
     "iopub.status.idle": "2023-11-07T18:52:31.972816Z",
     "shell.execute_reply": "2023-11-07T18:52:31.972082Z"
    },
    "papermill": {
     "duration": 0.018271,
     "end_time": "2023-11-07T18:52:31.974733",
     "exception": false,
     "start_time": "2023-11-07T18:52:31.956462",
     "status": "completed"
    },
    "tags": []
   },
   "outputs": [
    {
     "data": {
      "text/plain": [
       "(device(type='cuda', index=0), array([1., 4., 1., 0., 1.]))"
      ]
     },
     "execution_count": 13,
     "metadata": {},
     "output_type": "execute_result"
    }
   ],
   "source": [
    "b=b.to(device)\n",
    "b.device, a\n"
   ]
  },
  {
   "cell_type": "code",
   "execution_count": 14,
   "id": "19b49cb7",
   "metadata": {
    "execution": {
     "iopub.execute_input": "2023-11-07T18:52:31.992578Z",
     "iopub.status.busy": "2023-11-07T18:52:31.992302Z",
     "iopub.status.idle": "2023-11-07T18:52:31.999108Z",
     "shell.execute_reply": "2023-11-07T18:52:31.998311Z"
    },
    "papermill": {
     "duration": 0.018003,
     "end_time": "2023-11-07T18:52:32.001036",
     "exception": false,
     "start_time": "2023-11-07T18:52:31.983033",
     "status": "completed"
    },
    "tags": []
   },
   "outputs": [
    {
     "data": {
      "text/plain": [
       "(tensor([1., 1., 1., 5., 1.]), False)"
      ]
     },
     "execution_count": 14,
     "metadata": {},
     "output_type": "execute_result"
    }
   ],
   "source": [
    "b = tr.tensor([1,1,1,5,1], dtype=tr.float)\n",
    "b, b.requires_grad"
   ]
  },
  {
   "cell_type": "code",
   "execution_count": 15,
   "id": "14d4b70c",
   "metadata": {
    "execution": {
     "iopub.execute_input": "2023-11-07T18:52:32.019524Z",
     "iopub.status.busy": "2023-11-07T18:52:32.019270Z",
     "iopub.status.idle": "2023-11-07T18:52:32.023643Z",
     "shell.execute_reply": "2023-11-07T18:52:32.022736Z"
    },
    "papermill": {
     "duration": 0.01621,
     "end_time": "2023-11-07T18:52:32.025896",
     "exception": false,
     "start_time": "2023-11-07T18:52:32.009686",
     "status": "completed"
    },
    "tags": []
   },
   "outputs": [
    {
     "name": "stdout",
     "output_type": "stream",
     "text": [
      "None\n"
     ]
    }
   ],
   "source": [
    "b.requires_grad_(True)\n",
    "print(b.grad)"
   ]
  },
  {
   "cell_type": "code",
   "execution_count": 16,
   "id": "1abcd55e",
   "metadata": {
    "execution": {
     "iopub.execute_input": "2023-11-07T18:52:32.044467Z",
     "iopub.status.busy": "2023-11-07T18:52:32.044218Z",
     "iopub.status.idle": "2023-11-07T18:52:32.065645Z",
     "shell.execute_reply": "2023-11-07T18:52:32.064637Z"
    },
    "papermill": {
     "duration": 0.032787,
     "end_time": "2023-11-07T18:52:32.067569",
     "exception": false,
     "start_time": "2023-11-07T18:52:32.034782",
     "status": "completed"
    },
    "tags": []
   },
   "outputs": [
    {
     "name": "stdout",
     "output_type": "stream",
     "text": [
      "tensor(16., grad_fn=<AddBackward0>)\n",
      "tensor(16., grad_fn=<AddBackward0>)\n"
     ]
    }
   ],
   "source": [
    "l = sum((b-1)**2)\n",
    "print(l)\n",
    "l.backward()\n",
    "print(l)\n"
   ]
  },
  {
   "cell_type": "code",
   "execution_count": 17,
   "id": "7a6fe3d5",
   "metadata": {
    "execution": {
     "iopub.execute_input": "2023-11-07T18:52:32.086263Z",
     "iopub.status.busy": "2023-11-07T18:52:32.085961Z",
     "iopub.status.idle": "2023-11-07T18:52:32.091726Z",
     "shell.execute_reply": "2023-11-07T18:52:32.090860Z"
    },
    "papermill": {
     "duration": 0.017106,
     "end_time": "2023-11-07T18:52:32.093532",
     "exception": false,
     "start_time": "2023-11-07T18:52:32.076426",
     "status": "completed"
    },
    "tags": []
   },
   "outputs": [
    {
     "name": "stdout",
     "output_type": "stream",
     "text": [
      "tensor(16.) <class 'torch.Tensor'>\n"
     ]
    }
   ],
   "source": [
    "m = sum((b.data-1)**2)\n",
    "print(m, type(m))\n",
    "# m.backward() # RuntimeError: element 0 of tensors does not require grad and does not have a grad_fn\n"
   ]
  },
  {
   "cell_type": "code",
   "execution_count": 18,
   "id": "9232b807",
   "metadata": {
    "execution": {
     "iopub.execute_input": "2023-11-07T18:52:32.112096Z",
     "iopub.status.busy": "2023-11-07T18:52:32.111845Z",
     "iopub.status.idle": "2023-11-07T18:52:32.117533Z",
     "shell.execute_reply": "2023-11-07T18:52:32.116658Z"
    },
    "papermill": {
     "duration": 0.017106,
     "end_time": "2023-11-07T18:52:32.119426",
     "exception": false,
     "start_time": "2023-11-07T18:52:32.102320",
     "status": "completed"
    },
    "tags": []
   },
   "outputs": [
    {
     "name": "stdout",
     "output_type": "stream",
     "text": [
      "tensor(16., grad_fn=<AddBackward0>) <class 'torch.Tensor'> 0 0\n"
     ]
    }
   ],
   "source": [
    "n = sum((b-1)**2)\n",
    "print(n, type(n),m.ndim,n.ndim)"
   ]
  },
  {
   "cell_type": "code",
   "execution_count": 19,
   "id": "2711a4d9",
   "metadata": {
    "execution": {
     "iopub.execute_input": "2023-11-07T18:52:32.138470Z",
     "iopub.status.busy": "2023-11-07T18:52:32.137996Z",
     "iopub.status.idle": "2023-11-07T18:52:32.143380Z",
     "shell.execute_reply": "2023-11-07T18:52:32.142507Z"
    },
    "papermill": {
     "duration": 0.01714,
     "end_time": "2023-11-07T18:52:32.145375",
     "exception": false,
     "start_time": "2023-11-07T18:52:32.128235",
     "status": "completed"
    },
    "tags": []
   },
   "outputs": [],
   "source": [
    "# b-1,sum((b-1)**2)\n",
    "# n.backward() ## result in error\n",
    "#RuntimeError: Trying to backward through the graph a second time (or directly access saved tensors after they have already been freed). Saved intermediate values of the graph are freed when you call .backward() or autograd.grad(). Specify retain_graph=True if you need to backward through the graph a second time or if you need to access saved tensors after calling backward.#\n",
    "n.backward(retain_graph=True)"
   ]
  },
  {
   "cell_type": "code",
   "execution_count": 20,
   "id": "612de8c0",
   "metadata": {
    "execution": {
     "iopub.execute_input": "2023-11-07T18:52:32.164190Z",
     "iopub.status.busy": "2023-11-07T18:52:32.163925Z",
     "iopub.status.idle": "2023-11-07T18:52:32.169014Z",
     "shell.execute_reply": "2023-11-07T18:52:32.168101Z"
    },
    "papermill": {
     "duration": 0.01662,
     "end_time": "2023-11-07T18:52:32.170896",
     "exception": false,
     "start_time": "2023-11-07T18:52:32.154276",
     "status": "completed"
    },
    "tags": []
   },
   "outputs": [
    {
     "name": "stdout",
     "output_type": "stream",
     "text": [
      "tensor([ 0.,  0.,  0., 16.,  0.])\n"
     ]
    }
   ],
   "source": [
    "print(b.grad)"
   ]
  },
  {
   "cell_type": "code",
   "execution_count": 21,
   "id": "837d3d86",
   "metadata": {
    "execution": {
     "iopub.execute_input": "2023-11-07T18:52:32.189971Z",
     "iopub.status.busy": "2023-11-07T18:52:32.189301Z",
     "iopub.status.idle": "2023-11-07T18:52:32.193570Z",
     "shell.execute_reply": "2023-11-07T18:52:32.192747Z"
    },
    "papermill": {
     "duration": 0.015878,
     "end_time": "2023-11-07T18:52:32.195667",
     "exception": false,
     "start_time": "2023-11-07T18:52:32.179789",
     "status": "completed"
    },
    "tags": []
   },
   "outputs": [],
   "source": [
    "m.requires_grad_(True)\n",
    "m.backward()"
   ]
  },
  {
   "cell_type": "code",
   "execution_count": 22,
   "id": "59a1aefd",
   "metadata": {
    "execution": {
     "iopub.execute_input": "2023-11-07T18:52:32.214369Z",
     "iopub.status.busy": "2023-11-07T18:52:32.214077Z",
     "iopub.status.idle": "2023-11-07T18:52:32.219451Z",
     "shell.execute_reply": "2023-11-07T18:52:32.218348Z"
    },
    "papermill": {
     "duration": 0.016928,
     "end_time": "2023-11-07T18:52:32.221348",
     "exception": false,
     "start_time": "2023-11-07T18:52:32.204420",
     "status": "completed"
    },
    "tags": []
   },
   "outputs": [
    {
     "name": "stdout",
     "output_type": "stream",
     "text": [
      "tensor(16., requires_grad=True)\n"
     ]
    }
   ],
   "source": [
    "print(m)"
   ]
  },
  {
   "cell_type": "code",
   "execution_count": 23,
   "id": "d55637bf",
   "metadata": {
    "execution": {
     "iopub.execute_input": "2023-11-07T18:52:32.240312Z",
     "iopub.status.busy": "2023-11-07T18:52:32.240026Z",
     "iopub.status.idle": "2023-11-07T18:52:32.245518Z",
     "shell.execute_reply": "2023-11-07T18:52:32.244392Z"
    },
    "papermill": {
     "duration": 0.017077,
     "end_time": "2023-11-07T18:52:32.247292",
     "exception": false,
     "start_time": "2023-11-07T18:52:32.230215",
     "status": "completed"
    },
    "tags": []
   },
   "outputs": [
    {
     "name": "stdout",
     "output_type": "stream",
     "text": [
      "tensor([ 0.,  0.,  0., 16.,  0.])\n"
     ]
    }
   ],
   "source": [
    "print(b.grad)"
   ]
  },
  {
   "cell_type": "code",
   "execution_count": 24,
   "id": "33891fff",
   "metadata": {
    "execution": {
     "iopub.execute_input": "2023-11-07T18:52:32.266633Z",
     "iopub.status.busy": "2023-11-07T18:52:32.265971Z",
     "iopub.status.idle": "2023-11-07T18:52:47.136643Z",
     "shell.execute_reply": "2023-11-07T18:52:47.135816Z"
    },
    "papermill": {
     "duration": 14.882706,
     "end_time": "2023-11-07T18:52:47.138968",
     "exception": false,
     "start_time": "2023-11-07T18:52:32.256262",
     "status": "completed"
    },
    "tags": []
   },
   "outputs": [
    {
     "name": "stdout",
     "output_type": "stream",
     "text": [
      "Collecting torchviz\r\n",
      "  Downloading torchviz-0.0.2.tar.gz (4.9 kB)\r\n",
      "  Preparing metadata (setup.py) ... \u001b[?25ldone\r\n",
      "\u001b[?25hRequirement already satisfied: torch in /opt/conda/lib/python3.10/site-packages (from torchviz) (2.0.0)\r\n",
      "Requirement already satisfied: graphviz in /opt/conda/lib/python3.10/site-packages (from torchviz) (0.20.1)\r\n",
      "Requirement already satisfied: filelock in /opt/conda/lib/python3.10/site-packages (from torch->torchviz) (3.12.2)\r\n",
      "Requirement already satisfied: typing-extensions in /opt/conda/lib/python3.10/site-packages (from torch->torchviz) (4.6.3)\r\n",
      "Requirement already satisfied: sympy in /opt/conda/lib/python3.10/site-packages (from torch->torchviz) (1.12)\r\n",
      "Requirement already satisfied: networkx in /opt/conda/lib/python3.10/site-packages (from torch->torchviz) (3.1)\r\n",
      "Requirement already satisfied: jinja2 in /opt/conda/lib/python3.10/site-packages (from torch->torchviz) (3.1.2)\r\n",
      "Requirement already satisfied: MarkupSafe>=2.0 in /opt/conda/lib/python3.10/site-packages (from jinja2->torch->torchviz) (2.1.3)\r\n",
      "Requirement already satisfied: mpmath>=0.19 in /opt/conda/lib/python3.10/site-packages (from sympy->torch->torchviz) (1.3.0)\r\n",
      "Building wheels for collected packages: torchviz\r\n",
      "  Building wheel for torchviz (setup.py) ... \u001b[?25l-\b \bdone\r\n",
      "\u001b[?25h  Created wheel for torchviz: filename=torchviz-0.0.2-py3-none-any.whl size=4131 sha256=6b9f868c9fed777b65518d1c65914e2ecbbcb020be93bc1de24aeb5d244e4015\r\n",
      "  Stored in directory: /root/.cache/pip/wheels/4c/97/88/a02973217949e0db0c9f4346d154085f4725f99c4f15a87094\r\n",
      "Successfully built torchviz\r\n",
      "Installing collected packages: torchviz\r\n",
      "Successfully installed torchviz-0.0.2\r\n"
     ]
    }
   ],
   "source": [
    "!pip install torchviz\n",
    "from torchviz import make_dot\n"
   ]
  },
  {
   "cell_type": "code",
   "execution_count": 25,
   "id": "72c7a5db",
   "metadata": {
    "execution": {
     "iopub.execute_input": "2023-11-07T18:52:47.160393Z",
     "iopub.status.busy": "2023-11-07T18:52:47.160092Z",
     "iopub.status.idle": "2023-11-07T18:52:47.327316Z",
     "shell.execute_reply": "2023-11-07T18:52:47.326351Z"
    },
    "papermill": {
     "duration": 0.180294,
     "end_time": "2023-11-07T18:52:47.329497",
     "exception": false,
     "start_time": "2023-11-07T18:52:47.149203",
     "status": "completed"
    },
    "tags": []
   },
   "outputs": [
    {
     "data": {
      "image/svg+xml": [
       "<?xml version=\"1.0\" encoding=\"UTF-8\" standalone=\"no\"?>\n",
       "<!DOCTYPE svg PUBLIC \"-//W3C//DTD SVG 1.1//EN\"\n",
       " \"http://www.w3.org/Graphics/SVG/1.1/DTD/svg11.dtd\">\n",
       "<!-- Generated by graphviz version 8.0.5 (20230506.1012)\n",
       " -->\n",
       "<!-- Pages: 1 -->\n",
       "<svg width=\"246pt\" height=\"620pt\"\n",
       " viewBox=\"0.00 0.00 246.00 620.25\" xmlns=\"http://www.w3.org/2000/svg\" xmlns:xlink=\"http://www.w3.org/1999/xlink\">\n",
       "<g id=\"graph0\" class=\"graph\" transform=\"scale(1 1) rotate(0) translate(4 616.25)\">\n",
       "<polygon fill=\"white\" stroke=\"none\" points=\"-4,4 -4,-616.25 242,-616.25 242,4 -4,4\"/>\n",
       "<!-- 139625604840912 -->\n",
       "<g id=\"node1\" class=\"node\">\n",
       "<title>139625604840912</title>\n",
       "<polygon fill=\"#caff70\" stroke=\"black\" points=\"71,-32.75 17,-32.75 17,0 71,0 71,-32.75\"/>\n",
       "<text text-anchor=\"middle\" x=\"44\" y=\"-7.25\" font-family=\"monospace\" font-size=\"10.00\"> ()</text>\n",
       "</g>\n",
       "<!-- 139625463474800 -->\n",
       "<g id=\"node2\" class=\"node\">\n",
       "<title>139625463474800</title>\n",
       "<polygon fill=\"lightgrey\" stroke=\"black\" points=\"88,-89.5 0,-89.5 0,-68.75 88,-68.75 88,-89.5\"/>\n",
       "<text text-anchor=\"middle\" x=\"44\" y=\"-76\" font-family=\"monospace\" font-size=\"10.00\">AddBackward0</text>\n",
       "</g>\n",
       "<!-- 139625463474800&#45;&gt;139625604840912 -->\n",
       "<g id=\"edge14\" class=\"edge\">\n",
       "<title>139625463474800&#45;&gt;139625604840912</title>\n",
       "<path fill=\"none\" stroke=\"black\" d=\"M44,-68.36C44,-61.74 44,-52.64 44,-43.96\"/>\n",
       "<polygon fill=\"black\" stroke=\"black\" points=\"47.5,-44.04 44,-34.04 40.5,-44.04 47.5,-44.04\"/>\n",
       "</g>\n",
       "<!-- 139625463474416 -->\n",
       "<g id=\"node3\" class=\"node\">\n",
       "<title>139625463474416</title>\n",
       "<polygon fill=\"lightgrey\" stroke=\"black\" points=\"124,-146.25 36,-146.25 36,-125.5 124,-125.5 124,-146.25\"/>\n",
       "<text text-anchor=\"middle\" x=\"80\" y=\"-132.75\" font-family=\"monospace\" font-size=\"10.00\">AddBackward0</text>\n",
       "</g>\n",
       "<!-- 139625463474416&#45;&gt;139625463474800 -->\n",
       "<g id=\"edge1\" class=\"edge\">\n",
       "<title>139625463474416&#45;&gt;139625463474800</title>\n",
       "<path fill=\"none\" stroke=\"black\" d=\"M73.56,-125.09C68.8,-117.85 62.17,-107.76 56.39,-98.97\"/>\n",
       "<polygon fill=\"black\" stroke=\"black\" points=\"58.8,-97.26 50.38,-90.83 52.95,-101.11 58.8,-97.26\"/>\n",
       "</g>\n",
       "<!-- 139625463474848 -->\n",
       "<g id=\"node4\" class=\"node\">\n",
       "<title>139625463474848</title>\n",
       "<polygon fill=\"lightgrey\" stroke=\"black\" points=\"162,-203 74,-203 74,-182.25 162,-182.25 162,-203\"/>\n",
       "<text text-anchor=\"middle\" x=\"118\" y=\"-189.5\" font-family=\"monospace\" font-size=\"10.00\">AddBackward0</text>\n",
       "</g>\n",
       "<!-- 139625463474848&#45;&gt;139625463474416 -->\n",
       "<g id=\"edge2\" class=\"edge\">\n",
       "<title>139625463474848&#45;&gt;139625463474416</title>\n",
       "<path fill=\"none\" stroke=\"black\" d=\"M111.21,-181.84C106.13,-174.52 99.03,-164.29 92.89,-155.44\"/>\n",
       "<polygon fill=\"black\" stroke=\"black\" points=\"95.31,-153.8 86.73,-147.58 89.56,-157.79 95.31,-153.8\"/>\n",
       "</g>\n",
       "<!-- 139625463474320 -->\n",
       "<g id=\"node5\" class=\"node\">\n",
       "<title>139625463474320</title>\n",
       "<polygon fill=\"lightgrey\" stroke=\"black\" points=\"200,-259.75 112,-259.75 112,-239 200,-239 200,-259.75\"/>\n",
       "<text text-anchor=\"middle\" x=\"156\" y=\"-246.25\" font-family=\"monospace\" font-size=\"10.00\">AddBackward0</text>\n",
       "</g>\n",
       "<!-- 139625463474320&#45;&gt;139625463474848 -->\n",
       "<g id=\"edge3\" class=\"edge\">\n",
       "<title>139625463474320&#45;&gt;139625463474848</title>\n",
       "<path fill=\"none\" stroke=\"black\" d=\"M149.21,-238.59C144.13,-231.27 137.03,-221.04 130.89,-212.19\"/>\n",
       "<polygon fill=\"black\" stroke=\"black\" points=\"133.31,-210.55 124.73,-204.33 127.56,-214.54 133.31,-210.55\"/>\n",
       "</g>\n",
       "<!-- 139625463474224 -->\n",
       "<g id=\"node6\" class=\"node\">\n",
       "<title>139625463474224</title>\n",
       "<polygon fill=\"lightgrey\" stroke=\"black\" points=\"238,-316.5 150,-316.5 150,-295.75 238,-295.75 238,-316.5\"/>\n",
       "<text text-anchor=\"middle\" x=\"194\" y=\"-303\" font-family=\"monospace\" font-size=\"10.00\">AddBackward0</text>\n",
       "</g>\n",
       "<!-- 139625463474224&#45;&gt;139625463474320 -->\n",
       "<g id=\"edge4\" class=\"edge\">\n",
       "<title>139625463474224&#45;&gt;139625463474320</title>\n",
       "<path fill=\"none\" stroke=\"black\" d=\"M187.21,-295.34C182.13,-288.02 175.03,-277.79 168.89,-268.94\"/>\n",
       "<polygon fill=\"black\" stroke=\"black\" points=\"171.31,-267.3 162.73,-261.08 165.56,-271.29 171.31,-267.3\"/>\n",
       "</g>\n",
       "<!-- 139625463474656 -->\n",
       "<g id=\"node7\" class=\"node\">\n",
       "<title>139625463474656</title>\n",
       "<polygon fill=\"lightgrey\" stroke=\"black\" points=\"137,-373.25 31,-373.25 31,-352.5 137,-352.5 137,-373.25\"/>\n",
       "<text text-anchor=\"middle\" x=\"84\" y=\"-359.75\" font-family=\"monospace\" font-size=\"10.00\">UnbindBackward0</text>\n",
       "</g>\n",
       "<!-- 139625463474656&#45;&gt;139625463474800 -->\n",
       "<g id=\"edge13\" class=\"edge\">\n",
       "<title>139625463474656&#45;&gt;139625463474800</title>\n",
       "<path fill=\"none\" stroke=\"black\" d=\"M71.11,-352.06C49.42,-334.33 8,-294.65 8,-250.38 8,-250.38 8,-250.38 8,-191.62 8,-158.04 22.97,-121.4 33.61,-99.61\"/>\n",
       "<polygon fill=\"black\" stroke=\"black\" points=\"37.12,-101.43 38.53,-90.93 30.88,-98.25 37.12,-101.43\"/>\n",
       "</g>\n",
       "<!-- 139625463474656&#45;&gt;139625463474416 -->\n",
       "<g id=\"edge12\" class=\"edge\">\n",
       "<title>139625463474656&#45;&gt;139625463474416</title>\n",
       "<path fill=\"none\" stroke=\"black\" d=\"M81.15,-352.09C73.65,-324.98 54.63,-246.65 65,-182.25 66.36,-173.77 69.08,-164.74 71.82,-156.98\"/>\n",
       "<polygon fill=\"black\" stroke=\"black\" points=\"75.44,-158.33 75.72,-147.74 68.89,-155.84 75.44,-158.33\"/>\n",
       "</g>\n",
       "<!-- 139625463474656&#45;&gt;139625463474848 -->\n",
       "<g id=\"edge11\" class=\"edge\">\n",
       "<title>139625463474656&#45;&gt;139625463474848</title>\n",
       "<path fill=\"none\" stroke=\"black\" d=\"M84.94,-352.21C87.1,-331.33 92.99,-280.55 103,-239 105.04,-230.55 107.92,-221.41 110.61,-213.56\"/>\n",
       "<polygon fill=\"black\" stroke=\"black\" points=\"114.24,-214.82 114.31,-204.23 107.65,-212.47 114.24,-214.82\"/>\n",
       "</g>\n",
       "<!-- 139625463474656&#45;&gt;139625463474320 -->\n",
       "<g id=\"edge10\" class=\"edge\">\n",
       "<title>139625463474656&#45;&gt;139625463474320</title>\n",
       "<path fill=\"none\" stroke=\"black\" d=\"M90.14,-352.37C101.98,-334.03 128.18,-293.45 143.73,-269.37\"/>\n",
       "<polygon fill=\"black\" stroke=\"black\" points=\"147.19,-271.47 149.67,-261.18 141.31,-267.68 147.19,-271.47\"/>\n",
       "</g>\n",
       "<!-- 139625463474656&#45;&gt;139625463474224 -->\n",
       "<g id=\"edge5\" class=\"edge\">\n",
       "<title>139625463474656&#45;&gt;139625463474224</title>\n",
       "<path fill=\"none\" stroke=\"black\" d=\"M103.67,-352.09C120.64,-343.64 145.39,-331.32 164.7,-321.71\"/>\n",
       "<polygon fill=\"black\" stroke=\"black\" points=\"166.11,-324.42 173.5,-316.83 162.99,-318.15 166.11,-324.42\"/>\n",
       "</g>\n",
       "<!-- 139625463473984 -->\n",
       "<g id=\"node8\" class=\"node\">\n",
       "<title>139625463473984</title>\n",
       "<polygon fill=\"lightgrey\" stroke=\"black\" points=\"128,-430 40,-430 40,-409.25 128,-409.25 128,-430\"/>\n",
       "<text text-anchor=\"middle\" x=\"84\" y=\"-416.5\" font-family=\"monospace\" font-size=\"10.00\">PowBackward0</text>\n",
       "</g>\n",
       "<!-- 139625463473984&#45;&gt;139625463474656 -->\n",
       "<g id=\"edge6\" class=\"edge\">\n",
       "<title>139625463473984&#45;&gt;139625463474656</title>\n",
       "<path fill=\"none\" stroke=\"black\" d=\"M84,-408.84C84,-402.06 84,-392.8 84,-384.44\"/>\n",
       "<polygon fill=\"black\" stroke=\"black\" points=\"87.5,-384.58 84,-374.58 80.5,-384.58 87.5,-384.58\"/>\n",
       "</g>\n",
       "<!-- 139625463473888 -->\n",
       "<g id=\"node9\" class=\"node\">\n",
       "<title>139625463473888</title>\n",
       "<polygon fill=\"lightgrey\" stroke=\"black\" points=\"128,-486.75 40,-486.75 40,-466 128,-466 128,-486.75\"/>\n",
       "<text text-anchor=\"middle\" x=\"84\" y=\"-473.25\" font-family=\"monospace\" font-size=\"10.00\">SubBackward0</text>\n",
       "</g>\n",
       "<!-- 139625463473888&#45;&gt;139625463473984 -->\n",
       "<g id=\"edge7\" class=\"edge\">\n",
       "<title>139625463473888&#45;&gt;139625463473984</title>\n",
       "<path fill=\"none\" stroke=\"black\" d=\"M84,-465.59C84,-458.81 84,-449.55 84,-441.19\"/>\n",
       "<polygon fill=\"black\" stroke=\"black\" points=\"87.5,-441.33 84,-431.33 80.5,-441.33 87.5,-441.33\"/>\n",
       "</g>\n",
       "<!-- 139625463473744 -->\n",
       "<g id=\"node10\" class=\"node\">\n",
       "<title>139625463473744</title>\n",
       "<polygon fill=\"lightgrey\" stroke=\"black\" points=\"134,-543.5 34,-543.5 34,-522.75 134,-522.75 134,-543.5\"/>\n",
       "<text text-anchor=\"middle\" x=\"84\" y=\"-530\" font-family=\"monospace\" font-size=\"10.00\">AccumulateGrad</text>\n",
       "</g>\n",
       "<!-- 139625463473744&#45;&gt;139625463473888 -->\n",
       "<g id=\"edge8\" class=\"edge\">\n",
       "<title>139625463473744&#45;&gt;139625463473888</title>\n",
       "<path fill=\"none\" stroke=\"black\" d=\"M84,-522.34C84,-515.56 84,-506.3 84,-497.94\"/>\n",
       "<polygon fill=\"black\" stroke=\"black\" points=\"87.5,-498.08 84,-488.08 80.5,-498.08 87.5,-498.08\"/>\n",
       "</g>\n",
       "<!-- 139628357922272 -->\n",
       "<g id=\"node11\" class=\"node\">\n",
       "<title>139628357922272</title>\n",
       "<polygon fill=\"lightblue\" stroke=\"black\" points=\"111,-612.25 57,-612.25 57,-579.5 111,-579.5 111,-612.25\"/>\n",
       "<text text-anchor=\"middle\" x=\"84\" y=\"-586.75\" font-family=\"monospace\" font-size=\"10.00\"> (5)</text>\n",
       "</g>\n",
       "<!-- 139628357922272&#45;&gt;139625463473744 -->\n",
       "<g id=\"edge9\" class=\"edge\">\n",
       "<title>139628357922272&#45;&gt;139625463473744</title>\n",
       "<path fill=\"none\" stroke=\"black\" d=\"M84,-579.23C84,-571.67 84,-562.51 84,-554.42\"/>\n",
       "<polygon fill=\"black\" stroke=\"black\" points=\"87.5,-554.65 84,-544.65 80.5,-554.65 87.5,-554.65\"/>\n",
       "</g>\n",
       "</g>\n",
       "</svg>\n"
      ],
      "text/plain": [
       "<graphviz.graphs.Digraph at 0x7efdef42fa30>"
      ]
     },
     "execution_count": 25,
     "metadata": {},
     "output_type": "execute_result"
    }
   ],
   "source": [
    "make_dot(l)"
   ]
  },
  {
   "cell_type": "code",
   "execution_count": 26,
   "id": "6728e7d8",
   "metadata": {
    "execution": {
     "iopub.execute_input": "2023-11-07T18:52:47.351408Z",
     "iopub.status.busy": "2023-11-07T18:52:47.351083Z",
     "iopub.status.idle": "2023-11-07T18:52:47.377199Z",
     "shell.execute_reply": "2023-11-07T18:52:47.376401Z"
    },
    "papermill": {
     "duration": 0.039192,
     "end_time": "2023-11-07T18:52:47.379090",
     "exception": false,
     "start_time": "2023-11-07T18:52:47.339898",
     "status": "completed"
    },
    "tags": []
   },
   "outputs": [
    {
     "data": {
      "image/svg+xml": [
       "<?xml version=\"1.0\" encoding=\"UTF-8\" standalone=\"no\"?>\n",
       "<!DOCTYPE svg PUBLIC \"-//W3C//DTD SVG 1.1//EN\"\n",
       " \"http://www.w3.org/Graphics/SVG/1.1/DTD/svg11.dtd\">\n",
       "<!-- Generated by graphviz version 8.0.5 (20230506.1012)\n",
       " -->\n",
       "<!-- Pages: 1 -->\n",
       "<svg width=\"246pt\" height=\"620pt\"\n",
       " viewBox=\"0.00 0.00 246.00 620.25\" xmlns=\"http://www.w3.org/2000/svg\" xmlns:xlink=\"http://www.w3.org/1999/xlink\">\n",
       "<g id=\"graph0\" class=\"graph\" transform=\"scale(1 1) rotate(0) translate(4 616.25)\">\n",
       "<polygon fill=\"white\" stroke=\"none\" points=\"-4,4 -4,-616.25 242,-616.25 242,4 -4,4\"/>\n",
       "<!-- 139629104650720 -->\n",
       "<g id=\"node1\" class=\"node\">\n",
       "<title>139629104650720</title>\n",
       "<polygon fill=\"#caff70\" stroke=\"black\" points=\"71,-32.75 17,-32.75 17,0 71,0 71,-32.75\"/>\n",
       "<text text-anchor=\"middle\" x=\"44\" y=\"-7.25\" font-family=\"monospace\" font-size=\"10.00\"> ()</text>\n",
       "</g>\n",
       "<!-- 139625463475904 -->\n",
       "<g id=\"node2\" class=\"node\">\n",
       "<title>139625463475904</title>\n",
       "<polygon fill=\"lightgrey\" stroke=\"black\" points=\"88,-89.5 0,-89.5 0,-68.75 88,-68.75 88,-89.5\"/>\n",
       "<text text-anchor=\"middle\" x=\"44\" y=\"-76\" font-family=\"monospace\" font-size=\"10.00\">AddBackward0</text>\n",
       "</g>\n",
       "<!-- 139625463475904&#45;&gt;139629104650720 -->\n",
       "<g id=\"edge14\" class=\"edge\">\n",
       "<title>139625463475904&#45;&gt;139629104650720</title>\n",
       "<path fill=\"none\" stroke=\"black\" d=\"M44,-68.36C44,-61.74 44,-52.64 44,-43.96\"/>\n",
       "<polygon fill=\"black\" stroke=\"black\" points=\"47.5,-44.04 44,-34.04 40.5,-44.04 47.5,-44.04\"/>\n",
       "</g>\n",
       "<!-- 139625463473696 -->\n",
       "<g id=\"node3\" class=\"node\">\n",
       "<title>139625463473696</title>\n",
       "<polygon fill=\"lightgrey\" stroke=\"black\" points=\"124,-146.25 36,-146.25 36,-125.5 124,-125.5 124,-146.25\"/>\n",
       "<text text-anchor=\"middle\" x=\"80\" y=\"-132.75\" font-family=\"monospace\" font-size=\"10.00\">AddBackward0</text>\n",
       "</g>\n",
       "<!-- 139625463473696&#45;&gt;139625463475904 -->\n",
       "<g id=\"edge1\" class=\"edge\">\n",
       "<title>139625463473696&#45;&gt;139625463475904</title>\n",
       "<path fill=\"none\" stroke=\"black\" d=\"M73.56,-125.09C68.8,-117.85 62.17,-107.76 56.39,-98.97\"/>\n",
       "<polygon fill=\"black\" stroke=\"black\" points=\"58.8,-97.26 50.38,-90.83 52.95,-101.11 58.8,-97.26\"/>\n",
       "</g>\n",
       "<!-- 139625463473552 -->\n",
       "<g id=\"node4\" class=\"node\">\n",
       "<title>139625463473552</title>\n",
       "<polygon fill=\"lightgrey\" stroke=\"black\" points=\"162,-203 74,-203 74,-182.25 162,-182.25 162,-203\"/>\n",
       "<text text-anchor=\"middle\" x=\"118\" y=\"-189.5\" font-family=\"monospace\" font-size=\"10.00\">AddBackward0</text>\n",
       "</g>\n",
       "<!-- 139625463473552&#45;&gt;139625463473696 -->\n",
       "<g id=\"edge2\" class=\"edge\">\n",
       "<title>139625463473552&#45;&gt;139625463473696</title>\n",
       "<path fill=\"none\" stroke=\"black\" d=\"M111.21,-181.84C106.13,-174.52 99.03,-164.29 92.89,-155.44\"/>\n",
       "<polygon fill=\"black\" stroke=\"black\" points=\"95.31,-153.8 86.73,-147.58 89.56,-157.79 95.31,-153.8\"/>\n",
       "</g>\n",
       "<!-- 139625463475664 -->\n",
       "<g id=\"node5\" class=\"node\">\n",
       "<title>139625463475664</title>\n",
       "<polygon fill=\"lightgrey\" stroke=\"black\" points=\"200,-259.75 112,-259.75 112,-239 200,-239 200,-259.75\"/>\n",
       "<text text-anchor=\"middle\" x=\"156\" y=\"-246.25\" font-family=\"monospace\" font-size=\"10.00\">AddBackward0</text>\n",
       "</g>\n",
       "<!-- 139625463475664&#45;&gt;139625463473552 -->\n",
       "<g id=\"edge3\" class=\"edge\">\n",
       "<title>139625463475664&#45;&gt;139625463473552</title>\n",
       "<path fill=\"none\" stroke=\"black\" d=\"M149.21,-238.59C144.13,-231.27 137.03,-221.04 130.89,-212.19\"/>\n",
       "<polygon fill=\"black\" stroke=\"black\" points=\"133.31,-210.55 124.73,-204.33 127.56,-214.54 133.31,-210.55\"/>\n",
       "</g>\n",
       "<!-- 139625463476000 -->\n",
       "<g id=\"node6\" class=\"node\">\n",
       "<title>139625463476000</title>\n",
       "<polygon fill=\"lightgrey\" stroke=\"black\" points=\"238,-316.5 150,-316.5 150,-295.75 238,-295.75 238,-316.5\"/>\n",
       "<text text-anchor=\"middle\" x=\"194\" y=\"-303\" font-family=\"monospace\" font-size=\"10.00\">AddBackward0</text>\n",
       "</g>\n",
       "<!-- 139625463476000&#45;&gt;139625463475664 -->\n",
       "<g id=\"edge4\" class=\"edge\">\n",
       "<title>139625463476000&#45;&gt;139625463475664</title>\n",
       "<path fill=\"none\" stroke=\"black\" d=\"M187.21,-295.34C182.13,-288.02 175.03,-277.79 168.89,-268.94\"/>\n",
       "<polygon fill=\"black\" stroke=\"black\" points=\"171.31,-267.3 162.73,-261.08 165.56,-271.29 171.31,-267.3\"/>\n",
       "</g>\n",
       "<!-- 139625463475808 -->\n",
       "<g id=\"node7\" class=\"node\">\n",
       "<title>139625463475808</title>\n",
       "<polygon fill=\"lightgrey\" stroke=\"black\" points=\"137,-373.25 31,-373.25 31,-352.5 137,-352.5 137,-373.25\"/>\n",
       "<text text-anchor=\"middle\" x=\"84\" y=\"-359.75\" font-family=\"monospace\" font-size=\"10.00\">UnbindBackward0</text>\n",
       "</g>\n",
       "<!-- 139625463475808&#45;&gt;139625463475904 -->\n",
       "<g id=\"edge13\" class=\"edge\">\n",
       "<title>139625463475808&#45;&gt;139625463475904</title>\n",
       "<path fill=\"none\" stroke=\"black\" d=\"M71.11,-352.06C49.42,-334.33 8,-294.65 8,-250.38 8,-250.38 8,-250.38 8,-191.62 8,-158.04 22.97,-121.4 33.61,-99.61\"/>\n",
       "<polygon fill=\"black\" stroke=\"black\" points=\"37.12,-101.43 38.53,-90.93 30.88,-98.25 37.12,-101.43\"/>\n",
       "</g>\n",
       "<!-- 139625463475808&#45;&gt;139625463473696 -->\n",
       "<g id=\"edge12\" class=\"edge\">\n",
       "<title>139625463475808&#45;&gt;139625463473696</title>\n",
       "<path fill=\"none\" stroke=\"black\" d=\"M81.15,-352.09C73.65,-324.98 54.63,-246.65 65,-182.25 66.36,-173.77 69.08,-164.74 71.82,-156.98\"/>\n",
       "<polygon fill=\"black\" stroke=\"black\" points=\"75.44,-158.33 75.72,-147.74 68.89,-155.84 75.44,-158.33\"/>\n",
       "</g>\n",
       "<!-- 139625463475808&#45;&gt;139625463473552 -->\n",
       "<g id=\"edge11\" class=\"edge\">\n",
       "<title>139625463475808&#45;&gt;139625463473552</title>\n",
       "<path fill=\"none\" stroke=\"black\" d=\"M84.94,-352.21C87.1,-331.33 92.99,-280.55 103,-239 105.04,-230.55 107.92,-221.41 110.61,-213.56\"/>\n",
       "<polygon fill=\"black\" stroke=\"black\" points=\"114.24,-214.82 114.31,-204.23 107.65,-212.47 114.24,-214.82\"/>\n",
       "</g>\n",
       "<!-- 139625463475808&#45;&gt;139625463475664 -->\n",
       "<g id=\"edge10\" class=\"edge\">\n",
       "<title>139625463475808&#45;&gt;139625463475664</title>\n",
       "<path fill=\"none\" stroke=\"black\" d=\"M90.14,-352.37C101.98,-334.03 128.18,-293.45 143.73,-269.37\"/>\n",
       "<polygon fill=\"black\" stroke=\"black\" points=\"147.19,-271.47 149.67,-261.18 141.31,-267.68 147.19,-271.47\"/>\n",
       "</g>\n",
       "<!-- 139625463475808&#45;&gt;139625463476000 -->\n",
       "<g id=\"edge5\" class=\"edge\">\n",
       "<title>139625463475808&#45;&gt;139625463476000</title>\n",
       "<path fill=\"none\" stroke=\"black\" d=\"M103.67,-352.09C120.64,-343.64 145.39,-331.32 164.7,-321.71\"/>\n",
       "<polygon fill=\"black\" stroke=\"black\" points=\"166.11,-324.42 173.5,-316.83 162.99,-318.15 166.11,-324.42\"/>\n",
       "</g>\n",
       "<!-- 139625463476144 -->\n",
       "<g id=\"node8\" class=\"node\">\n",
       "<title>139625463476144</title>\n",
       "<polygon fill=\"lightgrey\" stroke=\"black\" points=\"128,-430 40,-430 40,-409.25 128,-409.25 128,-430\"/>\n",
       "<text text-anchor=\"middle\" x=\"84\" y=\"-416.5\" font-family=\"monospace\" font-size=\"10.00\">PowBackward0</text>\n",
       "</g>\n",
       "<!-- 139625463476144&#45;&gt;139625463475808 -->\n",
       "<g id=\"edge6\" class=\"edge\">\n",
       "<title>139625463476144&#45;&gt;139625463475808</title>\n",
       "<path fill=\"none\" stroke=\"black\" d=\"M84,-408.84C84,-402.06 84,-392.8 84,-384.44\"/>\n",
       "<polygon fill=\"black\" stroke=\"black\" points=\"87.5,-384.58 84,-374.58 80.5,-384.58 87.5,-384.58\"/>\n",
       "</g>\n",
       "<!-- 139625463476288 -->\n",
       "<g id=\"node9\" class=\"node\">\n",
       "<title>139625463476288</title>\n",
       "<polygon fill=\"lightgrey\" stroke=\"black\" points=\"128,-486.75 40,-486.75 40,-466 128,-466 128,-486.75\"/>\n",
       "<text text-anchor=\"middle\" x=\"84\" y=\"-473.25\" font-family=\"monospace\" font-size=\"10.00\">SubBackward0</text>\n",
       "</g>\n",
       "<!-- 139625463476288&#45;&gt;139625463476144 -->\n",
       "<g id=\"edge7\" class=\"edge\">\n",
       "<title>139625463476288&#45;&gt;139625463476144</title>\n",
       "<path fill=\"none\" stroke=\"black\" d=\"M84,-465.59C84,-458.81 84,-449.55 84,-441.19\"/>\n",
       "<polygon fill=\"black\" stroke=\"black\" points=\"87.5,-441.33 84,-431.33 80.5,-441.33 87.5,-441.33\"/>\n",
       "</g>\n",
       "<!-- 139625463473744 -->\n",
       "<g id=\"node10\" class=\"node\">\n",
       "<title>139625463473744</title>\n",
       "<polygon fill=\"lightgrey\" stroke=\"black\" points=\"134,-543.5 34,-543.5 34,-522.75 134,-522.75 134,-543.5\"/>\n",
       "<text text-anchor=\"middle\" x=\"84\" y=\"-530\" font-family=\"monospace\" font-size=\"10.00\">AccumulateGrad</text>\n",
       "</g>\n",
       "<!-- 139625463473744&#45;&gt;139625463476288 -->\n",
       "<g id=\"edge8\" class=\"edge\">\n",
       "<title>139625463473744&#45;&gt;139625463476288</title>\n",
       "<path fill=\"none\" stroke=\"black\" d=\"M84,-522.34C84,-515.56 84,-506.3 84,-497.94\"/>\n",
       "<polygon fill=\"black\" stroke=\"black\" points=\"87.5,-498.08 84,-488.08 80.5,-498.08 87.5,-498.08\"/>\n",
       "</g>\n",
       "<!-- 139628357922272 -->\n",
       "<g id=\"node11\" class=\"node\">\n",
       "<title>139628357922272</title>\n",
       "<polygon fill=\"lightblue\" stroke=\"black\" points=\"111,-612.25 57,-612.25 57,-579.5 111,-579.5 111,-612.25\"/>\n",
       "<text text-anchor=\"middle\" x=\"84\" y=\"-586.75\" font-family=\"monospace\" font-size=\"10.00\"> (5)</text>\n",
       "</g>\n",
       "<!-- 139628357922272&#45;&gt;139625463473744 -->\n",
       "<g id=\"edge9\" class=\"edge\">\n",
       "<title>139628357922272&#45;&gt;139625463473744</title>\n",
       "<path fill=\"none\" stroke=\"black\" d=\"M84,-579.23C84,-571.67 84,-562.51 84,-554.42\"/>\n",
       "<polygon fill=\"black\" stroke=\"black\" points=\"87.5,-554.65 84,-544.65 80.5,-554.65 87.5,-554.65\"/>\n",
       "</g>\n",
       "</g>\n",
       "</svg>\n"
      ],
      "text/plain": [
       "<graphviz.graphs.Digraph at 0x7efd1626ee90>"
      ]
     },
     "execution_count": 26,
     "metadata": {},
     "output_type": "execute_result"
    }
   ],
   "source": [
    "make_dot(n)"
   ]
  },
  {
   "cell_type": "code",
   "execution_count": null,
   "id": "f964a7b1",
   "metadata": {
    "papermill": {
     "duration": 0.010135,
     "end_time": "2023-11-07T18:52:47.399712",
     "exception": false,
     "start_time": "2023-11-07T18:52:47.389577",
     "status": "completed"
    },
    "tags": []
   },
   "outputs": [],
   "source": []
  }
 ],
 "metadata": {
  "kernelspec": {
   "display_name": "Python 3",
   "language": "python",
   "name": "python3"
  },
  "language_info": {
   "codemirror_mode": {
    "name": "ipython",
    "version": 3
   },
   "file_extension": ".py",
   "mimetype": "text/x-python",
   "name": "python",
   "nbconvert_exporter": "python",
   "pygments_lexer": "ipython3",
   "version": "3.10.12"
  },
  "papermill": {
   "default_parameters": {},
   "duration": 27.499163,
   "end_time": "2023-11-07T18:52:49.645224",
   "environment_variables": {},
   "exception": null,
   "input_path": "__notebook__.ipynb",
   "output_path": "__notebook__.ipynb",
   "parameters": {},
   "start_time": "2023-11-07T18:52:22.146061",
   "version": "2.4.0"
  }
 },
 "nbformat": 4,
 "nbformat_minor": 5
}
